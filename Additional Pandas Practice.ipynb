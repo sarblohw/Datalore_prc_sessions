{
 "cells":[
  {
   "cell_type":"code",
   "source":[
    "import numpy as np\n",
    "import pandas as pd\n",
    "\n",
    "x = pd.Series(np.random.randn(4))\n",
    "\n",
    "x.axes"
   ],
   "execution_count":9,
   "outputs":[
    {
     "data":{
      "text\/plain":[
       "[RangeIndex(start=0, stop=4, step=1)]"
      ]
     },
     "metadata":{
      
     },
     "output_type":"display_data"
    }
   ],
   "metadata":{
    "datalore":{
     "node_id":"nNqS5dNTAjU1HJqnvIO3Q3",
     "type":"CODE",
     "hide_input_from_viewers":false,
     "hide_output_from_viewers":false
    }
   }
  },
  {
   "cell_type":"code",
   "source":[
    "x"
   ],
   "execution_count":10,
   "outputs":[
    {
     "data":{
      "text\/plain":[
       "0   -0.375203\n",
       "1   -1.082135\n",
       "2   -0.701193\n",
       "3   -0.799900\n",
       "dtype: float64"
      ]
     },
     "metadata":{
      
     },
     "output_type":"display_data"
    }
   ],
   "metadata":{
    "datalore":{
     "node_id":"AyfVfwsZan2qTipabCwHWn",
     "type":"CODE",
     "hide_input_from_viewers":false,
     "hide_output_from_viewers":false
    }
   }
  },
  {
   "cell_type":"code",
   "source":[
    "df = pd.DataFrame(np.random.randint(0, 100, 20).reshape(5, 4), index=[\"Row1\", \"Row2\", \"Row3\", \"Row4\", \"Row5\"], columns=[\"Col1\", \"Col2\", \"Col3\", \"Col4\"])"
   ],
   "execution_count":11,
   "outputs":[
    
   ],
   "metadata":{
    "datalore":{
     "node_id":"pIO9iqGXDjT3HCZWGx5P8E",
     "type":"CODE",
     "hide_input_from_viewers":false,
     "hide_output_from_viewers":false
    }
   }
  },
  {
   "cell_type":"code",
   "source":[
    "df"
   ],
   "execution_count":12,
   "outputs":[
    {
     "data":{
      "text\/html":[
       "<div>\n",
       "<style scoped>\n",
       "    .dataframe tbody tr th:only-of-type {\n",
       "        vertical-align: middle;\n",
       "    }\n",
       "\n",
       "    .dataframe tbody tr th {\n",
       "        vertical-align: top;\n",
       "    }\n",
       "\n",
       "    .dataframe thead th {\n",
       "        text-align: right;\n",
       "    }\n",
       "<\/style>\n",
       "<table border=\"1\" class=\"dataframe\">\n",
       "  <thead>\n",
       "    <tr style=\"text-align: right;\">\n",
       "      <th><\/th>\n",
       "      <th>Col1<\/th>\n",
       "      <th>Col2<\/th>\n",
       "      <th>Col3<\/th>\n",
       "      <th>Col4<\/th>\n",
       "    <\/tr>\n",
       "  <\/thead>\n",
       "  <tbody>\n",
       "    <tr>\n",
       "      <th>Row1<\/th>\n",
       "      <td>42<\/td>\n",
       "      <td>62<\/td>\n",
       "      <td>18<\/td>\n",
       "      <td>25<\/td>\n",
       "    <\/tr>\n",
       "    <tr>\n",
       "      <th>Row2<\/th>\n",
       "      <td>50<\/td>\n",
       "      <td>81<\/td>\n",
       "      <td>13<\/td>\n",
       "      <td>55<\/td>\n",
       "    <\/tr>\n",
       "    <tr>\n",
       "      <th>Row3<\/th>\n",
       "      <td>9<\/td>\n",
       "      <td>56<\/td>\n",
       "      <td>83<\/td>\n",
       "      <td>67<\/td>\n",
       "    <\/tr>\n",
       "    <tr>\n",
       "      <th>Row4<\/th>\n",
       "      <td>21<\/td>\n",
       "      <td>25<\/td>\n",
       "      <td>33<\/td>\n",
       "      <td>22<\/td>\n",
       "    <\/tr>\n",
       "    <tr>\n",
       "      <th>Row5<\/th>\n",
       "      <td>22<\/td>\n",
       "      <td>40<\/td>\n",
       "      <td>55<\/td>\n",
       "      <td>78<\/td>\n",
       "    <\/tr>\n",
       "  <\/tbody>\n",
       "<\/table>\n",
       "<\/div>"
      ]
     },
     "metadata":{
      
     },
     "output_type":"display_data"
    }
   ],
   "metadata":{
    "datalore":{
     "node_id":"1lEk0h8Hv1bE9U4vfYDRVe",
     "type":"CODE",
     "hide_input_from_viewers":false,
     "hide_output_from_viewers":false
    }
   }
  },
  {
   "cell_type":"code",
   "source":[
    "df[0:3]"
   ],
   "execution_count":16,
   "outputs":[
    {
     "data":{
      "text\/html":[
       "<div>\n",
       "<style scoped>\n",
       "    .dataframe tbody tr th:only-of-type {\n",
       "        vertical-align: middle;\n",
       "    }\n",
       "\n",
       "    .dataframe tbody tr th {\n",
       "        vertical-align: top;\n",
       "    }\n",
       "\n",
       "    .dataframe thead th {\n",
       "        text-align: right;\n",
       "    }\n",
       "<\/style>\n",
       "<table border=\"1\" class=\"dataframe\">\n",
       "  <thead>\n",
       "    <tr style=\"text-align: right;\">\n",
       "      <th><\/th>\n",
       "      <th>Col1<\/th>\n",
       "      <th>Col2<\/th>\n",
       "      <th>Col3<\/th>\n",
       "      <th>Col4<\/th>\n",
       "    <\/tr>\n",
       "  <\/thead>\n",
       "  <tbody>\n",
       "    <tr>\n",
       "      <th>Row1<\/th>\n",
       "      <td>42<\/td>\n",
       "      <td>62<\/td>\n",
       "      <td>18<\/td>\n",
       "      <td>25<\/td>\n",
       "    <\/tr>\n",
       "    <tr>\n",
       "      <th>Row2<\/th>\n",
       "      <td>50<\/td>\n",
       "      <td>81<\/td>\n",
       "      <td>13<\/td>\n",
       "      <td>55<\/td>\n",
       "    <\/tr>\n",
       "    <tr>\n",
       "      <th>Row3<\/th>\n",
       "      <td>9<\/td>\n",
       "      <td>56<\/td>\n",
       "      <td>83<\/td>\n",
       "      <td>67<\/td>\n",
       "    <\/tr>\n",
       "  <\/tbody>\n",
       "<\/table>\n",
       "<\/div>"
      ]
     },
     "metadata":{
      
     },
     "output_type":"display_data"
    }
   ],
   "metadata":{
    "datalore":{
     "node_id":"yqgiohPbnoPhvrVvOalNzZ",
     "type":"CODE",
     "hide_input_from_viewers":false,
     "hide_output_from_viewers":false
    }
   }
  },
  {
   "cell_type":"code",
   "source":[
    "df['Col1'][df.Col1 < 10]"
   ],
   "execution_count":17,
   "outputs":[
    {
     "data":{
      "text\/plain":[
       "Row3    9\n",
       "Name: Col1, dtype: int64"
      ]
     },
     "metadata":{
      
     },
     "output_type":"display_data"
    }
   ],
   "metadata":{
    "datalore":{
     "node_id":"cvi522eXAF4eWRb5OuQiv1",
     "type":"CODE",
     "hide_input_from_viewers":false,
     "hide_output_from_viewers":false
    }
   }
  },
  {
   "cell_type":"code",
   "source":[
    
   ],
   "execution_count":null,
   "outputs":[
    
   ],
   "metadata":{
    "datalore":{
     "node_id":"bBMx9lSoCpXBl3hdYCcvWR",
     "type":"CODE",
     "hide_input_from_viewers":false,
     "hide_output_from_viewers":false
    }
   }
  }
 ],
 "metadata":{
  "kernelspec":{
   "display_name":"Python",
   "language":"python",
   "name":"python"
  },
  "datalore":{
   "version":1,
   "computation_mode":"JUPYTER",
   "package_manager":"pip",
   "base_environment":"default",
   "packages":[
    
   ]
  }
 },
 "nbformat":4,
 "nbformat_minor":4
}