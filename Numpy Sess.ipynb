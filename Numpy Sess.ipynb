{
 "cells":[
  {
   "cell_type":"markdown",
   "source":[
    "1. Write a Python program to sum all the items in a list."
   ],
   "attachments":{
    
   },
   "metadata":{
    "datalore":{
     "node_id":"sGv9GYi7ZXHTuGmY48sbII",
     "type":"MD",
     "hide_input_from_viewers":false,
     "hide_output_from_viewers":false
    }
   }
  },
  {
   "cell_type":"code",
   "source":[
    "lst_1 = [1,2,3,4,5]"
   ],
   "execution_count":3,
   "outputs":[
    
   ],
   "metadata":{
    "datalore":{
     "node_id":"vFROZBTKMvxhC1jsMbi24x",
     "type":"CODE",
     "hide_input_from_viewers":false,
     "hide_output_from_viewers":false
    }
   }
  },
  {
   "cell_type":"code",
   "source":[
    "def sum_list(lst):\n",
    "    plus = 0\n",
    "    for i in lst:\n",
    "        plus += i\n",
    "    print(plus)\n",
    "\n",
    "sum_list(lst_1)"
   ],
   "execution_count":4,
   "outputs":[
    {
     "name":"stdout",
     "text":[
      "15\n"
     ],
     "output_type":"stream"
    }
   ],
   "metadata":{
    "datalore":{
     "node_id":"3r779v5YbJZLB8aj7hhl34",
     "type":"CODE",
     "hide_input_from_viewers":false,
     "hide_output_from_viewers":false
    }
   }
  },
  {
   "cell_type":"markdown",
   "source":[
    "2. Write a Python program to multiplies all the items in a list."
   ],
   "attachments":{
    
   },
   "metadata":{
    "datalore":{
     "node_id":"dXvVElr8JOGNbA2niQ9eso",
     "type":"MD",
     "hide_input_from_viewers":false,
     "hide_output_from_viewers":false
    }
   }
  },
  {
   "cell_type":"code",
   "source":[
    "def of_list(lst):\n",
    "    of = 1\n",
    "    for i in lst:\n",
    "        of *= i\n",
    "    print (of)\n",
    "\n",
    "of_list(lst_1)"
   ],
   "execution_count":6,
   "outputs":[
    {
     "name":"stdout",
     "text":[
      "120\n"
     ],
     "output_type":"stream"
    }
   ],
   "metadata":{
    "datalore":{
     "node_id":"yte3hy5AT7E4Yl5dvMqAhJ",
     "type":"CODE",
     "hide_input_from_viewers":false,
     "hide_output_from_viewers":false
    }
   }
  },
  {
   "cell_type":"markdown",
   "source":[
    "3. Write a Python program to get the largest number from a list."
   ],
   "attachments":{
    
   },
   "metadata":{
    "datalore":{
     "node_id":"oULGqDh7uj5zSCG5WOOWqP",
     "type":"MD",
     "hide_input_from_viewers":false,
     "hide_output_from_viewers":false
    }
   }
  },
  {
   "cell_type":"code",
   "source":[
    "def maxinlist(lst):\n",
    "    maximum = lst[0]\n",
    "    for i in lst:\n",
    "        if i > maximum:\n",
    "            maximum = i\n",
    "    print(maximum)\n",
    "\n",
    "maxinlist(lst_1)"
   ],
   "execution_count":12,
   "outputs":[
    {
     "name":"stdout",
     "text":[
      "5\n"
     ],
     "output_type":"stream"
    }
   ],
   "metadata":{
    "datalore":{
     "node_id":"UTpZW7VtWz7km6t72493Dk",
     "type":"CODE",
     "hide_input_from_viewers":false,
     "hide_output_from_viewers":false
    }
   }
  },
  {
   "cell_type":"markdown",
   "source":[
    "4. Write a Python program to get the smallest number from a list."
   ],
   "attachments":{
    
   },
   "metadata":{
    "datalore":{
     "node_id":"s2FYN8Ee4cJGdu5duVI7Lz",
     "type":"MD",
     "hide_input_from_viewers":false,
     "hide_output_from_viewers":false
    }
   }
  },
  {
   "cell_type":"code",
   "source":[
    "def mininlist(lst):\n",
    "    minimum = lst[0]\n",
    "    for i in lst:\n",
    "        if i < minimum:\n",
    "            minimum = i\n",
    "    print(minimum)\n",
    "\n",
    "mininlist(lst_1)"
   ],
   "execution_count":14,
   "outputs":[
    {
     "name":"stdout",
     "text":[
      "1\n"
     ],
     "output_type":"stream"
    }
   ],
   "metadata":{
    "datalore":{
     "node_id":"qL6C280HpYXHJBF9T0jeEz",
     "type":"CODE",
     "hide_input_from_viewers":false,
     "hide_output_from_viewers":false
    }
   }
  },
  {
   "cell_type":"markdown",
   "source":[
    "5. Write a Python program to count the number of strings where the string length is 2 or more and the first \n",
    "and last character are same from a given list of strings.\n",
    "Sample List : ['abc', 'xyz', 'aba', '1221']\n",
    "Expected Result : 2"
   ],
   "attachments":{
    
   },
   "metadata":{
    "datalore":{
     "node_id":"YtySSwEVxoRzUzlMOfnUlm",
     "type":"MD",
     "hide_input_from_viewers":false,
     "hide_output_from_viewers":false
    }
   }
  },
  {
   "cell_type":"code",
   "source":[
    "def counter(words):\n",
    "    cnt = 0    \n",
    "    for word in words:\n",
    "        if len(word) >= 2 and word[0] == word[-1]:\n",
    "            cnt += 1\n",
    "    print(cnt)\n",
    "\n",
    "lst_w = [\"Sumis\", \"SammS\", \"PiP\"]\n",
    "\n",
    "counter(lst_w)"
   ],
   "execution_count":18,
   "outputs":[
    {
     "name":"stdout",
     "text":[
      "2\n"
     ],
     "output_type":"stream"
    }
   ],
   "metadata":{
    "datalore":{
     "node_id":"k6hSsFGsmy2rMUv1VSwt9d",
     "type":"CODE",
     "hide_input_from_viewers":false,
     "hide_output_from_viewers":false
    }
   }
  },
  {
   "cell_type":"code",
   "source":[
    "new_lst = lst_w.copy()"
   ],
   "execution_count":19,
   "outputs":[
    
   ],
   "metadata":{
    "datalore":{
     "node_id":"GJaFxL5egnb5qOgz2hxlHP",
     "type":"CODE",
     "hide_input_from_viewers":false,
     "hide_output_from_viewers":false
    }
   }
  },
  {
   "cell_type":"code",
   "source":[
    "new_lst"
   ],
   "execution_count":20,
   "outputs":[
    {
     "data":{
      "text\/plain":[
       "['Sumis', 'SammS', 'PiP']"
      ]
     },
     "metadata":{
      
     },
     "output_type":"display_data"
    }
   ],
   "metadata":{
    "datalore":{
     "node_id":"uBwLPTO9Yg23KX2efB6RfE",
     "type":"CODE",
     "hide_input_from_viewers":false,
     "hide_output_from_viewers":false
    }
   }
  },
  {
   "cell_type":"code",
   "source":[
    "new_list2 = list(lst_1)"
   ],
   "execution_count":21,
   "outputs":[
    
   ],
   "metadata":{
    "datalore":{
     "node_id":"LBoYUypBvbvv0wsLyQPfHq",
     "type":"CODE",
     "hide_input_from_viewers":false,
     "hide_output_from_viewers":false
    }
   }
  },
  {
   "cell_type":"code",
   "source":[
    "new_list2"
   ],
   "execution_count":22,
   "outputs":[
    {
     "data":{
      "text\/plain":[
       "[1, 2, 3, 4, 5]"
      ]
     },
     "metadata":{
      
     },
     "output_type":"display_data"
    }
   ],
   "metadata":{
    "datalore":{
     "node_id":"C9kzNAPf2DSx9rHRE0qEe4",
     "type":"CODE",
     "hide_input_from_viewers":false,
     "hide_output_from_viewers":false
    }
   }
  },
  {
   "cell_type":"markdown",
   "source":[
    "12. Write a Python program to print a specified list after removing the 0th, 4th and 5th elements. Go to the editor\n",
    "Sample List : ['Red', 'Green', 'White', 'Black', 'Pink', 'Yellow']\n",
    "Expected Output : ['Green', 'White', 'Black']"
   ],
   "attachments":{
    
   },
   "metadata":{
    "datalore":{
     "node_id":"dzCCX8Mjg0de4FueXZSYEp",
     "type":"MD",
     "hide_input_from_viewers":false,
     "hide_output_from_viewers":false
    }
   }
  },
  {
   "cell_type":"code",
   "source":[
    "z = [o for i, o in enumerate(x) if i != 0 and i != 4 and i != 5]"
   ],
   "execution_count":37,
   "outputs":[
    
   ],
   "metadata":{
    "datalore":{
     "node_id":"0IkIPSTZK0LjLX48oPa0lt",
     "type":"CODE",
     "hide_input_from_viewers":false,
     "hide_output_from_viewers":false
    }
   }
  },
  {
   "cell_type":"code",
   "source":[
    "z"
   ],
   "execution_count":38,
   "outputs":[
    {
     "data":{
      "text\/plain":[
       "['Green', 'White', 'Black']"
      ]
     },
     "metadata":{
      
     },
     "output_type":"display_data"
    }
   ],
   "metadata":{
    "datalore":{
     "node_id":"77E5UffNtKMwjRkhKUROmE",
     "type":"CODE",
     "hide_input_from_viewers":false,
     "hide_output_from_viewers":false
    }
   }
  },
  {
   "cell_type":"code",
   "source":[
    "z = [o for i, o in enumerate(x) if i not in (0,4,5)]"
   ],
   "execution_count":39,
   "outputs":[
    
   ],
   "metadata":{
    "datalore":{
     "node_id":"dR2MVX8IIUMinp3LQXpI8o",
     "type":"CODE",
     "hide_input_from_viewers":false,
     "hide_output_from_viewers":false
    }
   }
  },
  {
   "cell_type":"code",
   "source":[
    "z"
   ],
   "execution_count":40,
   "outputs":[
    {
     "data":{
      "text\/plain":[
       "['Green', 'White', 'Black']"
      ]
     },
     "metadata":{
      
     },
     "output_type":"display_data"
    }
   ],
   "metadata":{
    "datalore":{
     "node_id":"hDHdru3yvU95La75CC3Y0H",
     "type":"CODE",
     "hide_input_from_viewers":false,
     "hide_output_from_viewers":false
    }
   }
  },
  {
   "cell_type":"code",
   "source":[
    "x = ['Red', 'Green', 'White', 'Black', 'Pink', 'Yellow']\n",
    "y = x[1:4]\n",
    "y"
   ],
   "execution_count":41,
   "outputs":[
    {
     "data":{
      "text\/plain":[
       "['Green', 'White', 'Black']"
      ]
     },
     "metadata":{
      
     },
     "output_type":"display_data"
    }
   ],
   "metadata":{
    "datalore":{
     "node_id":"Boe2Anl3Y0EU2gTQNbaddV",
     "type":"CODE",
     "hide_input_from_viewers":false,
     "hide_output_from_viewers":false
    }
   }
  },
  {
   "cell_type":"markdown",
   "source":[
    "Write a Python program to generate a 3*4*6 3D array whose each element is *."
   ],
   "attachments":{
    
   },
   "metadata":{
    "datalore":{
     "node_id":"c5qfr4AMqOEIi2ZsUUy2nM",
     "type":"MD",
     "hide_input_from_viewers":false,
     "hide_output_from_viewers":false
    }
   }
  },
  {
   "cell_type":"code",
   "source":[
    "dim_3d = [[['*' for col in range(4)] for col in range(6)]for col in range(3)]"
   ],
   "execution_count":42,
   "outputs":[
    
   ],
   "metadata":{
    "datalore":{
     "node_id":"LEs1eGoey4rbFPAJbm0mCw",
     "type":"CODE",
     "hide_input_from_viewers":false,
     "hide_output_from_viewers":false
    }
   }
  },
  {
   "cell_type":"code",
   "source":[
    "dim_3d"
   ],
   "execution_count":43,
   "outputs":[
    {
     "data":{
      "text\/plain":[
       "[[['*', '*', '*', '*'],\n",
       "  ['*', '*', '*', '*'],\n",
       "  ['*', '*', '*', '*'],\n",
       "  ['*', '*', '*', '*'],\n",
       "  ['*', '*', '*', '*'],\n",
       "  ['*', '*', '*', '*']],\n",
       " [['*', '*', '*', '*'],\n",
       "  ['*', '*', '*', '*'],\n",
       "  ['*', '*', '*', '*'],\n",
       "  ['*', '*', '*', '*'],\n",
       "  ['*', '*', '*', '*'],\n",
       "  ['*', '*', '*', '*']],\n",
       " [['*', '*', '*', '*'],\n",
       "  ['*', '*', '*', '*'],\n",
       "  ['*', '*', '*', '*'],\n",
       "  ['*', '*', '*', '*'],\n",
       "  ['*', '*', '*', '*'],\n",
       "  ['*', '*', '*', '*']]]"
      ]
     },
     "metadata":{
      
     },
     "output_type":"display_data"
    }
   ],
   "metadata":{
    "datalore":{
     "node_id":"usSw64h8Vr0ETWtwsLHm1o",
     "type":"CODE",
     "hide_input_from_viewers":false,
     "hide_output_from_viewers":false
    }
   }
  },
  {
   "cell_type":"code",
   "source":[
    "dim_4d = [[[['*' for col in range(4)] for col in range(6)]for col in range(3)]for col in range(2)]"
   ],
   "execution_count":44,
   "outputs":[
    
   ],
   "metadata":{
    "datalore":{
     "node_id":"uts8MZSNQ98N6eouLaNOWC",
     "type":"CODE",
     "hide_input_from_viewers":false,
     "hide_output_from_viewers":false
    }
   }
  },
  {
   "cell_type":"code",
   "source":[
    "dim_4d"
   ],
   "execution_count":45,
   "outputs":[
    {
     "data":{
      "text\/plain":[
       "[[[['*', '*', '*', '*'],\n",
       "   ['*', '*', '*', '*'],\n",
       "   ['*', '*', '*', '*'],\n",
       "   ['*', '*', '*', '*'],\n",
       "   ['*', '*', '*', '*'],\n",
       "   ['*', '*', '*', '*']],\n",
       "  [['*', '*', '*', '*'],\n",
       "   ['*', '*', '*', '*'],\n",
       "   ['*', '*', '*', '*'],\n",
       "   ['*', '*', '*', '*'],\n",
       "   ['*', '*', '*', '*'],\n",
       "   ['*', '*', '*', '*']],\n",
       "  [['*', '*', '*', '*'],\n",
       "   ['*', '*', '*', '*'],\n",
       "   ['*', '*', '*', '*'],\n",
       "   ['*', '*', '*', '*'],\n",
       "   ['*', '*', '*', '*'],\n",
       "   ['*', '*', '*', '*']]],\n",
       " [[['*', '*', '*', '*'],\n",
       "   ['*', '*', '*', '*'],\n",
       "   ['*', '*', '*', '*'],\n",
       "   ['*', '*', '*', '*'],\n",
       "   ['*', '*', '*', '*'],\n",
       "   ['*', '*', '*', '*']],\n",
       "  [['*', '*', '*', '*'],\n",
       "   ['*', '*', '*', '*'],\n",
       "   ['*', '*', '*', '*'],\n",
       "   ['*', '*', '*', '*'],\n",
       "   ['*', '*', '*', '*'],\n",
       "   ['*', '*', '*', '*']],\n",
       "  [['*', '*', '*', '*'],\n",
       "   ['*', '*', '*', '*'],\n",
       "   ['*', '*', '*', '*'],\n",
       "   ['*', '*', '*', '*'],\n",
       "   ['*', '*', '*', '*'],\n",
       "   ['*', '*', '*', '*']]]]"
      ]
     },
     "metadata":{
      
     },
     "output_type":"display_data"
    }
   ],
   "metadata":{
    "datalore":{
     "node_id":"TQ4Dc11erW9MDff1c1G4Qe",
     "type":"CODE",
     "hide_input_from_viewers":false,
     "hide_output_from_viewers":false
    }
   }
  },
  {
   "cell_type":"code",
   "source":[
    "import operator"
   ],
   "execution_count":46,
   "outputs":[
    
   ],
   "metadata":{
    "datalore":{
     "node_id":"CkqTyA6EKCvX1dBjheR9gR",
     "type":"CODE",
     "hide_input_from_viewers":false,
     "hide_output_from_viewers":false
    }
   }
  },
  {
   "cell_type":"code",
   "source":[
    "operator.itemgetter(lst_1)"
   ],
   "execution_count":48,
   "outputs":[
    {
     "data":{
      "text\/plain":[
       "operator.itemgetter([1, 2, 3, 4, 5])"
      ]
     },
     "metadata":{
      
     },
     "output_type":"display_data"
    }
   ],
   "metadata":{
    "datalore":{
     "node_id":"kTYiI1fgmZXy14drr0R4FD",
     "type":"CODE",
     "hide_input_from_viewers":false,
     "hide_output_from_viewers":false
    }
   }
  },
  {
   "cell_type":"code",
   "source":[
    "sett = {1,2,2,2,2,4,4,5,6,7,8}"
   ],
   "execution_count":53,
   "outputs":[
    
   ],
   "metadata":{
    "datalore":{
     "node_id":"dC6qk3enA6R2WO9lMuu5Hq",
     "type":"CODE",
     "hide_input_from_viewers":false,
     "hide_output_from_viewers":false
    }
   }
  },
  {
   "cell_type":"code",
   "source":[
    "sett"
   ],
   "execution_count":54,
   "outputs":[
    {
     "data":{
      "text\/plain":[
       "{1, 2, 4, 5, 6, 7, 8}"
      ]
     },
     "metadata":{
      
     },
     "output_type":"display_data"
    }
   ],
   "metadata":{
    "datalore":{
     "node_id":"aZKzcJ2M9YC9623aAwyWcv",
     "type":"CODE",
     "hide_input_from_viewers":false,
     "hide_output_from_viewers":false
    }
   }
  },
  {
   "cell_type":"code",
   "source":[
    "sett.add(\"Avengers\")"
   ],
   "execution_count":55,
   "outputs":[
    
   ],
   "metadata":{
    "datalore":{
     "node_id":"ZRn9kM9WKVk6D7m1WzkqmY",
     "type":"CODE",
     "hide_input_from_viewers":false,
     "hide_output_from_viewers":false
    }
   }
  },
  {
   "cell_type":"code",
   "source":[
    "sett"
   ],
   "execution_count":56,
   "outputs":[
    {
     "data":{
      "text\/plain":[
       "{1, 2, 4, 5, 6, 7, 8, 'Avengers'}"
      ]
     },
     "metadata":{
      
     },
     "output_type":"display_data"
    }
   ],
   "metadata":{
    "datalore":{
     "node_id":"Zkf4SME7fAdmhkjns8px5Y",
     "type":"CODE",
     "hide_input_from_viewers":false,
     "hide_output_from_viewers":false
    }
   }
  },
  {
   "cell_type":"code",
   "source":[
    "my_list = [1,2,3,4,5]"
   ],
   "execution_count":2,
   "outputs":[
    
   ],
   "metadata":{
    "datalore":{
     "node_id":"zSk06ezoCxgAcLjuUbwCT6",
     "type":"CODE",
     "hide_input_from_viewers":false,
     "hide_output_from_viewers":false
    }
   }
  },
  {
   "cell_type":"code",
   "source":[
    "import numpy as np\n",
    "arr = np.array(my_list)"
   ],
   "execution_count":3,
   "outputs":[
    
   ],
   "metadata":{
    "datalore":{
     "node_id":"kg1tTbvJhQnmYsJzRhW2uo",
     "type":"CODE",
     "hide_input_from_viewers":false,
     "hide_output_from_viewers":false
    }
   }
  },
  {
   "cell_type":"code",
   "source":[
    "arr"
   ],
   "execution_count":4,
   "outputs":[
    {
     "data":{
      "text\/plain":[
       "array([1, 2, 3, 4, 5])"
      ]
     },
     "metadata":{
      
     },
     "output_type":"display_data"
    }
   ],
   "metadata":{
    "datalore":{
     "node_id":"7GVSgkuEO9B2gpbRm2o3M2",
     "type":"CODE",
     "hide_input_from_viewers":false,
     "hide_output_from_viewers":false
    }
   }
  },
  {
   "cell_type":"code",
   "source":[
    "arr.shape"
   ],
   "execution_count":6,
   "outputs":[
    {
     "data":{
      "text\/plain":[
       "(5,)"
      ]
     },
     "metadata":{
      
     },
     "output_type":"display_data"
    }
   ],
   "metadata":{
    "datalore":{
     "node_id":"3P0nZK3qkQ8jy3JQL0Ow5e",
     "type":"CODE",
     "hide_input_from_viewers":false,
     "hide_output_from_viewers":false
    }
   }
  },
  {
   "cell_type":"code",
   "source":[
    "my_lst1=[1,2,3,4,5]\n",
    "my_lst2=[2,3,4,5,6]\n",
    "my_lst3=[9,7,6,8,9]\n",
    "arr = np.array([my_lst1,my_lst2,my_lst3])\n",
    "arr"
   ],
   "execution_count":9,
   "outputs":[
    {
     "data":{
      "text\/plain":[
       "array([[1, 2, 3, 4, 5],\n",
       "       [2, 3, 4, 5, 6],\n",
       "       [9, 7, 6, 8, 9]])"
      ]
     },
     "metadata":{
      
     },
     "output_type":"display_data"
    }
   ],
   "metadata":{
    "datalore":{
     "node_id":"q0FjRLPMfmhS3MHFTgx9Ng",
     "type":"CODE",
     "hide_input_from_viewers":false,
     "hide_output_from_viewers":false
    }
   }
  },
  {
   "cell_type":"code",
   "source":[
    "arr.shape"
   ],
   "execution_count":10,
   "outputs":[
    {
     "data":{
      "text\/plain":[
       "(3, 5)"
      ]
     },
     "metadata":{
      
     },
     "output_type":"display_data"
    }
   ],
   "metadata":{
    "datalore":{
     "node_id":"Izdts7MEi1b42EZmw9vAWE",
     "type":"CODE",
     "hide_input_from_viewers":false,
     "hide_output_from_viewers":false
    }
   }
  },
  {
   "cell_type":"code",
   "source":[
    "arr.reshape(5,3)"
   ],
   "execution_count":11,
   "outputs":[
    {
     "data":{
      "text\/plain":[
       "array([[1, 2, 3],\n",
       "       [4, 5, 2],\n",
       "       [3, 4, 5],\n",
       "       [6, 9, 7],\n",
       "       [6, 8, 9]])"
      ]
     },
     "metadata":{
      
     },
     "output_type":"display_data"
    }
   ],
   "metadata":{
    "datalore":{
     "node_id":"UmlRtNKXdJy8nrxjIfa5N0",
     "type":"CODE",
     "hide_input_from_viewers":false,
     "hide_output_from_viewers":false
    }
   }
  },
  {
   "cell_type":"code",
   "source":[
    "arr.reshape(1,15)"
   ],
   "execution_count":12,
   "outputs":[
    {
     "data":{
      "text\/plain":[
       "array([[1, 2, 3, 4, 5, 2, 3, 4, 5, 6, 9, 7, 6, 8, 9]])"
      ]
     },
     "metadata":{
      
     },
     "output_type":"display_data"
    }
   ],
   "metadata":{
    "datalore":{
     "node_id":"0O5v8CKuFyHHBWv37LKs8J",
     "type":"CODE",
     "hide_input_from_viewers":false,
     "hide_output_from_viewers":false
    }
   }
  },
  {
   "cell_type":"code",
   "source":[
    "arr.reshape(3,5)"
   ],
   "execution_count":13,
   "outputs":[
    {
     "data":{
      "text\/plain":[
       "array([[1, 2, 3, 4, 5],\n",
       "       [2, 3, 4, 5, 6],\n",
       "       [9, 7, 6, 8, 9]])"
      ]
     },
     "metadata":{
      
     },
     "output_type":"display_data"
    }
   ],
   "metadata":{
    "datalore":{
     "node_id":"I9groRSduNWyLVR1EVXJ5u",
     "type":"CODE",
     "hide_input_from_viewers":false,
     "hide_output_from_viewers":false
    }
   }
  },
  {
   "cell_type":"code",
   "source":[
    "arr[1:2,1:4]"
   ],
   "execution_count":21,
   "outputs":[
    {
     "data":{
      "text\/plain":[
       "array([[3, 4, 5]])"
      ]
     },
     "metadata":{
      
     },
     "output_type":"display_data"
    }
   ],
   "metadata":{
    "datalore":{
     "node_id":"BzBwqOw8E3CR6SH0AYQESd",
     "type":"CODE",
     "hide_input_from_viewers":false,
     "hide_output_from_viewers":false
    }
   }
  },
  {
   "cell_type":"code",
   "source":[
    "arr[1:,2:4]"
   ],
   "execution_count":25,
   "outputs":[
    {
     "data":{
      "text\/plain":[
       "array([[4, 5],\n",
       "       [6, 8]])"
      ]
     },
     "metadata":{
      
     },
     "output_type":"display_data"
    }
   ],
   "metadata":{
    "datalore":{
     "node_id":"g74wZMDxC22tHHvnYqchPp",
     "type":"CODE",
     "hide_input_from_viewers":false,
     "hide_output_from_viewers":false
    }
   }
  },
  {
   "cell_type":"code",
   "source":[
    "arr_2 = np.arange(0,10,2)\n",
    "arr_2"
   ],
   "execution_count":27,
   "outputs":[
    {
     "data":{
      "text\/plain":[
       "array([0, 2, 4, 6, 8])"
      ]
     },
     "metadata":{
      
     },
     "output_type":"display_data"
    }
   ],
   "metadata":{
    "datalore":{
     "node_id":"ZXOUQsjPt3KQFEt6I3XWQb",
     "type":"CODE",
     "hide_input_from_viewers":false,
     "hide_output_from_viewers":false
    }
   }
  },
  {
   "cell_type":"code",
   "source":[
    "arr_2 = np.linspace(1,10,50)"
   ],
   "execution_count":28,
   "outputs":[
    
   ],
   "metadata":{
    "datalore":{
     "node_id":"FWE5KDeAkRi1zx2fWRmEE7",
     "type":"CODE",
     "hide_input_from_viewers":false,
     "hide_output_from_viewers":false
    }
   }
  },
  {
   "cell_type":"code",
   "source":[
    "arr_2"
   ],
   "execution_count":29,
   "outputs":[
    {
     "data":{
      "text\/plain":[
       "array([ 1.        ,  1.18367347,  1.36734694,  1.55102041,  1.73469388,\n",
       "        1.91836735,  2.10204082,  2.28571429,  2.46938776,  2.65306122,\n",
       "        2.83673469,  3.02040816,  3.20408163,  3.3877551 ,  3.57142857,\n",
       "        3.75510204,  3.93877551,  4.12244898,  4.30612245,  4.48979592,\n",
       "        4.67346939,  4.85714286,  5.04081633,  5.2244898 ,  5.40816327,\n",
       "        5.59183673,  5.7755102 ,  5.95918367,  6.14285714,  6.32653061,\n",
       "        6.51020408,  6.69387755,  6.87755102,  7.06122449,  7.24489796,\n",
       "        7.42857143,  7.6122449 ,  7.79591837,  7.97959184,  8.16326531,\n",
       "        8.34693878,  8.53061224,  8.71428571,  8.89795918,  9.08163265,\n",
       "        9.26530612,  9.44897959,  9.63265306,  9.81632653, 10.        ])"
      ]
     },
     "metadata":{
      
     },
     "output_type":"display_data"
    }
   ],
   "metadata":{
    "datalore":{
     "node_id":"tfHzxKob499iJnse79g53W",
     "type":"CODE",
     "hide_input_from_viewers":false,
     "hide_output_from_viewers":false
    }
   }
  },
  {
   "cell_type":"code",
   "source":[
    "tst1 = np.arange(0,50)\n",
    "tst2 = np.linspace(0,10,50)\n",
    "\n",
    "arr_tst = np.array([tst1, tst2])\n",
    "arr_tst"
   ],
   "execution_count":34,
   "outputs":[
    {
     "data":{
      "text\/plain":[
       "array([[ 0.        ,  1.        ,  2.        ,  3.        ,  4.        ,\n",
       "         5.        ,  6.        ,  7.        ,  8.        ,  9.        ,\n",
       "        10.        , 11.        , 12.        , 13.        , 14.        ,\n",
       "        15.        , 16.        , 17.        , 18.        , 19.        ,\n",
       "        20.        , 21.        , 22.        , 23.        , 24.        ,\n",
       "        25.        , 26.        , 27.        , 28.        , 29.        ,\n",
       "        30.        , 31.        , 32.        , 33.        , 34.        ,\n",
       "        35.        , 36.        , 37.        , 38.        , 39.        ,\n",
       "        40.        , 41.        , 42.        , 43.        , 44.        ,\n",
       "        45.        , 46.        , 47.        , 48.        , 49.        ],\n",
       "       [ 0.        ,  0.20408163,  0.40816327,  0.6122449 ,  0.81632653,\n",
       "         1.02040816,  1.2244898 ,  1.42857143,  1.63265306,  1.83673469,\n",
       "         2.04081633,  2.24489796,  2.44897959,  2.65306122,  2.85714286,\n",
       "         3.06122449,  3.26530612,  3.46938776,  3.67346939,  3.87755102,\n",
       "         4.08163265,  4.28571429,  4.48979592,  4.69387755,  4.89795918,\n",
       "         5.10204082,  5.30612245,  5.51020408,  5.71428571,  5.91836735,\n",
       "         6.12244898,  6.32653061,  6.53061224,  6.73469388,  6.93877551,\n",
       "         7.14285714,  7.34693878,  7.55102041,  7.75510204,  7.95918367,\n",
       "         8.16326531,  8.36734694,  8.57142857,  8.7755102 ,  8.97959184,\n",
       "         9.18367347,  9.3877551 ,  9.59183673,  9.79591837, 10.        ]])"
      ]
     },
     "metadata":{
      
     },
     "output_type":"display_data"
    }
   ],
   "metadata":{
    "datalore":{
     "node_id":"TEOJ8dYPVLYwP3yrSmb2oH",
     "type":"CODE",
     "hide_input_from_viewers":false,
     "hide_output_from_viewers":false
    }
   }
  },
  {
   "cell_type":"code",
   "source":[
    "array_tst1 = np.array([1,2,3,4,5])"
   ],
   "execution_count":36,
   "outputs":[
    
   ],
   "metadata":{
    "datalore":{
     "node_id":"cIEtFgJcEFapqARC1yn7tY",
     "type":"CODE",
     "hide_input_from_viewers":false,
     "hide_output_from_viewers":false
    }
   }
  },
  {
   "cell_type":"code",
   "source":[
    "array_tst1"
   ],
   "execution_count":38,
   "outputs":[
    {
     "data":{
      "text\/plain":[
       "array([1, 2, 3, 4, 5])"
      ]
     },
     "metadata":{
      
     },
     "output_type":"display_data"
    }
   ],
   "metadata":{
    "datalore":{
     "node_id":"wxHcC18LsVfB06TP5xiTPE",
     "type":"CODE",
     "hide_input_from_viewers":false,
     "hide_output_from_viewers":false
    }
   }
  },
  {
   "cell_type":"code",
   "source":[
    "array_tst1[array_tst1 < 4]"
   ],
   "execution_count":41,
   "outputs":[
    {
     "data":{
      "text\/plain":[
       "array([1, 2, 3])"
      ]
     },
     "metadata":{
      
     },
     "output_type":"display_data"
    }
   ],
   "metadata":{
    "datalore":{
     "node_id":"lxEodmUBuTgo6MOMKmtiai",
     "type":"CODE",
     "hide_input_from_viewers":false,
     "hide_output_from_viewers":false
    }
   }
  },
  {
   "cell_type":"code",
   "source":[
    "np.arange(0,10).reshape(5,2)"
   ],
   "execution_count":43,
   "outputs":[
    {
     "data":{
      "text\/plain":[
       "array([[0, 1],\n",
       "       [2, 3],\n",
       "       [4, 5],\n",
       "       [6, 7],\n",
       "       [8, 9]])"
      ]
     },
     "metadata":{
      
     },
     "output_type":"display_data"
    }
   ],
   "metadata":{
    "datalore":{
     "node_id":"lgP0fzvY9xvnQfubgVaW49",
     "type":"CODE",
     "hide_input_from_viewers":false,
     "hide_output_from_viewers":false
    }
   }
  },
  {
   "cell_type":"code",
   "source":[
    "np.ones(6, dtype=int)"
   ],
   "execution_count":44,
   "outputs":[
    {
     "data":{
      "text\/plain":[
       "array([1, 1, 1, 1, 1, 1])"
      ]
     },
     "metadata":{
      
     },
     "output_type":"display_data"
    }
   ],
   "metadata":{
    "datalore":{
     "node_id":"hO71NNtatMuLVwK0NF41Nr",
     "type":"CODE",
     "hide_input_from_viewers":false,
     "hide_output_from_viewers":false
    }
   }
  },
  {
   "cell_type":"code",
   "source":[
    "np.random.rand(4,4)"
   ],
   "execution_count":45,
   "outputs":[
    {
     "data":{
      "text\/plain":[
       "array([[0.84302467, 0.80147261, 0.6219855 , 0.43778202],\n",
       "       [0.01703326, 0.53821428, 0.38551891, 0.13675885],\n",
       "       [0.8222208 , 0.01096881, 0.72613456, 0.64562179],\n",
       "       [0.96214528, 0.38883265, 0.70588277, 0.97118827]])"
      ]
     },
     "metadata":{
      
     },
     "output_type":"display_data"
    }
   ],
   "metadata":{
    "datalore":{
     "node_id":"aQaK7NqqSClyT9HRxgUTIY",
     "type":"CODE",
     "hide_input_from_viewers":false,
     "hide_output_from_viewers":false
    }
   }
  },
  {
   "cell_type":"code",
   "source":[
    "np.random.randn(4,4)"
   ],
   "execution_count":46,
   "outputs":[
    {
     "data":{
      "text\/plain":[
       "array([[ 0.5434653 , -0.03201241,  0.02059808,  0.14213642],\n",
       "       [ 0.93685076, -1.71079898, -0.43843242, -0.62828763],\n",
       "       [-1.44650587,  1.45316649, -0.5536848 ,  1.36173138],\n",
       "       [-0.20228444,  0.53900309,  2.57124212,  0.32385745]])"
      ]
     },
     "metadata":{
      
     },
     "output_type":"display_data"
    }
   ],
   "metadata":{
    "datalore":{
     "node_id":"bgz97HZnUibSogDPKMq6rp",
     "type":"CODE",
     "hide_input_from_viewers":false,
     "hide_output_from_viewers":false
    }
   }
  },
  {
   "cell_type":"code",
   "source":[
    "np.random.randint(6,60, size=[3,4])"
   ],
   "execution_count":48,
   "outputs":[
    {
     "data":{
      "text\/plain":[
       "array([[54, 48, 45,  6],\n",
       "       [30, 53, 39, 37],\n",
       "       [ 6, 22, 10, 54]])"
      ]
     },
     "metadata":{
      
     },
     "output_type":"display_data"
    }
   ],
   "metadata":{
    "datalore":{
     "node_id":"wri8l2syhOwjOTCkyBmXdH",
     "type":"CODE",
     "hide_input_from_viewers":false,
     "hide_output_from_viewers":false
    }
   }
  },
  {
   "cell_type":"code",
   "source":[
    "np.random.randint(0,200,10).reshape(5,2)"
   ],
   "execution_count":49,
   "outputs":[
    {
     "data":{
      "text\/plain":[
       "array([[121,  56],\n",
       "       [ 86,  55],\n",
       "       [ 79,  35],\n",
       "       [  9,   8],\n",
       "       [ 86, 120]])"
      ]
     },
     "metadata":{
      
     },
     "output_type":"display_data"
    }
   ],
   "metadata":{
    "datalore":{
     "node_id":"EPqANllDcIes6rNwRvdrAO",
     "type":"CODE",
     "hide_input_from_viewers":false,
     "hide_output_from_viewers":false
    }
   }
  }
 ],
 "metadata":{
  "kernelspec":{
   "display_name":"Python",
   "language":"python",
   "name":"python"
  },
  "datalore":{
   "version":1,
   "computation_mode":"JUPYTER",
   "package_manager":"pip",
   "base_environment":"default",
   "packages":[
    
   ]
  }
 },
 "nbformat":4,
 "nbformat_minor":4
}