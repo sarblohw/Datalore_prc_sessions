{
 "cells":[
  {
   "cell_type":"markdown",
   "source":[
    "# Code editor"
   ],
   "attachments":{
    
   },
   "metadata":{
    "datalore":{
     "node_id":"Code editor",
     "type":"MD",
     "hide_input_from_viewers":false,
     "hide_output_from_viewers":false,
     "sheet_delimiter":true
    }
   }
  },
  {
   "cell_type":"code",
   "source":[
    "print(\"Hello, world!\")"
   ],
   "execution_count":null,
   "outputs":[
    
   ],
   "metadata":{
    "datalore":{
     "node_id":"y0T8l3vLZufrLqndJ7X8SW",
     "type":"CODE",
     "hide_input_from_viewers":false,
     "hide_output_from_viewers":false
    }
   }
  },
  {
   "cell_type":"markdown",
   "source":[
    "# Getting started tutorial\n",
    "\n",
    "Datalore is an online data analysis notebook that enables you to edit, execute, and share your data more productively.\n",
    "\n",
    "In this tutorial, we will learn to work with several **worksheets**:\n",
    "- Code editor (general Datalore overview)\n",
    "- Data analysis flow (example of dataset analysis)\n",
    "- Team collaboration (teamwork in Datalore)\n",
    "\n",
    "<div align=\"center\"><img src=\"https:\/\/datalore-samples.s3-eu-west-1.amazonaws.com\/getting-started\/Sheets.png\" width = 560 border=\"1\" style=\"border-color: #d3d3d3; margin-top: 1%;\"\/><\/div>"
   ],
   "attachments":{
    
   },
   "metadata":{
    "datalore":{
     "node_id":"qwrvVABDzrgEl4pjfUaIt7",
     "type":"MD",
     "hide_input_from_viewers":false,
     "hide_output_from_viewers":false
    }
   }
  },
  {
   "cell_type":"markdown",
   "source":[
    "**Important!**\n",
    "We are always adding new features to Datalore. You can find the most up-to-date tutorial with the newest features [here](https:\/\/view.datalore.jetbrains.com\/notebook\/LvUIisWBfqWLaoMKh7joJ8).\n",
    "\n",
    "**Take a look at our features:**\n",
    "  * [Watch our Getting Started video](attachment:.\/#Watch-our-Getting-Started-video)\n",
    "  * [Сode editor](attachment:.\/#Code-editor)\n",
    "    * [Task 1:](attachment:.\/#Task-1:)\n",
    "      * [Create a new worksheet](attachment:.\/#Create-a-new-worksheet)\n",
    "      * [Create cells](attachment:.\/#Create-cells)\n",
    "    * [Task 2:](attachment:.\/#Task-2:)\n",
    "      * [Run some code](attachment:.\/#Run-some-code)\n",
    "  * [Coding assistance](attachment:.\/#Coding-assistance)\n",
    "    * [Task 3:](attachment:.\/#Task-3:)\n",
    "      * [Code completion](attachment:.\/#Code-completion)\n",
    "      * [Open documentation](attachment:.\/#Open-documentation)\n",
    "      * [Inspections and quick-fixes](attachment:.\/#Inspections-and-quick-fixes)\n",
    "      * [Auto imports](attachment:.\/#Auto-imports)\n",
    "    * [Task 4:](attachment:.\/#Task-4:)\n",
    "      * [Adjust notebook look](attachment:.\/#Adjust-notebook-look)\n",
    "    * [Task 5:](attachment:.\/#Task-5:)\n",
    "      * [Install libraries and packages](attachment:.\/#Install-libraries-and-packages)\n",
    "    * [Task 6:](attachment:.\/#Task-6:)\n",
    "      * [Choose a kernel](attachment:.\/#Choose-a-kernel)\n",
    "      * [Create a notebook](attachment:.\/#Create-a-notebook)\n",
    "  * [Data analysis flow](attachment:.\/#Data-analysis-flow)\n",
    "    * [Collecting data](attachment:.\/#Collecting-data)\n",
    "      * [Upload a dataset](attachment:.\/#Upload-a-dataset)\n",
    "    * [Exploring data](attachment:.\/#Exploring-data)\n",
    "    * [Visualizing results](attachment:.\/#Visualizing-results)\n",
    "    * [Sharing insights](attachment:.\/#Sharing-insights)\n",
    "  * [Team collaboration](attachment:.\/#Team-collaboration)\n",
    "    * [Share notebooks](attachment:.\/#Share-notebooks)\n",
    "    * [Share workspaces](attachment:.\/#Share-workspaces)\n",
    "    * [History checkpoints](attachment:.\/#History-checkpoints)\n",
    "  * [Tutorials](attachment:.\/#Tutorials)\n",
    "  * [Follow us](attachment:.\/#Follow-us)"
   ],
   "attachments":{
    
   },
   "metadata":{
    "datalore":{
     "node_id":"btsptjM3hD8X3JEV5VDisU",
     "type":"MD",
     "hide_input_from_viewers":false,
     "hide_output_from_viewers":false
    }
   }
  },
  {
   "cell_type":"markdown",
   "source":[
    "## Watch our Getting Started video"
   ],
   "attachments":{
    
   },
   "metadata":{
    "datalore":{
     "node_id":"gHpM2EeebpFJcJ7AusuCId",
     "type":"MD",
     "hide_input_from_viewers":false,
     "hide_output_from_viewers":false
    }
   }
  },
  {
   "cell_type":"code",
   "source":[
    "from IPython.display import HTML\n",
    "\n",
    "HTML('<div align=\"center\"><iframe align = \"middle\" width=\"560\" height=\"315\" src=\"https:\/\/www.youtube.com\/embed\/MjvFQxqNSe0\" frameborder=\"0\" allow=\"accelerometer; autoplay; encrypted-media; gyroscope; picture-in-picture\" allowfullscreen><\/iframe><\/div>')"
   ],
   "execution_count":null,
   "outputs":[
    
   ],
   "metadata":{
    "datalore":{
     "node_id":"IuoD4h9C7yDCCUTJ7QVWfX",
     "type":"CODE",
     "hide_input_from_viewers":false,
     "hide_output_from_viewers":false
    }
   }
  },
  {
   "cell_type":"markdown",
   "source":[
    "## Code editor\n",
    "\n",
    "Learn how to use the editor by completing the following small tasks.\n",
    "\n",
    "### Task 1:\n",
    "#### Create a new worksheet\n",
    "\n",
    "Click `+` button at the bottom left corner of the editor to create a new worksheet.\n",
    "All sheets in a notebook share the same files, and sheets on the right\n",
    "inherit the environment from the sheets on the left.\n",
    "\n",
    "#### Create cells\n",
    "\n",
    "1. Add a new **code cell** by pressing `Ctrl+Alt+Enter \/ Cmd+Option+Enter` or by clicking on the \"+\" button in the top\n",
    "   right of the cell. You can toggle the cell type between code and Markdown with `Ctrl+M` \/ `Cmd+M`.\n",
    "\n",
    "2. Add a **Markdown cell** by hovering over the middle of the bottom of the cell and clicking \"Add markdown cell\".\n",
    "   - Markdown cells support Markdown text editing and LaTeX transformations;\n",
    "   - Double newline clears formatting and starts a new paragraph;\n",
    "   - All input is HTML-escaped.\n",
    "  \n",
    "  <div align=\"center\"><img src=\"https:\/\/datalore-samples.s3-eu-west-1.amazonaws.com\/getting-started\/HTMLescaped.png\" width = 300 border=\"1\" style=\"border-color: #d3d3d3; margin-top: 1%;\"\/><\/div>\n",
    "\n",
    "3. **Move cells up and down** by pressing \"Move cell up\" or \"Move cell down\" in the cell toolbar."
   ],
   "attachments":{
    
   },
   "metadata":{
    "datalore":{
     "node_id":"RLhSW7vXMdKW0NRDR9ViRi",
     "type":"MD",
     "hide_input_from_viewers":false,
     "hide_output_from_viewers":false
    }
   }
  },
  {
   "cell_type":"markdown",
   "source":[
    "### Task 2:\n",
    "#### Run some code\n",
    "\n",
    "1. Execute the code in the following cell by pressing the **Run\/Stop buttons** at the top-right corner of the cell **or** just press 'Shift+Enter'.\n",
    "\n",
    "2. If you encounter any problems, try the **Kernel → Restart** or **Kernel → Interrupt** commands in the main menu."
   ],
   "attachments":{
    
   },
   "metadata":{
    "datalore":{
     "node_id":"WpnLv9biZUYEZjf6bXjOSL",
     "type":"MD",
     "hide_input_from_viewers":false,
     "hide_output_from_viewers":false
    }
   }
  },
  {
   "cell_type":"code",
   "source":[
    "# Try it now\n",
    "import datetime\n",
    "\n",
    "now_moment = datetime.datetime.now()\n",
    "print('– What is the right time to start?')\n",
    "print('– Now!\\n')"
   ],
   "execution_count":null,
   "outputs":[
    
   ],
   "metadata":{
    "datalore":{
     "node_id":"4Euv3z5eRG3yXOuHBKFzHX",
     "type":"CODE",
     "hide_input_from_viewers":false,
     "hide_output_from_viewers":false
    }
   }
  },
  {
   "cell_type":"markdown",
   "source":[
    "## Coding assistance\n",
    "\n",
    "We hope you enjoy Datalore's smart coding assistance and that it helps you work more productively.\n",
    "\n",
    "### Task 3:\n",
    "#### Code completion\n",
    "\n",
    "Add a new code cell and print the `now_moment` variable from the previous code cell.\n",
    "Whenever you type a function, method, class, or variable name,\n",
    "Datalore suggests possible completions.\n",
    "\n",
    "#### Open documentation\n",
    "\n",
    "Try opening the documentation for the pyplot.hist() function in the following cell.\n",
    "\n",
    "Use:\n",
    "* `Ctrl\/Command + hover` for brief documentation.\n",
    "* `set the caret + F1` for full documentation.\n",
    "\n",
    "<div align=\"center\"><img src=\"https:\/\/datalore-samples.s3-eu-west-1.amazonaws.com\/getting-started\/Documentation.png\" width = 560 border=\"1\" style=\"border-color: #d3d3d3; margin-top: 1%;\"\/><\/div>"
   ],
   "attachments":{
    
   },
   "metadata":{
    "datalore":{
     "node_id":"bUydYWBTdpuFvs0Uk7R5my",
     "type":"MD",
     "hide_input_from_viewers":false,
     "hide_output_from_viewers":false
    }
   }
  },
  {
   "cell_type":"code",
   "source":[
    "# Try opening Documentation for pyplot.hist() function\n",
    "\n",
    "from matplotlib import pyplot as plt\n",
    "import numpy as np\n",
    "\n",
    "mu, sigma = 100, 15\n",
    "x = mu + sigma * np.random.randn(10000)\n",
    "\n",
    "# the histogram of the data\n",
    "n, bins, patches = plt.hist(x, 50, density=1, facecolor='g', alpha=0.75)\n",
    "plt.xlabel('Smarts')\n",
    "plt.ylabel('Probability')\n",
    "plt.title('Histogram of IQ')\n",
    "plt.text(60, .025, r'$\\mu=100,\\ \\sigma=15$')\n",
    "plt.axis([40, 160, 0, 0.03])\n",
    "plt.grid(True)\n",
    "plt.show()"
   ],
   "execution_count":null,
   "outputs":[
    
   ],
   "metadata":{
    "datalore":{
     "node_id":"VU6ubVd0rJXpvTHeRFOEZU",
     "type":"CODE",
     "hide_input_from_viewers":false,
     "hide_output_from_viewers":false
    }
   }
  },
  {
   "cell_type":"markdown",
   "source":[
    "#### Inspections and quick-fixes\n",
    "\n",
    "Click the string “Probability” in the previous cell and apply the suggested quick-fix. Just press `Alt\/Option+Enter` on the error and\n",
    "choose a fix from the popup menu.\n",
    "\n",
    "<div align=\"center\"><img src=\"https:\/\/datalore-samples.s3-eu-west-1.amazonaws.com\/getting-started\/Quickfix.png\" width = 300 border=\"1\" style=\"border-color: #d3d3d3; margin-top: 1%;\"\/><\/div>\n",
    "\n",
    "Inspections detect errors in your code.\n",
    "In most cases, errors can be fixed automatically with quick-fixes – automatic fixes\n",
    "that can be applied to the code with a simple shortcut.\n",
    "\n",
    "#### Auto imports\n",
    "\n",
    "Try importing LinearRegression in the following cell using Import suggestions by Datalore.\n",
    "If you forget to import the library for a method, class, or function,\n",
    "Datalore will suggest auto-import expressions.\n",
    "\n",
    "<div align=\"center\"><img src=\"https:\/\/datalore-samples.s3-eu-west-1.amazonaws.com\/getting-started\/Auto-imports.png\" width = 560 border=\"1\" style=\"border-color: #d3d3d3; margin-top: 1%;\"\/><\/div>"
   ],
   "attachments":{
    
   },
   "metadata":{
    "datalore":{
     "node_id":"NZGLnSjcC09kdrLb9URrmH",
     "type":"MD",
     "hide_input_from_viewers":false,
     "hide_output_from_viewers":false
    }
   }
  },
  {
   "cell_type":"code",
   "source":[
    "# Try importing LinearRegression using Import suggestions by Datalore and applying the quickfix for the first line\n",
    "\n",
    "lr = LinearRegression()"
   ],
   "execution_count":null,
   "outputs":[
    
   ],
   "metadata":{
    "datalore":{
     "node_id":"9zphewn2yWBwV0T7WdsXeJ",
     "type":"CODE",
     "hide_input_from_viewers":false,
     "hide_output_from_viewers":false
    }
   }
  },
  {
   "cell_type":"markdown",
   "source":[
    "### Task 4:\n",
    "#### Adjust notebook look\n",
    "\n",
    "Go to the **View** section in the Datalore menu to:\n",
    "\n",
    "* Switch to Split output view. Change back to Sequential view by unchecking the \"Split view\" option;\n",
    "* Toggle line numbers;\n",
    "* Enable documentation on hover;\n",
    "* Switch on \"Distraction-free mode\".\n",
    "\n",
    "<div align=\"center\"><img src=\"https:\/\/datalore-samples.s3-eu-west-1.amazonaws.com\/getting-started\/View.png\" width = 560 border=\"1\" style=\"border-color: #d3d3d3; margin-top: 1%;\"\/><\/div>"
   ],
   "attachments":{
    
   },
   "metadata":{
    "datalore":{
     "node_id":"rhI2xpWhw3ERNyQ6jsS1GI",
     "type":"MD",
     "hide_input_from_viewers":false,
     "hide_output_from_viewers":false
    }
   }
  },
  {
   "cell_type":"markdown",
   "source":[
    "### Task 5:\n",
    "#### Install libraries and packages \n",
    "\n",
    "In Datalore, the most popular data science libraries are already **preinstalled.** Hover over the plot in the following cell and see how the interactive visualization works in the preinstalled **Lets-plot** library.\n",
    "\n",
    "Use **Matplotlib, pandas, NumPy, Scikit-learn, TensorFlow**, and other popular packages by\n",
    "typing the `import` clause for the package you need. Datalore will take care of all the dependencies.\n",
    "\n",
    "If you need to install more libraries:\n",
    "* Go to **Tools → Library manager** in the main menu\n",
    "* Or write a `!pip install` clause in a code cell\n",
    "\n",
    "Try installing `pymorphy2` or any other library that you might need."
   ],
   "attachments":{
    
   },
   "metadata":{
    "datalore":{
     "node_id":"C07iiB7NVQ0CivZUYW329W",
     "type":"MD",
     "hide_input_from_viewers":false,
     "hide_output_from_viewers":false
    }
   }
  },
  {
   "cell_type":"code",
   "source":[
    "from lets_plot import *\n",
    "import numpy\n",
    "\n",
    "LetsPlot.setup_html()\n",
    "numpy.random.seed(100)\n",
    "data = dict(\n",
    "    cond=numpy.repeat(['A','B'], 200),\n",
    "    rating=numpy.concatenate((numpy.random.normal(0, 1, 200), numpy.random.normal(1, 1.5, 200)))\n",
    ")\n",
    "\n",
    "ggplot(data, aes(x='rating', fill='cond')) + ggsize(500, 250) \\\n",
    "+ geom_density(color='dark_green', alpha=.7) + scale_fill_brewer(type='seq') \\\n",
    "+ theme(axis_line_y='blank')"
   ],
   "execution_count":null,
   "outputs":[
    
   ],
   "metadata":{
    "datalore":{
     "node_id":"bd3je9Ci5oWWi09vNZHFSH",
     "type":"CODE",
     "hide_input_from_viewers":false,
     "hide_output_from_viewers":false
    }
   }
  },
  {
   "cell_type":"markdown",
   "source":[
    "### Task 6:\n",
    "#### Choose a kernel\n",
    "\n",
    "Datalore lets you use one of three kernels:\n",
    "* The classic **IPython kernel**.\n",
    "  Datalore supports Jupyter Notebooks in `.ipynb` format.\n",
    "\n",
    "  Upload an existing notebook from the homepage by pressing the downward arrow next to the \"New notebook\" button.\n",
    "\n",
    "  <div align=\"center\"><img src=\"https:\/\/datalore-samples.s3-eu-west-1.amazonaws.com\/getting-started\/Import_notebook.png\" width = 200 border=\"1\" style=\"border-color: #d3d3d3; margin-top: 1%;\"\/><\/div>\n",
    "\n",
    "* **Datalore kernel**\n",
    "  Our experimental Datalore Python kernel helps your notebook stay consistent.\n",
    "  It features **incremental recalculations**. When you change some code,\n",
    "  the dependent proceeding cells will be automatically recalculated.\n",
    "\n",
    "  The Datalore kernel also supports **Reactive mode** - you can switch it on in the bottom-left corner.\n",
    "\n",
    "* **Zeppelin kernel**\n",
    "  The Zeppelin kernel is an adapter for notebooks running on an external Apache Zeppelin instance.\n",
    "  The instance itself is not provided, you have to specify the access credentials using secrets.\n",
    "  Create a secret in **Tools → Attached secrets**.\n",
    "\n",
    "  <div align=\"center\"><img src=\"https:\/\/datalore-samples.s3-eu-west-1.amazonaws.com\/getting-started\/Secrets.png\" width = 300 border=\"1\" style=\"border-color: #d3d3d3; margin-top: 1%;\"\/><\/div>\n",
    "\n",
    "#### Create a notebook\n",
    "\n",
    "Create a notebook and choose the kernel you need from the dialog.\n",
    "\n",
    "<div align=\"center\"><img src=\"https:\/\/datalore-samples.s3-eu-west-1.amazonaws.com\/getting-started\/Kernels.png\" width = 560 border=\"1\" style=\"border-color: #d3d3d3; margin-top: 1%;\"\/><\/div>"
   ],
   "attachments":{
    
   },
   "metadata":{
    "datalore":{
     "node_id":"0E1wWQbS12I1KdIc57Pybr",
     "type":"MD",
     "hide_input_from_viewers":false,
     "hide_output_from_viewers":false
    }
   }
  },
  {
   "cell_type":"markdown",
   "source":[
    "# Data analysis flow"
   ],
   "attachments":{
    
   },
   "metadata":{
    "datalore":{
     "node_id":"Data analysis flow",
     "type":"MD",
     "hide_input_from_viewers":false,
     "hide_output_from_viewers":false,
     "sheet_delimiter":true
    }
   }
  },
  {
   "cell_type":"markdown",
   "source":[
    "## Data analysis flow\n",
    "### Collecting data\n",
    "#### Upload a dataset\n",
    "\n",
    "To start working with your own dataset:\n",
    "- Upload it via **Tools → Attached files** menu;\n",
    "- Import it directly from your code. **See how to import files from an s3-storage in the example below!**\n",
    "\n",
    "<div align=\"center\"><img src=\"https:\/\/datalore-samples.s3-eu-west-1.amazonaws.com\/getting-started\/Attached_files.png\" width = 560 border=\"1\" style=\"border-color: #d3d3d3; margin-top: 1%;\"\/><\/div>\n",
    "\n",
    "The files will be **attached to your notebook**,\n",
    "and you will have access to them even after you restart the kernel or\n",
    "close and reopen Datalore."
   ],
   "attachments":{
    
   },
   "metadata":{
    "datalore":{
     "node_id":"xScHw2BElujoiGnsw4HtLW",
     "type":"MD",
     "hide_input_from_viewers":false,
     "hide_output_from_viewers":false
    }
   }
  },
  {
   "cell_type":"markdown",
   "source":[
    "**Arxiv dataset**\n",
    "\n",
    "Let's work with a part of **Arxiv dataset** - a selection of scientific papers from 1991 to 2020.\n",
    "The topics of the articles in this dataset include:\n",
    "- Physics\n",
    "- Mathematics\n",
    "- Computer science\n",
    "- Economics\n",
    "- Biology\n",
    "- Statistics"
   ],
   "attachments":{
    
   },
   "metadata":{
    "datalore":{
     "node_id":"ITnXocJW1rehXOQaYUBnWa",
     "type":"MD",
     "hide_input_from_viewers":false,
     "hide_output_from_viewers":false
    }
   }
  },
  {
   "cell_type":"code",
   "source":[
    "# Let's download the Dataset from the S3 cloud storage\n",
    "\n",
    "import urllib\n",
    "urllib.request.urlretrieve('https:\/\/datalore-samples.s3-eu-west-1.amazonaws.com\/getting-started\/arxiv-papers-unique.json',\n",
    "                           'arxiv-papers-unique.json')"
   ],
   "execution_count":null,
   "outputs":[
    
   ],
   "metadata":{
    "datalore":{
     "node_id":"nvsttPOWhGYWSVOb2Y7SZa",
     "type":"CODE",
     "hide_input_from_viewers":false,
     "hide_output_from_viewers":false
    }
   }
  },
  {
   "cell_type":"code",
   "source":[
    "# To open \"Attached files\" go to \"Tools → Attached files\"\n",
    "# In this cell the files in the root directory are displayed\n",
    "\n",
    "import os\n",
    "os.listdir('.')"
   ],
   "execution_count":null,
   "outputs":[
    
   ],
   "metadata":{
    "datalore":{
     "node_id":"xhVAXKfQZiJ2kFODe6KhTa",
     "type":"CODE",
     "hide_input_from_viewers":false,
     "hide_output_from_viewers":false
    }
   }
  },
  {
   "cell_type":"code",
   "source":[
    "import json\n",
    "with open('arxiv-papers-unique.json', 'r') as fp:\n",
    "    arxiv_papers = json.load(fp)"
   ],
   "execution_count":null,
   "outputs":[
    
   ],
   "metadata":{
    "datalore":{
     "node_id":"9TCT1PWF5a8LSm4u2ExGu3",
     "type":"CODE",
     "hide_input_from_viewers":false,
     "hide_output_from_viewers":false
    }
   }
  },
  {
   "cell_type":"markdown",
   "source":[
    "### Exploring data\n",
    "\n",
    "The way Datalore displays tables can help you explore the data more easily.\n",
    "\n",
    "See the code result below and click on the table. Try scrolling it in the output!"
   ],
   "attachments":{
    
   },
   "metadata":{
    "datalore":{
     "node_id":"78YMQnKQauSJGeuHeCsN9w",
     "type":"MD",
     "hide_input_from_viewers":false,
     "hide_output_from_viewers":false
    }
   }
  },
  {
   "cell_type":"code",
   "source":[
    "import pandas as pd\n",
    "\n",
    "papers_df = pd.DataFrame(arxiv_papers).fillna(0).sort_index()\n",
    "papers_df.index = papers_df.index.astype(int)\n",
    "papers_df.index.name = 'Year'\n",
    "papers_df"
   ],
   "execution_count":null,
   "outputs":[
    
   ],
   "metadata":{
    "datalore":{
     "node_id":"YUWP5X6cOZF85A7l37JKfo",
     "type":"CODE",
     "hide_input_from_viewers":false,
     "hide_output_from_viewers":false
    }
   }
  },
  {
   "cell_type":"markdown",
   "source":[
    "### Visualizing results\n",
    "\n",
    "Datalore supports all popular visualization libraries\n",
    "such as **Matplotlib, Plotly, seaborn, ggplot (as Lets-Plot),** etc.\n",
    "\n",
    "Let's now show how the number of scientific papers has changed through the years."
   ],
   "attachments":{
    
   },
   "metadata":{
    "datalore":{
     "node_id":"Iethc3x799F4PzsHp2Wjx9",
     "type":"MD",
     "hide_input_from_viewers":false,
     "hide_output_from_viewers":false
    }
   }
  },
  {
   "cell_type":"code",
   "source":[
    "import seaborn as sns\n",
    "\n",
    "sns.set()\n",
    "fig = papers_df.plot.line(figsize=(19,10), grid=True, title='Arxiv papers by category and year')"
   ],
   "execution_count":null,
   "outputs":[
    
   ],
   "metadata":{
    "datalore":{
     "node_id":"Q63vXgWUcuhqruNAuiHLwp",
     "type":"CODE",
     "hide_input_from_viewers":false,
     "hide_output_from_viewers":false
    }
   }
  },
  {
   "cell_type":"code",
   "source":[
    "papers_2019 = papers_df[:-1]"
   ],
   "execution_count":null,
   "outputs":[
    
   ],
   "metadata":{
    "datalore":{
     "node_id":"DOXXj9D5GlldWWfSH0MttE",
     "type":"CODE",
     "hide_input_from_viewers":false,
     "hide_output_from_viewers":false
    }
   }
  },
  {
   "cell_type":"code",
   "source":[
    "import matplotlib.pyplot as plt\n",
    "\n",
    "fig, axes = plt.subplots(1, 2, figsize=(19, 10))\n",
    "sns.regplot(x=papers_2019.index, y='Physics', data=papers_2019, order=4, ax=axes[0])\n",
    "sns.regplot(x=papers_2019.index, y='Computer Science', data=papers_2019, order=4, ax=axes[1])\n",
    "plt.show()"
   ],
   "execution_count":null,
   "outputs":[
    
   ],
   "metadata":{
    "datalore":{
     "node_id":"Dp6zapaC7YY5R0m9yM41dQ",
     "type":"CODE",
     "hide_input_from_viewers":false,
     "hide_output_from_viewers":false
    }
   }
  },
  {
   "cell_type":"markdown",
   "source":[
    "### Sharing insights\n",
    "\n",
    "To share the results you can:\n",
    "- Publish the whole notebook by clicking **File → Publish** and then share it with colleagues via a link.\n",
    "  In the published notebook you can discuss the results with others via comments.\n",
    "  The notebook will be published at Datalore View.\n",
    "  Update your published notebook again by clicking **File → Publish** in the editor.\n",
    "\n",
    "  <div align=\"center\"><img src=\"https:\/\/datalore-samples.s3-eu-west-1.amazonaws.com\/getting-started\/Publish.png\" width = 560 border=\"1\" style=\"border-color: #d3d3d3; margin-top: 1%;\"\/><\/div>"
   ],
   "attachments":{
    
   },
   "metadata":{
    "datalore":{
     "node_id":"gRNJ9bhYoTRQWqO4zjG7ue",
     "type":"MD",
     "hide_input_from_viewers":false,
     "hide_output_from_viewers":false
    }
   }
  },
  {
   "cell_type":"markdown",
   "source":[
    "- You can copy any output image by pressing `Shift+right-click` and then \"Copy\".\n",
    "- Use the bundled Datalore plugin to publish [PyCharm notebooks](https:\/\/www.jetbrains.com\/help\/pycharm\/sharing-notebooks-in-datalore.html) to the web.\n",
    "\n",
    "<div align=\"center\"><img src=\"https:\/\/datalore-samples.s3-eu-west-1.amazonaws.com\/getting-started\/Save_image.png\" width = 560 border=\"1\" style=\"border-color: #d3d3d3; margin-top: 1%;\"\/><\/div>"
   ],
   "attachments":{
    
   },
   "metadata":{
    "datalore":{
     "node_id":"E0qfV33PKuOyjOcJAN2QtH",
     "type":"MD",
     "hide_input_from_viewers":false,
     "hide_output_from_viewers":false
    }
   }
  },
  {
   "cell_type":"markdown",
   "source":[
    "# Team collaboration"
   ],
   "attachments":{
    
   },
   "metadata":{
    "datalore":{
     "node_id":"Team collaboration",
     "type":"MD",
     "hide_input_from_viewers":false,
     "hide_output_from_viewers":false,
     "sheet_delimiter":true
    }
   }
  },
  {
   "cell_type":"markdown",
   "source":[
    "## Team collaboration\n",
    "\n",
    "In Datalore, you can collaborate with your team and work together on the same notebook\n",
    "in real-time. When you start working on a notebook together, you'll see the\n",
    "cursors and names of each of your team members.\n",
    "\n",
    "### Share notebooks\n",
    "\n",
    "To share a notebook,  press the share button in the top-right corner of the window.\n",
    "Add your team members’ email addresses, edit role permissions, and send them invitations.\n",
    "\n",
    "<div align=\"center\"><img src=\"https:\/\/datalore-samples.s3-eu-west-1.amazonaws.com\/getting-started\/Collaborate.png\" width = 560 border=\"1\" style=\"border-color: #d3d3d3; margin-top: 1%;\"\/><\/div>"
   ],
   "attachments":{
    
   },
   "metadata":{
    "datalore":{
     "node_id":"76aPd8F4lOPqXpovzqDIHN",
     "type":"MD",
     "hide_input_from_viewers":false,
     "hide_output_from_viewers":false
    }
   }
  },
  {
   "cell_type":"markdown",
   "source":[
    "### Share workspaces\n",
    "\n",
    "Workspaces are a way of organizing collaborative work.\n",
    "Each user has a personal workspace that is accessible only to themselves.\n",
    "\n",
    "You can create other workspaces that can be shared with your team on the Datalore homepage.\n",
    "\n",
    "<div align=\"center\"><img src=\"https:\/\/datalore-samples.s3-eu-west-1.amazonaws.com\/getting-started\/Workspace.png\" width = 300 border=\"1\" style=\"border-color: #d3d3d3; margin-top: 1%;\"\/><\/div>"
   ],
   "attachments":{
    
   },
   "metadata":{
    "datalore":{
     "node_id":"Qo8tVU2JAuumbOyNmuiJLj",
     "type":"MD",
     "hide_input_from_viewers":false,
     "hide_output_from_viewers":false
    }
   }
  },
  {
   "cell_type":"markdown",
   "source":[
    "### History checkpoints\n",
    "\n",
    "* **Tools → History** opens our internal version control dialog that saves all the changes made to the notebook.\n",
    "* **Tools → Add history checkpoint** creates a new checkpoint for the internal version control dialog. When you revert to the checkpoint, a “Revert” checkpoint is created\n",
    "that represents the notebook’s state before the revert.\n",
    "\n",
    "**Try reverting a notebook to a previous history checkpoint!**\n",
    "\n",
    "<div align=\"center\"><img src=\"https:\/\/datalore-samples.s3-eu-west-1.amazonaws.com\/getting-started\/History.png\" width = 560 border=\"1\" style=\"border-color: #d3d3d3; margin-top: 1%;\"\/><\/div>"
   ],
   "attachments":{
    
   },
   "metadata":{
    "datalore":{
     "node_id":"Q1CRjOCL1971Aqbauli09u",
     "type":"MD",
     "hide_input_from_viewers":false,
     "hide_output_from_viewers":false
    }
   }
  },
  {
   "cell_type":"markdown",
   "source":[
    "## Tutorials\n",
    "\n",
    "Check out our other tutorials:\n",
    "\n",
    "- [Getting Started](https:\/\/www.youtube.com\/watch?v=MjvFQxqNSe0)\n",
    "- [Visualization with Pyplot](https:\/\/www.youtube.com\/watch?v=qSY3DMMM850)"
   ],
   "attachments":{
    
   },
   "metadata":{
    "datalore":{
     "node_id":"2fcdBlduAch1sk3BKDZWh5",
     "type":"MD",
     "hide_input_from_viewers":false,
     "hide_output_from_viewers":false
    }
   }
  },
  {
   "cell_type":"markdown",
   "source":[
    "## Follow us\n",
    "\n",
    "Follow our [blog](https:\/\/blog.jetbrains.com\/datalore\/) to get to know about new features and updates.\n",
    "\n",
    "Found an annoying bug, have an idea for a feature, or got a question? Post it directly\n",
    "to our [forum](https:\/\/datalore-forum.jetbrains.com\/) or use the Feedback button in the top-right corner of the window.\n",
    "\n",
    "Follow us on Twitter at [@JBDatalore](https:\/\/twitter.com\/JBDatalore)\n",
    "to learn [#HowToDatalore](https:\/\/twitter.com\/hashtag\/howtodatalore)."
   ],
   "attachments":{
    
   },
   "metadata":{
    "datalore":{
     "node_id":"iiqL7MQeb4HlMYN0U88eR4",
     "type":"MD",
     "hide_input_from_viewers":false,
     "hide_output_from_viewers":false
    }
   }
  }
 ],
 "metadata":{
  "kernelspec":{
   "display_name":"Python",
   "language":"python",
   "name":"python"
  },
  "datalore":{
   "version":1,
   "computation_mode":"JUPYTER",
   "packages":[
    
   ]
  }
 },
 "nbformat":4,
 "nbformat_minor":4
}