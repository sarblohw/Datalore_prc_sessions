{
 "cells":[
  {
   "cell_type":"markdown",
   "source":[
    "## Corey Schafer OOP and Classes Series\n",
    "\n",
    "#### OOP and Classes in Python\n",
    "* Reusability\n",
    "* Attributes (data associated with a class)\n",
    "* Methods (functions associated with a class)\n",
    "* Class vs Instance Variables\n",
    "* Static vs Class Methods\n",
    "\n",
    "Classes help group data and functions that help promote usability and if need be, further building on them.\n",
    "\n",
    "-- Use case -- Employee Management for a company"
   ],
   "attachments":{
    
   },
   "metadata":{
    "datalore":{
     "node_id":"0y1h74X9xpsCgG9KGBeMO6",
     "type":"MD",
     "hide_input_from_viewers":false,
     "hide_output_from_viewers":false
    }
   }
  },
  {
   "cell_type":"code",
   "source":[
    "# Class vs instance of a class\n",
    "\n",
    "class Employee:\n",
    "    pass\n",
    "\n",
    "emp_1 = Employee()\n",
    "emp_2 = Employee()\n",
    "\n",
    "print(emp_1, emp_2)"
   ],
   "execution_count":null,
   "outputs":[
    {
     "name":"stdout",
     "text":[
      "<__main__.Employee object at 0x7f4231510ee0> <__main__.Employee object at 0x7f42315108b0>\n"
     ],
     "output_type":"stream"
    }
   ],
   "metadata":{
    "datalore":{
     "node_id":"J7Rp5q8YBCtSYehESfyPrW",
     "type":"CODE",
     "hide_input_from_viewers":false,
     "hide_output_from_viewers":false
    }
   }
  },
  {
   "cell_type":"code",
   "source":[
    "# instace variables\n",
    "\n",
    "emp_1.first = 'Corey'\n",
    "emp_1.last = 'Schafer'\n",
    "emp_1.email = 'Corey.Schafer@company.com'\n",
    "emp_1.pay = 50000\n",
    "\n",
    "emp_2.first = 'Manil'\n",
    "emp_2.last = 'Mittal'\n",
    "emp_2.email = 'Manil.Mittal@company.com'\n",
    "emp_2.pay = 75000\n",
    "\n",
    "print(emp_1.email, emp_2.email)"
   ],
   "execution_count":null,
   "outputs":[
    {
     "name":"stdout",
     "text":[
      "Corey.Schafer@company.com Manil.Mittal@company.com\n"
     ],
     "output_type":"stream"
    }
   ],
   "metadata":{
    "datalore":{
     "node_id":"C0qdJrvsS0B3HTvGSMAbdx",
     "type":"CODE",
     "hide_input_from_viewers":false,
     "hide_output_from_viewers":false
    }
   }
  },
  {
   "cell_type":"code",
   "source":[
    "class Employee:\n",
    "    \n",
    "    # __init__ <- stands for initialize (like a constructor in other languages)\n",
    "    # here the self arguement or parameter can be named anything, 'self' is convention\n",
    "    def __init__(self, first_name, last_name, salary):\n",
    "    \tself.fname = first_name\n",
    "    \tself.lname = last_name\n",
    "    \tself.ctc = salary\n",
    "    \tself.email = first_name + '.' + last_name + '@company.com'\n",
    "\n",
    "\n",
    "    def fullname(self): # class methods will automatically take self as an arguement, if not mentioned here, it will throw an error\n",
    "        # imp to have self as an arguement in methods, it will take the self parameter from when the class was defined\n",
    "    \treturn '{} {}'.format(self.fname, self.lname) \n",
    "        # can be separately calculated using class attributes or can be made into a class function called method\n",
    "\n",
    "\n",
    "emp_1 = Employee('Suminder', 'Singh', '125000')\n",
    "emp_2 = Employee('Manil', 'Mittal', '75000')\n",
    "\n",
    "# class functions are methods which can be called using the \n",
    "print(emp_1.fullname())\n",
    "print(Employee.fullname(emp_1))\n",
    "\n",
    "\n",
    "#if we were to not define a method for the fullname, we may use the class attributes to calculate the same\n",
    "print('The full name of this employee is {} {}.'.format(emp_1.fname, emp_1.lname))"
   ],
   "execution_count":null,
   "outputs":[
    {
     "name":"stdout",
     "text":[
      "Suminder Singh\n",
      "Suminder Singh\n",
      "The full name of this employee is Suminder Singh.\n"
     ],
     "output_type":"stream"
    }
   ],
   "metadata":{
    "datalore":{
     "node_id":"XudoqY3Oy1yTe0HNyHPPxT",
     "type":"CODE",
     "hide_input_from_viewers":false,
     "hide_output_from_viewers":false
    }
   }
  },
  {
   "cell_type":"markdown",
   "source":[
    "It is important to note that `Employee.fullname(emp_1)` and `emp_1.fullname()` will return the same result.\n",
    "\n",
    "`Employee.fullname(emp_1)` <- calling a method through the class\n",
    "`emp_1.fullname()` <- calling a method through a class instance\n",
    "\n",
    "In the second case, ideally whats happening in the background can be seen in the first case. emp_1 being of class Employee will run the method by calling it through the class and then take 'self' as the arguement."
   ],
   "attachments":{
    
   },
   "metadata":{
    "datalore":{
     "node_id":"iznneaCrKufN9gTQ0T0Myn",
     "type":"MD",
     "hide_input_from_viewers":false,
     "hide_output_from_viewers":false
    }
   }
  },
  {
   "cell_type":"code",
   "source":[
    "class Employee:\n",
    "    \n",
    "    def __init__(self, first_name, last_name, salary):\n",
    "    \tself.fname = first_name\n",
    "    \tself.lname = last_name\n",
    "    \tself.ctc = salary\n",
    "    \tself.email = first_name + '.' + last_name + '@company.com'\n",
    "\n",
    "    def fullname(self):\n",
    "    \treturn '{} {}'.format(self.fname, self.lname)\n",
    "\n",
    "# applying raise to employee salaries by hardcoding the raise amount in a method\n",
    "\n",
    "    def apply_raise(self):\n",
    "    \tself.ctc = int(self.ctc * 1.04)\n",
    "\n",
    "emp_1 = Employee('Suminder', 'Singh', 50000)\n",
    "emp_2 = Employee('Manil', 'Mittal', 75000)\n",
    "\n",
    "print(emp_1.ctc)\n",
    "emp_1.apply_raise()\n",
    "print(emp_1.ctc)"
   ],
   "execution_count":null,
   "outputs":[
    {
     "name":"stdout",
     "text":[
      "50000\n",
      "52000\n"
     ],
     "output_type":"stream"
    }
   ],
   "metadata":{
    "datalore":{
     "node_id":"P7aV3QTa8Z7cApZmeAVasE",
     "type":"CODE",
     "hide_input_from_viewers":false,
     "hide_output_from_viewers":false
    }
   }
  },
  {
   "cell_type":"code",
   "source":[
    "class Employee:\n",
    "\n",
    "    appraisal_amount = 1.04\n",
    "\n",
    "    def __init__(self, first_name, last_name, pay):\n",
    "        self.fname = first_name\n",
    "        self.lname = last_name\n",
    "        self.pay = pay\n",
    "        self.email = '{}.{}@company.com'.format(first_name.lower(), last_name.lower())\n",
    "\n",
    "    def fullname(self):\n",
    "        return '{} {}'.format(self.fname, self.lname)\n",
    "\n",
    "    def apply_appraisal(self):\n",
    "        self.pay = int(self.pay * Employee.appraisal_amount)\n",
    "        # Here the appraisal_amount can be called by the class itself or an instance\n",
    "        #Employee.appraisal_amount is same as self.appraisal_amount\n",
    "\n",
    "emp_1 = Employee('Suminder', 'Singh', 125000)\n",
    "\n",
    "print(emp_1.pay)\n",
    "emp_1.apply_appraisal()\n",
    "print(emp_1.pay)"
   ],
   "execution_count":null,
   "outputs":[
    {
     "name":"stdout",
     "text":[
      "125000\n",
      "130000\n"
     ],
     "output_type":"stream"
    }
   ],
   "metadata":{
    "datalore":{
     "node_id":"d6XNxXDiVSUL5xIKGmOcmF",
     "type":"CODE",
     "hide_input_from_viewers":false,
     "hide_output_from_viewers":false
    }
   }
  },
  {
   "cell_type":"code",
   "source":[
    "emp_1 = Employee('Suminder', 'Singh', 125000)\n",
    "emp_2 = Employee('Manil', 'Mittal', 150000)\n",
    "\n",
    "print(emp_1.appraisal_amount)\n",
    "print(emp_2.appraisal_amount)\n",
    "print(Employee.appraisal_amount)\n",
    "\n",
    "# Notice that the output is exactly the same\n",
    "# Py will first check the instance and see if the variable is unique to that instance and if it doesnt find the same in the instance, it will look at the class that the instance was inherited from and return the class variable"
   ],
   "execution_count":null,
   "outputs":[
    {
     "name":"stdout",
     "text":[
      "1.04\n",
      "1.04\n",
      "1.04\n"
     ],
     "output_type":"stream"
    }
   ],
   "metadata":{
    "datalore":{
     "node_id":"lg85g2Mj8hwkvSeUTjuzFO",
     "type":"CODE",
     "hide_input_from_viewers":false,
     "hide_output_from_viewers":false
    }
   }
  },
  {
   "cell_type":"code",
   "source":[
    "# printing all details of an instance or a class using __dict__\n",
    "# the result is called namespace for that class or instance\n",
    "emp_1.__dict__\n",
    "Employee.__dict__\n",
    "# notice that there isnt any appraisal amount variable in the instance and hence when in the previous cell, we called the variable through an instance, it returned the same result as the class variable as per inheritance"
   ],
   "execution_count":null,
   "outputs":[
    {
     "data":{
      "text\/plain":[
       "mappingproxy({'__module__': '__main__',\n",
       "              'appraisal_amount': 1.04,\n",
       "              '__init__': <function __main__.Employee.__init__(self, first_name, last_name, pay)>,\n",
       "              'fullname': <function __main__.Employee.fullname(self)>,\n",
       "              'apply_appraisal': <function __main__.Employee.apply_appraisal(self)>,\n",
       "              '__dict__': <attribute '__dict__' of 'Employee' objects>,\n",
       "              '__weakref__': <attribute '__weakref__' of 'Employee' objects>,\n",
       "              '__doc__': None,\n",
       "              '__slotnames__': []})"
      ]
     },
     "metadata":{
      
     },
     "output_type":"display_data"
    }
   ],
   "metadata":{
    "datalore":{
     "node_id":"Elck8IbMMiHNMSIxd6eaDM",
     "type":"CODE",
     "hide_input_from_viewers":false,
     "hide_output_from_viewers":false
    }
   }
  },
  {
   "cell_type":"code",
   "source":[
    "Employee.appraisal_amount = 1.05\n",
    "print(emp_1.appraisal_amount)\n",
    "print(emp_2.appraisal_amount)\n",
    "print(Employee.appraisal_amount)"
   ],
   "execution_count":null,
   "outputs":[
    {
     "name":"stdout",
     "text":[
      "1.05\n",
      "1.05\n",
      "1.05\n"
     ],
     "output_type":"stream"
    }
   ],
   "metadata":{
    "datalore":{
     "node_id":"1vvR2VX4JUR6E8wdONuTil",
     "type":"CODE",
     "hide_input_from_viewers":false,
     "hide_output_from_viewers":false
    }
   }
  },
  {
   "cell_type":"code",
   "source":[
    "emp_1.appraisal_amount = 1.10\n",
    "print(emp_1.appraisal_amount)\n",
    "print(emp_2.appraisal_amount)\n",
    "print(Employee.appraisal_amount)\n",
    "emp_1.__dict__ # this is called a namespace which has all the characters of an instance or a class\n",
    "# notice that the namespace for emp_1 has appraisal_amount"
   ],
   "execution_count":null,
   "outputs":[
    {
     "name":"stdout",
     "text":[
      "1.1\n",
      "1.05\n",
      "1.05\n"
     ],
     "output_type":"stream"
    },
    {
     "data":{
      "text\/plain":[
       "{'fname': 'Suminder',\n",
       " 'lname': 'Singh',\n",
       " 'pay': 125000,\n",
       " 'email': 'suminder.singh@company.com',\n",
       " 'appraisal_amount': 1.1}"
      ]
     },
     "metadata":{
      
     },
     "output_type":"display_data"
    }
   ],
   "metadata":{
    "datalore":{
     "node_id":"IsYHq6uzzgJBwBYKNWyr57",
     "type":"CODE",
     "hide_input_from_viewers":false,
     "hide_output_from_viewers":false
    }
   }
  },
  {
   "cell_type":"code",
   "source":[
    "# in the apply_appraisal function if we use Employee.appraisal_amount, then the calculation will return basis class variable\n",
    "# using self.appraisal_amount - we can alter the appraisal amount per instance if need be\n",
    "\n",
    "# In the below example, a class variable is more suitable"
   ],
   "execution_count":null,
   "outputs":[
    
   ],
   "metadata":{
    "datalore":{
     "node_id":"GdLKl2IIKFyl3Nc8WgyC8w",
     "type":"CODE",
     "hide_input_from_viewers":false,
     "hide_output_from_viewers":false
    }
   }
  },
  {
   "cell_type":"code",
   "source":[
    "# Adding a counter to increment every time we add an employee\n",
    "# Here, number of total emps wont change basis a particular instance"
   ],
   "execution_count":null,
   "outputs":[
    
   ],
   "metadata":{
    "datalore":{
     "node_id":"gNOKeRcwjsIWYgKeXQk7xD",
     "type":"CODE",
     "hide_input_from_viewers":false,
     "hide_output_from_viewers":false
    }
   }
  },
  {
   "cell_type":"code",
   "source":[
    "class Employee:\n",
    "\n",
    "    num_of_emps = 0\n",
    "    appraisal_amount = 1.04\n",
    "\n",
    "    def __init__(self, first_name, last_name, pay):\n",
    "        self.fname = first_name\n",
    "        self.lname = last_name\n",
    "        self.pay = pay\n",
    "        self.email = '{}.{}@company.com'.format(first_name.lower(), last_name.lower())\n",
    "        \n",
    "        Employee.num_of_emps += 1\n",
    "\n",
    "\n",
    "\n",
    "    def fullname(self):\n",
    "        return '{} {}'.format(self.fname, self.lname)\n",
    "\n",
    "    def apply_appraisal(self):\n",
    "        self.pay = int(self.pay * Employee.appraisal_amount)\n",
    "\n",
    "\n",
    "emp_1 = Employee('Suminder', 'Singh', 125000)\n",
    "emp_2 = Employee('Manil', 'Mittal', 150000)\n",
    "\n",
    "print(Employee.num_of_emps)\n",
    "print(emp_1.num_of_emps)"
   ],
   "execution_count":null,
   "outputs":[
    {
     "name":"stdout",
     "text":[
      "2\n",
      "2\n"
     ],
     "output_type":"stream"
    }
   ],
   "metadata":{
    "datalore":{
     "node_id":"zleA2LlQlLJrq6IxrCs7yU",
     "type":"CODE",
     "hide_input_from_viewers":false,
     "hide_output_from_viewers":false
    }
   }
  },
  {
   "cell_type":"code",
   "source":[
    "class Employee:\n",
    "\n",
    "    num_of_emps = 0\n",
    "    appraisal_amount = 1.04\n",
    "\n",
    "    def __init__(self, first_name, last_name, pay):\n",
    "        self.fname = first_name\n",
    "        self.lname = last_name\n",
    "        self.pay = pay\n",
    "        self.email = '{}.{}@company.com'.format(first_name.lower(), last_name.lower())\n",
    "        \n",
    "        Employee.num_of_emps += 1\n",
    "\n",
    "\n",
    "\n",
    "    def fullname(self):\n",
    "        return '{} {}'.format(self.fname, self.lname)\n",
    "\n",
    "    def apply_appraisal(self):\n",
    "        self.pay = int(self.pay * Employee.appraisal_amount)\n",
    "\n",
    "print(Employee.num_of_emps)\n",
    "\n",
    "emp_1 = Employee('Suminder', 'Singh', 125000)\n",
    "\n",
    "print(Employee.num_of_emps)\n",
    "\n",
    "emp_2 = Employee('Manil', 'Mittal', 150000)\n",
    "\n",
    "print(Employee.num_of_emps)\n",
    "print(emp_1.num_of_emps)"
   ],
   "execution_count":null,
   "outputs":[
    {
     "name":"stdout",
     "text":[
      "0\n",
      "1\n",
      "2\n",
      "2\n"
     ],
     "output_type":"stream"
    }
   ],
   "metadata":{
    "datalore":{
     "node_id":"caWmlySg2FUMD8wl94bygA",
     "type":"CODE",
     "hide_input_from_viewers":false,
     "hide_output_from_viewers":false
    }
   }
  },
  {
   "cell_type":"code",
   "source":[
    "# Instance Methods vs Class Methods\n",
    "\n",
    "# class method :: a function when takes the arguement as the class(convention: cls) and not as 'self'(or anything that denotes that instance)"
   ],
   "execution_count":null,
   "outputs":[
    
   ],
   "metadata":{
    "datalore":{
     "node_id":"DCz3WvOwqPjp0qT0tT3Xvk",
     "type":"CODE",
     "hide_input_from_viewers":false,
     "hide_output_from_viewers":false
    }
   }
  },
  {
   "cell_type":"code",
   "source":[
    "# method defined to be able to set an appraisal amount for the class\n",
    "# this method is a class method and needs a decorator '@classmethod'\n",
    "\n",
    "class Employee:\n",
    "\n",
    "    num_of_emps = 0\n",
    "    appraisal_amount = 1.04\n",
    "\n",
    "    def __init__(self, first_name, last_name, pay):\n",
    "        self.fname = first_name\n",
    "        self.lname = last_name\n",
    "        self.pay = pay\n",
    "        self.email = '{}.{}@company.com'.format(first_name.lower(), last_name.lower())\n",
    "        \n",
    "        Employee.num_of_emps += 1\n",
    "\n",
    "\n",
    "\n",
    "    def fullname(self):\n",
    "        return '{} {}'.format(self.fname, self.lname)\n",
    "\n",
    "    def apply_appraisal(self):\n",
    "        self.pay = int(self.pay * Employee.appraisal_amount)\n",
    "\n",
    "\n",
    "    @classmethod\n",
    "    def set_appraisal_amount(cls, amount):\n",
    "        cls.appraisal_amount = amount\n",
    "\n",
    "\n",
    "emp_1 = Employee('Suminder', 'Singh', 125000)\n",
    "emp_2 = Employee('Manil', 'Mittal', 150000)\n",
    "\n",
    "print(emp_1.appraisal_amount)\n",
    "print(emp_2.appraisal_amount)\n",
    "print(Employee.appraisal_amount)\n",
    "\n",
    "Employee.set_appraisal_amount(1.25)\n",
    "\n",
    "print(emp_1.appraisal_amount)\n",
    "print(emp_2.appraisal_amount)\n",
    "print(Employee.appraisal_amount)"
   ],
   "execution_count":null,
   "outputs":[
    {
     "name":"stdout",
     "text":[
      "1.04\n",
      "1.04\n",
      "1.04\n",
      "1.25\n",
      "1.25\n",
      "1.25\n"
     ],
     "output_type":"stream"
    }
   ],
   "metadata":{
    "datalore":{
     "node_id":"18sVBNOEwc9an8ISYkwXVH",
     "type":"CODE",
     "hide_input_from_viewers":false,
     "hide_output_from_viewers":false
    }
   }
  },
  {
   "cell_type":"code",
   "source":[
    "# class methods as alternative constructors\n",
    "# once a class is created, we can use class methods as alternative constructors for specific case uses\n",
    "# methods here act as other ways to create instances of that class\n",
    "# Example below - lets say we are getting info on employees as a string and we need to use that to create instances of employees"
   ],
   "execution_count":null,
   "outputs":[
    
   ],
   "metadata":{
    "datalore":{
     "node_id":"GvcCZHlvlyU1bbzpAjgdZD",
     "type":"CODE",
     "hide_input_from_viewers":false,
     "hide_output_from_viewers":false
    }
   }
  },
  {
   "cell_type":"code",
   "source":[
    "#maual way of doing the example\n",
    "class Employee:\n",
    "\n",
    "    num_of_emps = 0\n",
    "    appraisal_amount = 1.04\n",
    "\n",
    "    def __init__(self, first_name, last_name, pay):\n",
    "        self.fname = first_name\n",
    "        self.lname = last_name\n",
    "        self.pay = pay\n",
    "        self.email = '{}.{}@company.com'.format(first_name.lower(), last_name.lower())\n",
    "        \n",
    "        Employee.num_of_emps += 1\n",
    "\n",
    "\n",
    "\n",
    "    def fullname(self):\n",
    "        return '{} {}'.format(self.fname, self.lname)\n",
    "\n",
    "    def apply_appraisal(self):\n",
    "        self.pay = int(self.pay * Employee.appraisal_amount)\n",
    "\n",
    "\n",
    "    @classmethod\n",
    "    def set_appraisal_amount(cls, amount):\n",
    "        cls.appraisal_amount = amount\n",
    "\n",
    "\n",
    "emp_str_1 = 'John-Doe-70000'\n",
    "emp_str_2 = 'Suminder-Singh-125000'\n",
    "emp_str_3 = 'Manil-Mittal-150000'\n",
    "\n",
    "frst, lst, sal = emp_str_1.split('-')\n",
    "emp_1 = Employee(frst, lst, sal)\n",
    "\n",
    "print(emp_1.fullname())"
   ],
   "execution_count":null,
   "outputs":[
    {
     "name":"stdout",
     "text":[
      "John Doe\n"
     ],
     "output_type":"stream"
    }
   ],
   "metadata":{
    "datalore":{
     "node_id":"zDuWK3zJ611hNWeqbvcyta",
     "type":"CODE",
     "hide_input_from_viewers":false,
     "hide_output_from_viewers":false
    }
   }
  },
  {
   "cell_type":"code",
   "source":[
    "#using class method as an alternative constructor to solve above example\n",
    "\n",
    "class Employee:\n",
    "\n",
    "    num_of_emps = 0\n",
    "    appraisal_amount = 1.04\n",
    "\n",
    "    def __init__(self, first_name, last_name, pay):\n",
    "        self.fname = first_name\n",
    "        self.lname = last_name\n",
    "        self.pay = pay\n",
    "        self.email = '{}.{}@company.com'.format(first_name.lower(), last_name.lower())\n",
    "        \n",
    "        Employee.num_of_emps += 1\n",
    "\n",
    "\n",
    "\n",
    "    def fullname(self):\n",
    "        return '{} {}'.format(self.fname, self.lname)\n",
    "\n",
    "    def apply_appraisal(self):\n",
    "        self.pay = int(self.pay * Employee.appraisal_amount)\n",
    "\n",
    "\n",
    "    @classmethod\n",
    "    def set_appraisal_amount(cls, amount):\n",
    "        cls.appraisal_amount = amount\n",
    "\n",
    "    @classmethod\n",
    "    def from_string(cls, emp_string):\n",
    "         first, last, salary = emp_string.split('-')\n",
    "         return cls(first, last, salary)\n",
    "\n",
    "\n",
    "emp_str_1 = 'John-Doe-70000'\n",
    "emp_str_2 = 'Suminder-Singh-125000'\n",
    "emp_str_3 = 'Manil-Mittal-150000'\n",
    "\n",
    "emp_2 = Employee.from_string(emp_str_2)\n",
    "\n",
    "print(emp_2.email)"
   ],
   "execution_count":null,
   "outputs":[
    {
     "name":"stdout",
     "text":[
      "suminder.singh@company.com\n"
     ],
     "output_type":"stream"
    }
   ],
   "metadata":{
    "datalore":{
     "node_id":"SVDo5ezkJqa3Y6X67P23nW",
     "type":"CODE",
     "hide_input_from_viewers":false,
     "hide_output_from_viewers":false
    }
   }
  },
  {
   "cell_type":"code",
   "source":[
    "class Employee:\n",
    "\n",
    "    num_of_emps = 0\n",
    "    appraisal_amount = 1.04\n",
    "\n",
    "    def __init__(self, first_name, last_name, pay):\n",
    "        self.fname = first_name\n",
    "        self.lname = last_name\n",
    "        self.pay = pay\n",
    "        self.email = '{}.{}@company.com'.format(first_name.lower(), last_name.lower())\n",
    "        \n",
    "        Employee.num_of_emps += 1\n",
    "\n",
    "\n",
    "\n",
    "    def fullname(self):\n",
    "        return '{} {}'.format(self.fname, self.lname)\n",
    "\n",
    "    def apply_appraisal(self):\n",
    "        self.pay = int(self.pay * Employee.appraisal_amount)\n",
    "\n",
    "\n",
    "    @classmethod\n",
    "    def set_appraisal_amount(cls, amount):\n",
    "        cls.appraisal_amount = amount\n",
    "\n",
    "    @classmethod\n",
    "    def from_string(cls, emp_string):\n",
    "         first, last, salary = emp_string.split('-')\n",
    "         return cls(first, last, salary)\n",
    "\n",
    "\n",
    "emp_str_1 = 'John-Doe-70000'\n",
    "emp_str_2 = 'Suminder-Singh-125000'\n",
    "emp_str_3 = 'Manil-Mittal-150000'\n",
    "\n",
    "emp_1 = Employee.from_string(emp_str_1)\n",
    "emp_2 = Employee.from_string(emp_str_2)\n",
    "emp_3 = Employee.from_string(emp_str_3)\n",
    "\n",
    "print(emp_1.email)\n",
    "print(emp_2.email)\n",
    "print(emp_3.email)"
   ],
   "execution_count":null,
   "outputs":[
    {
     "name":"stdout",
     "text":[
      "john.doe@company.com\n",
      "suminder.singh@company.com\n",
      "manil.mittal@company.com\n"
     ],
     "output_type":"stream"
    }
   ],
   "metadata":{
    "datalore":{
     "node_id":"ntHhqnXHMJJFSq1UI5kTx9",
     "type":"CODE",
     "hide_input_from_viewers":false,
     "hide_output_from_viewers":false
    }
   }
  },
  {
   "cell_type":"code",
   "source":[
    
   ],
   "execution_count":null,
   "outputs":[
    
   ],
   "metadata":{
    "datalore":{
     "node_id":"b8P4swlpE6AcJvbHLfAXow",
     "type":"CODE",
     "hide_input_from_viewers":false,
     "hide_output_from_viewers":false
    }
   }
  }
 ],
 "metadata":{
  "kernelspec":{
   "display_name":"Python",
   "language":"python",
   "name":"python"
  },
  "datalore":{
   "version":1,
   "computation_mode":"JUPYTER",
   "package_manager":"pip",
   "base_environment":"default",
   "packages":[
    
   ]
  }
 },
 "nbformat":4,
 "nbformat_minor":4
}