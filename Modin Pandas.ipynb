{
 "cells":[
  {
   "cell_type":"markdown",
   "source":[
    "### How to Speed up Pandas by 4x "
   ],
   "attachments":{
    
   },
   "metadata":{
    "datalore":{
     "node_id":"8sByzBCOhgoWMBhJuGYXbw",
     "type":"MD",
     "hide_input_from_viewers":false,
     "hide_output_from_viewers":false
    }
   }
  },
  {
   "cell_type":"code",
   "source":[
    "import pandas as pd"
   ],
   "execution_count":null,
   "outputs":[
    
   ],
   "metadata":{
    "datalore":{
     "node_id":"00RTj3CXW08RkI3l7YBLkg",
     "type":"CODE",
     "hide_input_from_viewers":false,
     "hide_output_from_viewers":false
    }
   }
  },
  {
   "cell_type":"code",
   "source":[
    "### Read in the data with Pandas\n",
    "import pandas as pd\n",
    "\n",
    "s = time.time()\n",
    "df = pd.read_csv(\"esea_master_dmg_demos.part1.csv\")\n",
    "e = time.time()\n",
    "print(\"Pandas Loading Time = {}\".format(e-s))\n",
    "\n",
    "### Read in the data with Modin\n",
    "import modin.pandas as pd\n",
    "\n",
    "s = time.time()\n",
    "df = pd.read_csv(\"esea_master_dmg_demos.part1.csv\")\n",
    "e = time.time()\n",
    "print(\"Modin Loading Time = {}\".format(e-s))"
   ],
   "execution_count":null,
   "outputs":[
    
   ],
   "metadata":{
    "datalore":{
     "node_id":"OUdBcRrCl3VcxjYgfCSjnl",
     "type":"CODE",
     "hide_input_from_viewers":false,
     "hide_output_from_viewers":false
    }
   }
  },
  {
   "cell_type":"code",
   "source":[
    "import modin.pandas as pd"
   ],
   "execution_count":null,
   "outputs":[
    
   ],
   "metadata":{
    "datalore":{
     "node_id":"e8rAc4ex8NBCMBRGCLK3S8",
     "type":"CODE",
     "hide_input_from_viewers":false,
     "hide_output_from_viewers":false
    }
   }
  },
  {
   "cell_type":"code",
   "source":[
    "import modin.pandas as pd\n",
    "import numpy as np\n",
    "\n",
    "frame_data = np.random.randint(0, 100, size=(2**10, 2**8))\n",
    "df = pd.DataFrame(frame_data)"
   ],
   "execution_count":null,
   "outputs":[
    
   ],
   "metadata":{
    "datalore":{
     "node_id":"SaigrtMhBTrTrNUOG5PXhP",
     "type":"CODE",
     "hide_input_from_viewers":false,
     "hide_output_from_viewers":false
    }
   }
  },
  {
   "cell_type":"code",
   "source":[
    "df.shape"
   ],
   "execution_count":null,
   "outputs":[
    
   ],
   "metadata":{
    "datalore":{
     "node_id":"MYfAOE8j2XKfvTl47CXhRN",
     "type":"CODE",
     "hide_input_from_viewers":false,
     "hide_output_from_viewers":false
    }
   }
  },
  {
   "cell_type":"code",
   "source":[
    "df.to_csv('test.csv')"
   ],
   "execution_count":null,
   "outputs":[
    
   ],
   "metadata":{
    "datalore":{
     "node_id":"T5sFP1pycCtTULBYA9MovZ",
     "type":"CODE",
     "hide_input_from_viewers":false,
     "hide_output_from_viewers":false
    }
   }
  },
  {
   "cell_type":"code",
   "source":[
    "%%time\n",
    "import pandas as pd\n",
    "pd.read_csv('https:\/\/raw.githubusercontent.com\/MateLabs\/Public-Datasets\/master\/Datasets\/wine.csv')"
   ],
   "execution_count":null,
   "outputs":[
    
   ],
   "metadata":{
    "datalore":{
     "node_id":"G625JJBIoRIjrh07jenpXO",
     "type":"CODE",
     "hide_input_from_viewers":false,
     "hide_output_from_viewers":false
    }
   }
  },
  {
   "cell_type":"code",
   "source":[
    "%%time\n",
    "import modin.pandas as pd\n",
    "pd.read_csv('https:\/\/raw.githubusercontent.com\/MateLabs\/Public-Datasets\/master\/Datasets\/wine.csv')"
   ],
   "execution_count":null,
   "outputs":[
    
   ],
   "metadata":{
    "datalore":{
     "node_id":"HWsj63wDt0JSXywkXA2XoD",
     "type":"CODE",
     "hide_input_from_viewers":false,
     "hide_output_from_viewers":false
    }
   }
  },
  {
   "cell_type":"code",
   "source":[
    "import time\n",
    "import pandas as pd\n",
    "df=pd.read_csv('test.csv')\n",
    "s = time.time()\n",
    "df = pd.concat([df for _ in range(100)])\n",
    "e = time.time()\n",
    "print(\"Pandas Concat Time = {}\".format(e-s))"
   ],
   "execution_count":null,
   "outputs":[
    
   ],
   "metadata":{
    "datalore":{
     "node_id":"pLjZIiyUkC8tAuVqYyHSfk",
     "type":"CODE",
     "hide_input_from_viewers":false,
     "hide_output_from_viewers":false
    }
   }
  },
  {
   "cell_type":"code",
   "source":[
    
   ],
   "execution_count":null,
   "outputs":[
    
   ],
   "metadata":{
    "datalore":{
     "node_id":"sune2dmPH5gniqXWDbdyfJ",
     "type":"CODE",
     "hide_input_from_viewers":false,
     "hide_output_from_viewers":false
    }
   }
  }
 ],
 "metadata":{
  "kernelspec":{
   "display_name":"Python",
   "language":"python",
   "name":"python"
  },
  "datalore":{
   "version":1,
   "computation_mode":"JUPYTER",
   "packages":[
    
   ]
  }
 },
 "nbformat":4,
 "nbformat_minor":4
}