{
 "cells":[
  {
   "cell_type":"markdown",
   "source":[
    "### List Python Project\n",
    "### Problem Statement: 📝📝\n",
    "\n",
    "* ***🎓🎓 Analytics Vidhya conducted an assessment test to hire a Data Scientist. The candidates were evaluated on 5 different subject `A`, `B`, `C`, `D`, and `E`. 🎓🎓 The marks of 5 different subjects out of 100 are given below. Help Analytics Vidhya to find out the answers of the following question.***\n",
    "\n",
    "📍📍\n",
    "\n",
    "   * 🙇 Who scored the highest marks in the subject B?"
   ],
   "attachments":{
    
   },
   "metadata":{
    "datalore":{
     "node_id":"7buNtOXbZEm1uQ9NKMvxNY",
     "type":"MD",
     "hide_input_from_viewers":false,
     "hide_output_from_viewers":false
    }
   }
  },
  {
   "cell_type":"code",
   "source":[
    "# student marks\n",
    "student_marks = [['Name',  ['A','B','C','D','E']],\n",
    "                 ['Ankit',  [41, 34, 45, 55, 63]],\n",
    "                 ['Aravind',[42, 23, 34, 44, 53]],\n",
    "                 ['Lakshay',[32, 23, 13, 54, 67]],\n",
    "                 ['Gyan',   [23, 82, 23, 63, 34]],\n",
    "                 ['Pranav', [21, 23, 25, 56, 56]]\n",
    "                ]"
   ],
   "execution_count":null,
   "outputs":[
    
   ],
   "metadata":{
    "datalore":{
     "node_id":"JMKB6CQcsZXeagBNd0TolV",
     "type":"CODE",
     "hide_input_from_viewers":false,
     "hide_output_from_viewers":false
    }
   }
  },
  {
   "cell_type":"code",
   "source":[
    "# my solution\n",
    "\n",
    "x = []\n",
    "y = []\n",
    "\n",
    "for lst in student_marks:\n",
    "    x.append(lst[1][1])\n",
    "    y.append(lst[0])\n",
    "\n",
    "x = x[1:]\n",
    "y = y[1:]\n",
    "\n",
    "y[x.index(max(x))]"
   ],
   "execution_count":null,
   "outputs":[
    
   ],
   "metadata":{
    "datalore":{
     "node_id":"7PxoYG8K6SQAbRZmBpTtd5",
     "type":"CODE",
     "hide_input_from_viewers":false,
     "hide_output_from_viewers":false
    }
   }
  },
  {
   "cell_type":"code",
   "source":[
    "# alternative solution\n",
    "\n",
    "student_names_and_marks_B = []\n",
    "\n",
    "for i in student_marks[1:]:\n",
    "    nme = i[0]\n",
    "    mrks_B = i[1][1]\n",
    "    student_names_and_marks_B.append([mrks_B, nme])\n",
    "print(sorted(student_names_and_marks_B)[-1][1])"
   ],
   "execution_count":null,
   "outputs":[
    
   ],
   "metadata":{
    "datalore":{
     "node_id":"CAFDlxs9bxSwQeRYyR08ii",
     "type":"CODE",
     "hide_input_from_viewers":false,
     "hide_output_from_viewers":false
    }
   }
  },
  {
   "cell_type":"code",
   "source":[
    "#student_marks[1][1].count(45)"
   ],
   "execution_count":null,
   "outputs":[
    
   ],
   "metadata":{
    "datalore":{
     "node_id":"ifqXl77JsH900XQMKcBGwk",
     "type":"CODE",
     "hide_input_from_viewers":false,
     "hide_output_from_viewers":false
    }
   }
  },
  {
   "cell_type":"markdown",
   "source":[
    "###### Tuples -- immutable, ordered -- (tuple) -- index, count, slice... \n",
    "###### Sets -- mutable, unordered, unique -- set operations possible..."
   ],
   "attachments":{
    
   },
   "metadata":{
    "datalore":{
     "node_id":"sOm5oxONUAlOeV4zGudgZb",
     "type":"MD",
     "hide_input_from_viewers":false,
     "hide_output_from_viewers":false
    }
   }
  },
  {
   "cell_type":"code",
   "source":[
    "my_set = {1,1,5,5,7,9,6,23,87,8,95,4,8,8,5,8,7,5,89,459,4599,456,46554,444}"
   ],
   "execution_count":null,
   "outputs":[
    
   ],
   "metadata":{
    "datalore":{
     "node_id":"VQWiatgkwKUFO4wLNW5NNv",
     "type":"CODE",
     "hide_input_from_viewers":false,
     "hide_output_from_viewers":false
    }
   }
  },
  {
   "cell_type":"code",
   "source":[
    "# adding elements in a set > add, update(multiple values)\n",
    "\n",
    "my_set.add('Fav')"
   ],
   "execution_count":null,
   "outputs":[
    
   ],
   "metadata":{
    "datalore":{
     "node_id":"Kue9E4JkfZ932ZFuOZqV4g",
     "type":"CODE",
     "hide_input_from_viewers":false,
     "hide_output_from_viewers":false
    }
   }
  },
  {
   "cell_type":"code",
   "source":[
    "my_set"
   ],
   "execution_count":null,
   "outputs":[
    
   ],
   "metadata":{
    "datalore":{
     "node_id":"VVsiPuTjIuulmFh4lH2pou",
     "type":"CODE",
     "hide_input_from_viewers":false,
     "hide_output_from_viewers":false
    }
   }
  },
  {
   "cell_type":"code",
   "source":[
    "# removing elements from a set > discard, remove(gives an error if value is not present, as opposed to discard)\n",
    "\n",
    "my_set.discard(444)"
   ],
   "execution_count":null,
   "outputs":[
    
   ],
   "metadata":{
    "datalore":{
     "node_id":"2R8Wfewo7rhNUtYSsm1Igc",
     "type":"CODE",
     "hide_input_from_viewers":false,
     "hide_output_from_viewers":false
    }
   }
  },
  {
   "cell_type":"markdown",
   "source":[
    "## Set Theory operations on sets\n",
    "\n",
    "* Difference - elements of set1 not present in set2\n",
    "* Intersection - common elements\n",
    "* isdisjoint - disjoint sets are those whose intersection set is an empty set\n",
    "* issubset - set1 is fully contained in set2\n",
    "* issuperset - set2 is fully contained in set1\n",
    "* union - all elements in both sets"
   ],
   "attachments":{
    
   },
   "metadata":{
    "datalore":{
     "node_id":"3kECAulVx52SmedUg97d48",
     "type":"MD",
     "hide_input_from_viewers":false,
     "hide_output_from_viewers":false
    }
   }
  },
  {
   "cell_type":"code",
   "source":[
    "set_1 = {1,2,4,6,7,8,10}\n",
    "set_2 = {1,3,5,6,7,'B'}"
   ],
   "execution_count":null,
   "outputs":[
    
   ],
   "metadata":{
    "datalore":{
     "node_id":"5fDdb5UYGeNxMFWMsQc2ms",
     "type":"CODE",
     "hide_input_from_viewers":false,
     "hide_output_from_viewers":false
    }
   }
  },
  {
   "cell_type":"code",
   "source":[
    "set_1.difference(set_2) # elements in set 1 which are not part of set 2\n",
    "# will not update the original set and can be assigned to a new variable\n",
    "# use difference_update to update set1 with the result"
   ],
   "execution_count":null,
   "outputs":[
    
   ],
   "metadata":{
    "datalore":{
     "node_id":"IvQWSKtHGDuoS2KNR4hr3g",
     "type":"CODE",
     "hide_input_from_viewers":false,
     "hide_output_from_viewers":false
    }
   }
  },
  {
   "cell_type":"code",
   "source":[
    "set_1.isdisjoint(set_2)"
   ],
   "execution_count":null,
   "outputs":[
    
   ],
   "metadata":{
    "datalore":{
     "node_id":"flnRZ5Z2UbosLK23bOlq9H",
     "type":"CODE",
     "hide_input_from_viewers":false,
     "hide_output_from_viewers":false
    }
   }
  },
  {
   "cell_type":"code",
   "source":[
    "lstt = [1,2,3,4,4,4,4,4,5]"
   ],
   "execution_count":null,
   "outputs":[
    
   ],
   "metadata":{
    "datalore":{
     "node_id":"uC1YHYVZKeqaCkG7luq72U",
     "type":"CODE",
     "hide_input_from_viewers":false,
     "hide_output_from_viewers":false
    }
   }
  },
  {
   "cell_type":"code",
   "source":[
    "set(lstt)"
   ],
   "execution_count":null,
   "outputs":[
    
   ],
   "metadata":{
    "datalore":{
     "node_id":"CUFnhUUPkpDOTjCGLZimFx",
     "type":"CODE",
     "hide_input_from_viewers":false,
     "hide_output_from_viewers":false
    }
   }
  },
  {
   "cell_type":"code",
   "source":[
    "lstt2 = [\n",
    "    [1,2,3,4,5],\n",
    "    [3,4,6,8,8],\n",
    "    [3,5,6,2,4]\n",
    "]"
   ],
   "execution_count":null,
   "outputs":[
    
   ],
   "metadata":{
    "datalore":{
     "node_id":"9frG1S7e3FuqZdXmyCg0ew",
     "type":"CODE",
     "hide_input_from_viewers":false,
     "hide_output_from_viewers":false
    }
   }
  },
  {
   "cell_type":"code",
   "source":[
    "lstt2"
   ],
   "execution_count":null,
   "outputs":[
    
   ],
   "metadata":{
    "datalore":{
     "node_id":"PONcdsdt0wXOOrYBaptYOS",
     "type":"CODE",
     "hide_input_from_viewers":false,
     "hide_output_from_viewers":false
    }
   }
  },
  {
   "cell_type":"code",
   "source":[
    "import numpy as np"
   ],
   "execution_count":null,
   "outputs":[
    
   ],
   "metadata":{
    "datalore":{
     "node_id":"mUkTLivjkdl5aylhEA4fP0",
     "type":"CODE",
     "hide_input_from_viewers":false,
     "hide_output_from_viewers":false
    }
   }
  },
  {
   "cell_type":"code",
   "source":[
    "x = np.random.randint(11, 23, [5, 4])"
   ],
   "execution_count":null,
   "outputs":[
    
   ],
   "metadata":{
    "datalore":{
     "node_id":"CdZEoMmLTyXdRjyuPPEunH",
     "type":"CODE",
     "hide_input_from_viewers":false,
     "hide_output_from_viewers":false
    }
   }
  },
  {
   "cell_type":"code",
   "source":[
    "x"
   ],
   "execution_count":null,
   "outputs":[
    
   ],
   "metadata":{
    "datalore":{
     "node_id":"QxbUq90uE2Mwl7BkPWMATb",
     "type":"CODE",
     "hide_input_from_viewers":false,
     "hide_output_from_viewers":false
    }
   }
  },
  {
   "cell_type":"code",
   "source":[
    "lstt2"
   ],
   "execution_count":null,
   "outputs":[
    
   ],
   "metadata":{
    "datalore":{
     "node_id":"wgFYTbH77ZTayuNtwN4aj0",
     "type":"CODE",
     "hide_input_from_viewers":false,
     "hide_output_from_viewers":false
    }
   }
  },
  {
   "cell_type":"code",
   "source":[
    "set(lstt2[0]).intersection(set(lstt2[2]))"
   ],
   "execution_count":null,
   "outputs":[
    
   ],
   "metadata":{
    "datalore":{
     "node_id":"WLFJ7lDKSVykCV6iKQ8imE",
     "type":"CODE",
     "hide_input_from_viewers":false,
     "hide_output_from_viewers":false
    }
   }
  },
  {
   "cell_type":"code",
   "source":[
    "# converting np array to list\n",
    "\n",
    "x.tolist()"
   ],
   "execution_count":null,
   "outputs":[
    
   ],
   "metadata":{
    "datalore":{
     "node_id":"nU48pmGospwhYaIHkx0y9D",
     "type":"CODE",
     "hide_input_from_viewers":false,
     "hide_output_from_viewers":false
    }
   }
  },
  {
   "cell_type":"code",
   "source":[
    
   ],
   "execution_count":null,
   "outputs":[
    
   ],
   "metadata":{
    "datalore":{
     "node_id":"F6kt18hGP2qmO9NW2kZE6r",
     "type":"CODE",
     "hide_input_from_viewers":false,
     "hide_output_from_viewers":false
    }
   }
  }
 ],
 "metadata":{
  "kernelspec":{
   "display_name":"Python",
   "language":"python",
   "name":"python"
  },
  "datalore":{
   "version":1,
   "computation_mode":"JUPYTER",
   "packages":[
    
   ]
  }
 },
 "nbformat":4,
 "nbformat_minor":4
}