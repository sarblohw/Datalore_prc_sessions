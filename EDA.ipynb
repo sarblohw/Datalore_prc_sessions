{
 "cells":[
  {
   "cell_type":"markdown",
   "source":[
    "## Univariate,Bivariate and MultiVariate Analysis"
   ],
   "attachments":{
    
   },
   "metadata":{
    "datalore":{
     "node_id":"TXvMj5CS5G0DnBTMVLp4tU",
     "type":"MD",
     "hide_input_from_viewers":false,
     "hide_output_from_viewers":false
    }
   }
  },
  {
   "cell_type":"code",
   "source":[
    "import pandas as pd\n",
    "import numpy as np\n",
    "import matplotlib.pyplot as plt\n",
    "import seaborn as sns"
   ],
   "execution_count":1,
   "outputs":[
    
   ],
   "metadata":{
    "datalore":{
     "node_id":"sbjWzTgO7QaWOh9Gviv6rk",
     "type":"CODE",
     "hide_input_from_viewers":false,
     "hide_output_from_viewers":false
    }
   }
  },
  {
   "cell_type":"code",
   "source":[
    "df=pd.read_csv('https:\/\/raw.githubusercontent.com\/uiuc-cse\/data-fa14\/gh-pages\/data\/iris.csv')"
   ],
   "execution_count":2,
   "outputs":[
    
   ],
   "metadata":{
    "datalore":{
     "node_id":"VHpoiSn8mKDYnXFJUSSZ4m",
     "type":"CODE",
     "hide_input_from_viewers":false,
     "hide_output_from_viewers":false
    }
   }
  },
  {
   "cell_type":"code",
   "source":[
    "df.head()"
   ],
   "execution_count":3,
   "outputs":[
    {
     "data":{
      "text\/html":[
       "<div>\n",
       "<style scoped>\n",
       "    .dataframe tbody tr th:only-of-type {\n",
       "        vertical-align: middle;\n",
       "    }\n",
       "\n",
       "    .dataframe tbody tr th {\n",
       "        vertical-align: top;\n",
       "    }\n",
       "\n",
       "    .dataframe thead th {\n",
       "        text-align: right;\n",
       "    }\n",
       "<\/style>\n",
       "<table border=\"1\" class=\"dataframe\">\n",
       "  <thead>\n",
       "    <tr style=\"text-align: right;\">\n",
       "      <th><\/th>\n",
       "      <th>sepal_length<\/th>\n",
       "      <th>sepal_width<\/th>\n",
       "      <th>petal_length<\/th>\n",
       "      <th>petal_width<\/th>\n",
       "      <th>species<\/th>\n",
       "    <\/tr>\n",
       "  <\/thead>\n",
       "  <tbody>\n",
       "    <tr>\n",
       "      <th>0<\/th>\n",
       "      <td>5.1<\/td>\n",
       "      <td>3.5<\/td>\n",
       "      <td>1.4<\/td>\n",
       "      <td>0.2<\/td>\n",
       "      <td>setosa<\/td>\n",
       "    <\/tr>\n",
       "    <tr>\n",
       "      <th>1<\/th>\n",
       "      <td>4.9<\/td>\n",
       "      <td>3.0<\/td>\n",
       "      <td>1.4<\/td>\n",
       "      <td>0.2<\/td>\n",
       "      <td>setosa<\/td>\n",
       "    <\/tr>\n",
       "    <tr>\n",
       "      <th>2<\/th>\n",
       "      <td>4.7<\/td>\n",
       "      <td>3.2<\/td>\n",
       "      <td>1.3<\/td>\n",
       "      <td>0.2<\/td>\n",
       "      <td>setosa<\/td>\n",
       "    <\/tr>\n",
       "    <tr>\n",
       "      <th>3<\/th>\n",
       "      <td>4.6<\/td>\n",
       "      <td>3.1<\/td>\n",
       "      <td>1.5<\/td>\n",
       "      <td>0.2<\/td>\n",
       "      <td>setosa<\/td>\n",
       "    <\/tr>\n",
       "    <tr>\n",
       "      <th>4<\/th>\n",
       "      <td>5.0<\/td>\n",
       "      <td>3.6<\/td>\n",
       "      <td>1.4<\/td>\n",
       "      <td>0.2<\/td>\n",
       "      <td>setosa<\/td>\n",
       "    <\/tr>\n",
       "  <\/tbody>\n",
       "<\/table>\n",
       "<\/div>"
      ]
     },
     "metadata":{
      
     },
     "output_type":"display_data"
    }
   ],
   "metadata":{
    "datalore":{
     "node_id":"hDdDNX3aM6n6UHT0136s3b",
     "type":"CODE",
     "hide_input_from_viewers":false,
     "hide_output_from_viewers":false
    }
   }
  },
  {
   "cell_type":"code",
   "source":[
    "df.shape"
   ],
   "execution_count":4,
   "outputs":[
    {
     "data":{
      "text\/plain":[
       "(150, 5)"
      ]
     },
     "metadata":{
      
     },
     "output_type":"display_data"
    }
   ],
   "metadata":{
    "datalore":{
     "node_id":"4yHszFaP8wvOqocfhBSfgy",
     "type":"CODE",
     "hide_input_from_viewers":false,
     "hide_output_from_viewers":false
    }
   }
  },
  {
   "cell_type":"markdown",
   "source":[
    "### Univariate Analysis"
   ],
   "attachments":{
    
   },
   "metadata":{
    "datalore":{
     "node_id":"MTcRCZojBHla37CGYbDKn3",
     "type":"MD",
     "hide_input_from_viewers":false,
     "hide_output_from_viewers":false
    }
   }
  },
  {
   "cell_type":"code",
   "source":[
    "df_setosa=df.loc[df['species']=='setosa']"
   ],
   "execution_count":5,
   "outputs":[
    
   ],
   "metadata":{
    "datalore":{
     "node_id":"h7sLFjVk3CdFFUcs8xX0u9",
     "type":"CODE",
     "hide_input_from_viewers":false,
     "hide_output_from_viewers":false
    }
   }
  },
  {
   "cell_type":"code",
   "source":[
    "df_virginica=df.loc[df['species']=='virginica']\n",
    "df_versicolor=df.loc[df['species']=='versicolor']"
   ],
   "execution_count":6,
   "outputs":[
    
   ],
   "metadata":{
    "datalore":{
     "node_id":"pETX82xBlfrU8Zb2oh0qhn",
     "type":"CODE",
     "hide_input_from_viewers":false,
     "hide_output_from_viewers":false
    }
   }
  },
  {
   "cell_type":"code",
   "source":[
    "plt.plot(df_setosa['sepal_length'],np.zeros_like(df_setosa['sepal_length']),'o')\n",
    "plt.plot(df_virginica['sepal_length'],np.zeros_like(df_virginica['sepal_length']),'o')\n",
    "plt.plot(df_versicolor['sepal_length'],np.zeros_like(df_versicolor['sepal_length']),'o')\n",
    "plt.xlabel('Petal length')\n",
    "plt.show()"
   ],
   "execution_count":7,
   "outputs":[
    {
     "data":{
      
     },
     "metadata":{
      
     },
     "output_type":"display_data"
    }
   ],
   "metadata":{
    "datalore":{
     "node_id":"vevGla95PIPxmrubaxMKAY",
     "type":"CODE",
     "hide_input_from_viewers":false,
     "hide_output_from_viewers":false
    }
   }
  },
  {
   "cell_type":"markdown",
   "source":[
    "### Bivariate Analysis"
   ],
   "attachments":{
    
   },
   "metadata":{
    "datalore":{
     "node_id":"jvRVsvocyg19KTQwAuJVvy",
     "type":"MD",
     "hide_input_from_viewers":false,
     "hide_output_from_viewers":false
    }
   }
  },
  {
   "cell_type":"code",
   "source":[
    "sns.FacetGrid(df,hue=\"species\",size=5).map(plt.scatter,\"petal_length\",\"sepal_width\").add_legend();\n",
    "plt.show()"
   ],
   "execution_count":8,
   "outputs":[
    {
     "name":"stderr",
     "text":[
      "\/opt\/python\/envs\/default\/lib\/python3.8\/site-packages\/seaborn\/axisgrid.py:316: UserWarning: The `size` parameter has been renamed to `height`; please update your code.\n",
      "  warnings.warn(msg, UserWarning)\n"
     ],
     "output_type":"stream"
    },
    {
     "data":{
      
     },
     "metadata":{
      
     },
     "output_type":"display_data"
    }
   ],
   "metadata":{
    "datalore":{
     "node_id":"KNGJ8hSiX9Z70LrRCEqlZH",
     "type":"CODE",
     "hide_input_from_viewers":false,
     "hide_output_from_viewers":false
    }
   }
  },
  {
   "cell_type":"markdown",
   "source":[
    "### Multivariate Analysis"
   ],
   "attachments":{
    
   },
   "metadata":{
    "datalore":{
     "node_id":"cG7Tu1qamuT3zBFSnGhOp5",
     "type":"MD",
     "hide_input_from_viewers":false,
     "hide_output_from_viewers":false
    }
   }
  },
  {
   "cell_type":"code",
   "source":[
    "sns.pairplot(df,hue=\"species\",size=3)"
   ],
   "execution_count":9,
   "outputs":[
    {
     "name":"stderr",
     "text":[
      "\/opt\/python\/envs\/default\/lib\/python3.8\/site-packages\/seaborn\/axisgrid.py:1969: UserWarning: The `size` parameter has been renamed to `height`; please update your code.\n",
      "  warnings.warn(msg, UserWarning)\n"
     ],
     "output_type":"stream"
    },
    {
     "data":{
      "text\/plain":[
       "<seaborn.axisgrid.PairGrid at 0x7fb523b33910>"
      ]
     },
     "metadata":{
      
     },
     "output_type":"display_data"
    },
    {
     "data":{
      
     },
     "metadata":{
      
     },
     "output_type":"display_data"
    }
   ],
   "metadata":{
    "datalore":{
     "node_id":"pugvryTynF67yDQln0r6XM",
     "type":"CODE",
     "hide_input_from_viewers":false,
     "hide_output_from_viewers":false
    }
   }
  }
 ],
 "metadata":{
  "kernelspec":{
   "display_name":"Python",
   "language":"python",
   "name":"python"
  },
  "datalore":{
   "version":1,
   "computation_mode":"JUPYTER",
   "packages":[
    
   ]
  }
 },
 "nbformat":4,
 "nbformat_minor":4
}