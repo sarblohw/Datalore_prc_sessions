{
 "cells":[
  {
   "cell_type":"code",
   "source":[
    "import pandas as pd"
   ],
   "execution_count":1,
   "outputs":[
    
   ],
   "metadata":{
    "datalore":{
     "node_id":"06QENatEELrUfaoFGQk30Z",
     "type":"CODE",
     "hide_input_from_viewers":false,
     "hide_output_from_viewers":false
    }
   }
  },
  {
   "cell_type":"code",
   "source":[
    "df = pd.read_csv('Iris.csv', index_col='Id')"
   ],
   "execution_count":5,
   "outputs":[
    
   ],
   "metadata":{
    "datalore":{
     "node_id":"OY4Pj5BJ4WunEu7AwJFIJy",
     "type":"CODE",
     "hide_input_from_viewers":false,
     "hide_output_from_viewers":false
    }
   }
  },
  {
   "cell_type":"code",
   "source":[
    "df.head(3)"
   ],
   "execution_count":6,
   "outputs":[
    {
     "data":{
      "text\/html":[
       "<div>\n",
       "<style scoped>\n",
       "    .dataframe tbody tr th:only-of-type {\n",
       "        vertical-align: middle;\n",
       "    }\n",
       "\n",
       "    .dataframe tbody tr th {\n",
       "        vertical-align: top;\n",
       "    }\n",
       "\n",
       "    .dataframe thead th {\n",
       "        text-align: right;\n",
       "    }\n",
       "<\/style>\n",
       "<table border=\"1\" class=\"dataframe\">\n",
       "  <thead>\n",
       "    <tr style=\"text-align: right;\">\n",
       "      <th><\/th>\n",
       "      <th>SepalLengthCm<\/th>\n",
       "      <th>SepalWidthCm<\/th>\n",
       "      <th>PetalLengthCm<\/th>\n",
       "      <th>PetalWidthCm<\/th>\n",
       "      <th>Species<\/th>\n",
       "    <\/tr>\n",
       "    <tr>\n",
       "      <th>Id<\/th>\n",
       "      <th><\/th>\n",
       "      <th><\/th>\n",
       "      <th><\/th>\n",
       "      <th><\/th>\n",
       "      <th><\/th>\n",
       "    <\/tr>\n",
       "  <\/thead>\n",
       "  <tbody>\n",
       "    <tr>\n",
       "      <th>1<\/th>\n",
       "      <td>5.1<\/td>\n",
       "      <td>3.5<\/td>\n",
       "      <td>1.4<\/td>\n",
       "      <td>0.2<\/td>\n",
       "      <td>Iris-setosa<\/td>\n",
       "    <\/tr>\n",
       "    <tr>\n",
       "      <th>2<\/th>\n",
       "      <td>4.9<\/td>\n",
       "      <td>3.0<\/td>\n",
       "      <td>1.4<\/td>\n",
       "      <td>0.2<\/td>\n",
       "      <td>Iris-setosa<\/td>\n",
       "    <\/tr>\n",
       "    <tr>\n",
       "      <th>3<\/th>\n",
       "      <td>4.7<\/td>\n",
       "      <td>3.2<\/td>\n",
       "      <td>1.3<\/td>\n",
       "      <td>0.2<\/td>\n",
       "      <td>Iris-setosa<\/td>\n",
       "    <\/tr>\n",
       "  <\/tbody>\n",
       "<\/table>\n",
       "<\/div>"
      ]
     },
     "metadata":{
      
     },
     "output_type":"display_data"
    }
   ],
   "metadata":{
    "datalore":{
     "node_id":"sYkmNgJng26oEQNKn285su",
     "type":"CODE",
     "hide_input_from_viewers":false,
     "hide_output_from_viewers":false
    }
   }
  },
  {
   "cell_type":"code",
   "source":[
    "df.loc[df.SepalLengthCm >= 3.5, ['SepalLengthCm', 'Species']].value_counts(normalize=True)"
   ],
   "execution_count":9,
   "outputs":[
    {
     "data":{
      "text\/plain":[
       "SepalLengthCm  Species        \n",
       "5.1            Iris-setosa        0.053333\n",
       "5.0            Iris-setosa        0.053333\n",
       "6.3            Iris-virginica     0.040000\n",
       "5.5            Iris-versicolor    0.033333\n",
       "6.7            Iris-virginica     0.033333\n",
       "5.6            Iris-versicolor    0.033333\n",
       "5.7            Iris-versicolor    0.033333\n",
       "6.4            Iris-virginica     0.033333\n",
       "4.8            Iris-setosa        0.033333\n",
       "5.4            Iris-setosa        0.033333\n",
       "4.9            Iris-setosa        0.026667\n",
       "6.5            Iris-virginica     0.026667\n",
       "4.6            Iris-setosa        0.026667\n",
       "7.7            Iris-virginica     0.026667\n",
       "6.0            Iris-versicolor    0.026667\n",
       "6.1            Iris-versicolor    0.026667\n",
       "6.7            Iris-versicolor    0.020000\n",
       "6.9            Iris-virginica     0.020000\n",
       "5.8            Iris-versicolor    0.020000\n",
       "               Iris-virginica     0.020000\n",
       "7.2            Iris-virginica     0.020000\n",
       "6.3            Iris-versicolor    0.020000\n",
       "5.2            Iris-setosa        0.020000\n",
       "4.4            Iris-setosa        0.020000\n",
       "6.2            Iris-versicolor    0.013333\n",
       "6.1            Iris-virginica     0.013333\n",
       "6.2            Iris-virginica     0.013333\n",
       "6.0            Iris-virginica     0.013333\n",
       "6.4            Iris-versicolor    0.013333\n",
       "5.9            Iris-versicolor    0.013333\n",
       "6.8            Iris-virginica     0.013333\n",
       "5.7            Iris-setosa        0.013333\n",
       "5.5            Iris-setosa        0.013333\n",
       "5.0            Iris-versicolor    0.013333\n",
       "4.7            Iris-setosa        0.013333\n",
       "6.6            Iris-versicolor    0.013333\n",
       "6.8            Iris-versicolor    0.006667\n",
       "6.9            Iris-versicolor    0.006667\n",
       "7.0            Iris-versicolor    0.006667\n",
       "7.1            Iris-virginica     0.006667\n",
       "7.3            Iris-virginica     0.006667\n",
       "7.4            Iris-virginica     0.006667\n",
       "7.6            Iris-virginica     0.006667\n",
       "4.3            Iris-setosa        0.006667\n",
       "6.5            Iris-versicolor    0.006667\n",
       "5.9            Iris-virginica     0.006667\n",
       "5.8            Iris-setosa        0.006667\n",
       "5.7            Iris-virginica     0.006667\n",
       "5.6            Iris-virginica     0.006667\n",
       "5.4            Iris-versicolor    0.006667\n",
       "5.3            Iris-setosa        0.006667\n",
       "5.2            Iris-versicolor    0.006667\n",
       "5.1            Iris-versicolor    0.006667\n",
       "4.9            Iris-virginica     0.006667\n",
       "               Iris-versicolor    0.006667\n",
       "4.5            Iris-setosa        0.006667\n",
       "7.9            Iris-virginica     0.006667\n",
       "dtype: float64"
      ]
     },
     "metadata":{
      
     },
     "output_type":"display_data"
    }
   ],
   "metadata":{
    "datalore":{
     "node_id":"cvBNDISA3eCCb3XYHwD8QT",
     "type":"CODE",
     "hide_input_from_viewers":false,
     "hide_output_from_viewers":false
    }
   }
  },
  {
   "cell_type":"code",
   "source":[
    "pd.options.display.float_format = '{:,.2f}'.format\n",
    "tst = df.loc[:, ['Species', 'SepalLengthCm', 'SepalWidthCm']].groupby(by='Species').agg(['mean', 'median'])"
   ],
   "execution_count":15,
   "outputs":[
    
   ],
   "metadata":{
    "datalore":{
     "node_id":"Ga1MyXbLzYTfHiuBlIz9Pv",
     "type":"CODE",
     "hide_input_from_viewers":false,
     "hide_output_from_viewers":false
    }
   }
  },
  {
   "cell_type":"code",
   "source":[
    "tst.sort_values(by=[('SepalLengthCm', 'median'), ('SepalWidthCm', 'mean')], ascending=[False, False])"
   ],
   "execution_count":21,
   "outputs":[
    {
     "data":{
      "text\/html":[
       "<div>\n",
       "<style scoped>\n",
       "    .dataframe tbody tr th:only-of-type {\n",
       "        vertical-align: middle;\n",
       "    }\n",
       "\n",
       "    .dataframe tbody tr th {\n",
       "        vertical-align: top;\n",
       "    }\n",
       "\n",
       "    .dataframe thead tr th {\n",
       "        text-align: left;\n",
       "    }\n",
       "\n",
       "    .dataframe thead tr:last-of-type th {\n",
       "        text-align: right;\n",
       "    }\n",
       "<\/style>\n",
       "<table border=\"1\" class=\"dataframe\">\n",
       "  <thead>\n",
       "    <tr>\n",
       "      <th><\/th>\n",
       "      <th colspan=\"2\" halign=\"left\">SepalLengthCm<\/th>\n",
       "      <th colspan=\"2\" halign=\"left\">SepalWidthCm<\/th>\n",
       "    <\/tr>\n",
       "    <tr>\n",
       "      <th><\/th>\n",
       "      <th>mean<\/th>\n",
       "      <th>median<\/th>\n",
       "      <th>mean<\/th>\n",
       "      <th>median<\/th>\n",
       "    <\/tr>\n",
       "    <tr>\n",
       "      <th>Species<\/th>\n",
       "      <th><\/th>\n",
       "      <th><\/th>\n",
       "      <th><\/th>\n",
       "      <th><\/th>\n",
       "    <\/tr>\n",
       "  <\/thead>\n",
       "  <tbody>\n",
       "    <tr>\n",
       "      <th>Iris-virginica<\/th>\n",
       "      <td>6.59<\/td>\n",
       "      <td>6.50<\/td>\n",
       "      <td>2.97<\/td>\n",
       "      <td>3.00<\/td>\n",
       "    <\/tr>\n",
       "    <tr>\n",
       "      <th>Iris-versicolor<\/th>\n",
       "      <td>5.94<\/td>\n",
       "      <td>5.90<\/td>\n",
       "      <td>2.77<\/td>\n",
       "      <td>2.80<\/td>\n",
       "    <\/tr>\n",
       "    <tr>\n",
       "      <th>Iris-setosa<\/th>\n",
       "      <td>5.01<\/td>\n",
       "      <td>5.00<\/td>\n",
       "      <td>3.42<\/td>\n",
       "      <td>3.40<\/td>\n",
       "    <\/tr>\n",
       "  <\/tbody>\n",
       "<\/table>\n",
       "<\/div>"
      ]
     },
     "metadata":{
      
     },
     "output_type":"display_data"
    }
   ],
   "metadata":{
    "datalore":{
     "node_id":"5vbucL06vAQli1iwwtCVQC",
     "type":"CODE",
     "hide_input_from_viewers":false,
     "hide_output_from_viewers":false
    }
   }
  },
  {
   "cell_type":"code",
   "source":[
    "tst"
   ],
   "execution_count":22,
   "outputs":[
    {
     "data":{
      "text\/html":[
       "<div>\n",
       "<style scoped>\n",
       "    .dataframe tbody tr th:only-of-type {\n",
       "        vertical-align: middle;\n",
       "    }\n",
       "\n",
       "    .dataframe tbody tr th {\n",
       "        vertical-align: top;\n",
       "    }\n",
       "\n",
       "    .dataframe thead tr th {\n",
       "        text-align: left;\n",
       "    }\n",
       "\n",
       "    .dataframe thead tr:last-of-type th {\n",
       "        text-align: right;\n",
       "    }\n",
       "<\/style>\n",
       "<table border=\"1\" class=\"dataframe\">\n",
       "  <thead>\n",
       "    <tr>\n",
       "      <th><\/th>\n",
       "      <th colspan=\"2\" halign=\"left\">SepalLengthCm<\/th>\n",
       "      <th colspan=\"2\" halign=\"left\">SepalWidthCm<\/th>\n",
       "    <\/tr>\n",
       "    <tr>\n",
       "      <th><\/th>\n",
       "      <th>mean<\/th>\n",
       "      <th>median<\/th>\n",
       "      <th>mean<\/th>\n",
       "      <th>median<\/th>\n",
       "    <\/tr>\n",
       "    <tr>\n",
       "      <th>Species<\/th>\n",
       "      <th><\/th>\n",
       "      <th><\/th>\n",
       "      <th><\/th>\n",
       "      <th><\/th>\n",
       "    <\/tr>\n",
       "  <\/thead>\n",
       "  <tbody>\n",
       "    <tr>\n",
       "      <th>Iris-setosa<\/th>\n",
       "      <td>5.01<\/td>\n",
       "      <td>5.00<\/td>\n",
       "      <td>3.42<\/td>\n",
       "      <td>3.40<\/td>\n",
       "    <\/tr>\n",
       "    <tr>\n",
       "      <th>Iris-versicolor<\/th>\n",
       "      <td>5.94<\/td>\n",
       "      <td>5.90<\/td>\n",
       "      <td>2.77<\/td>\n",
       "      <td>2.80<\/td>\n",
       "    <\/tr>\n",
       "    <tr>\n",
       "      <th>Iris-virginica<\/th>\n",
       "      <td>6.59<\/td>\n",
       "      <td>6.50<\/td>\n",
       "      <td>2.97<\/td>\n",
       "      <td>3.00<\/td>\n",
       "    <\/tr>\n",
       "  <\/tbody>\n",
       "<\/table>\n",
       "<\/div>"
      ]
     },
     "metadata":{
      
     },
     "output_type":"display_data"
    }
   ],
   "metadata":{
    "datalore":{
     "node_id":"c9zOJVph5yryjd2XKohyFr",
     "type":"CODE",
     "hide_input_from_viewers":false,
     "hide_output_from_viewers":false
    }
   }
  },
  {
   "cell_type":"code",
   "source":[
    "tst['sss'] = tst.loc[:, ('SepalWidthCm', 'median')].apply(lambda x: x\/2)"
   ],
   "execution_count":23,
   "outputs":[
    
   ],
   "metadata":{
    "datalore":{
     "node_id":"JMHHVfSl1Ta4ozMvCgqRNd",
     "type":"CODE",
     "hide_input_from_viewers":false,
     "hide_output_from_viewers":false
    }
   }
  },
  {
   "cell_type":"code",
   "source":[
    "tst.loc['Iris-setosa']"
   ],
   "execution_count":28,
   "outputs":[
    {
     "data":{
      "text\/plain":[
       "SepalLengthCm  mean     5.01\n",
       "               median   5.00\n",
       "SepalWidthCm   mean     3.42\n",
       "               median   3.40\n",
       "sss                     1.70\n",
       "Name: Iris-setosa, dtype: float64"
      ]
     },
     "metadata":{
      
     },
     "output_type":"display_data"
    }
   ],
   "metadata":{
    "datalore":{
     "node_id":"t2CL1pArOIbHeEx4Ovbq6h",
     "type":"CODE",
     "hide_input_from_viewers":false,
     "hide_output_from_viewers":false
    }
   }
  },
  {
   "cell_type":"code",
   "source":[
    "tst.loc['Iris-setosa'].loc['SepalLengthCm']"
   ],
   "execution_count":26,
   "outputs":[
    {
     "data":{
      "text\/plain":[
       "mean     5.01\n",
       "median   5.00\n",
       "Name: Iris-setosa, dtype: float64"
      ]
     },
     "metadata":{
      
     },
     "output_type":"display_data"
    }
   ],
   "metadata":{
    "datalore":{
     "node_id":"RQ2LSu0Ua12i05S9MisOSK",
     "type":"CODE",
     "hide_input_from_viewers":false,
     "hide_output_from_viewers":false
    }
   }
  },
  {
   "cell_type":"code",
   "source":[
    "tst.loc['Iris-setosa'].loc['SepalLengthCm'].loc['mean'].round(3)"
   ],
   "execution_count":32,
   "outputs":[
    {
     "data":{
      "text\/plain":[
       "5.006"
      ]
     },
     "metadata":{
      
     },
     "output_type":"display_data"
    }
   ],
   "metadata":{
    "datalore":{
     "node_id":"Dn9Z5KwWcrZMc0Oo7R3uL8",
     "type":"CODE",
     "hide_input_from_viewers":false,
     "hide_output_from_viewers":false
    }
   }
  },
  {
   "cell_type":"code",
   "source":[
    "def tstfnc(x):\n",
    "    return x\/4\n",
    "\n",
    "tst['sss'] = tst.loc[:, ('SepalWidthCm', 'median')].apply(tstfnc)"
   ],
   "execution_count":33,
   "outputs":[
    
   ],
   "metadata":{
    "datalore":{
     "node_id":"JFnuad0azOCyomHQ31szdX",
     "type":"CODE",
     "hide_input_from_viewers":false,
     "hide_output_from_viewers":false
    }
   }
  },
  {
   "cell_type":"code",
   "source":[
    "tst"
   ],
   "execution_count":34,
   "outputs":[
    {
     "data":{
      "text\/html":[
       "<div>\n",
       "<style scoped>\n",
       "    .dataframe tbody tr th:only-of-type {\n",
       "        vertical-align: middle;\n",
       "    }\n",
       "\n",
       "    .dataframe tbody tr th {\n",
       "        vertical-align: top;\n",
       "    }\n",
       "\n",
       "    .dataframe thead tr th {\n",
       "        text-align: left;\n",
       "    }\n",
       "\n",
       "    .dataframe thead tr:last-of-type th {\n",
       "        text-align: right;\n",
       "    }\n",
       "<\/style>\n",
       "<table border=\"1\" class=\"dataframe\">\n",
       "  <thead>\n",
       "    <tr>\n",
       "      <th><\/th>\n",
       "      <th colspan=\"2\" halign=\"left\">SepalLengthCm<\/th>\n",
       "      <th colspan=\"2\" halign=\"left\">SepalWidthCm<\/th>\n",
       "      <th>sss<\/th>\n",
       "    <\/tr>\n",
       "    <tr>\n",
       "      <th><\/th>\n",
       "      <th>mean<\/th>\n",
       "      <th>median<\/th>\n",
       "      <th>mean<\/th>\n",
       "      <th>median<\/th>\n",
       "      <th><\/th>\n",
       "    <\/tr>\n",
       "    <tr>\n",
       "      <th>Species<\/th>\n",
       "      <th><\/th>\n",
       "      <th><\/th>\n",
       "      <th><\/th>\n",
       "      <th><\/th>\n",
       "      <th><\/th>\n",
       "    <\/tr>\n",
       "  <\/thead>\n",
       "  <tbody>\n",
       "    <tr>\n",
       "      <th>Iris-setosa<\/th>\n",
       "      <td>5.01<\/td>\n",
       "      <td>5.00<\/td>\n",
       "      <td>3.42<\/td>\n",
       "      <td>3.40<\/td>\n",
       "      <td>0.85<\/td>\n",
       "    <\/tr>\n",
       "    <tr>\n",
       "      <th>Iris-versicolor<\/th>\n",
       "      <td>5.94<\/td>\n",
       "      <td>5.90<\/td>\n",
       "      <td>2.77<\/td>\n",
       "      <td>2.80<\/td>\n",
       "      <td>0.70<\/td>\n",
       "    <\/tr>\n",
       "    <tr>\n",
       "      <th>Iris-virginica<\/th>\n",
       "      <td>6.59<\/td>\n",
       "      <td>6.50<\/td>\n",
       "      <td>2.97<\/td>\n",
       "      <td>3.00<\/td>\n",
       "      <td>0.75<\/td>\n",
       "    <\/tr>\n",
       "  <\/tbody>\n",
       "<\/table>\n",
       "<\/div>"
      ]
     },
     "metadata":{
      
     },
     "output_type":"display_data"
    }
   ],
   "metadata":{
    "datalore":{
     "node_id":"ISh8X2prjRbM7w2JQXiDeB",
     "type":"CODE",
     "hide_input_from_viewers":false,
     "hide_output_from_viewers":false
    }
   }
  },
  {
   "cell_type":"code",
   "source":[
    
   ],
   "execution_count":null,
   "outputs":[
    
   ],
   "metadata":{
    "datalore":{
     "node_id":"iyv7Y6GrbP8kNKVocVH9Hu",
     "type":"CODE",
     "hide_input_from_viewers":false,
     "hide_output_from_viewers":false
    }
   }
  }
 ],
 "metadata":{
  "kernelspec":{
   "display_name":"Python",
   "language":"python",
   "name":"python"
  },
  "datalore":{
   "version":1,
   "computation_mode":"JUPYTER",
   "packages":[
    
   ]
  }
 },
 "nbformat":4,
 "nbformat_minor":4
}