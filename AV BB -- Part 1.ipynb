{
 "cells":[
  {
   "cell_type":"markdown",
   "source":[
    "# Module: ML Basics to Pro\n",
    "_____________________________________________________"
   ],
   "attachments":{
    
   },
   "metadata":{
    "datalore":{
     "node_id":"CvQXh7PbZVfghxlwofP1cT",
     "type":"MD",
     "hide_input_from_viewers":false,
     "hide_output_from_viewers":false
    }
   }
  },
  {
   "cell_type":"code",
   "source":[
    "for char in 'analytics vidhya':\n",
    "    print(char)"
   ],
   "execution_count":null,
   "outputs":[
    
   ],
   "metadata":{
    "datalore":{
     "node_id":"RxdK6IOoZyLaEJhViNd9qu",
     "type":"CODE",
     "hide_input_from_viewers":false,
     "hide_output_from_viewers":false
    }
   }
  },
  {
   "cell_type":"markdown",
   "source":[
    "### Nested Loops\n",
    "total iterations = outer loop iterations * inner loop iterations"
   ],
   "attachments":{
    
   },
   "metadata":{
    "datalore":{
     "node_id":"IJ67gNAy6taYaW3x29UC9k",
     "type":"MD",
     "hide_input_from_viewers":false,
     "hide_output_from_viewers":false
    }
   }
  },
  {
   "cell_type":"code",
   "source":[
    "for i in range(3):\n",
    "    for char in 'ABC':\n",
    "        print(1, char)"
   ],
   "execution_count":null,
   "outputs":[
    
   ],
   "metadata":{
    "datalore":{
     "node_id":"LAjeHWxOCbCUkc7eE4HI5z",
     "type":"CODE",
     "hide_input_from_viewers":false,
     "hide_output_from_viewers":false
    }
   }
  },
  {
   "cell_type":"code",
   "source":[
    "# pre-assigned var loop\n",
    "\n",
    "number = 0\n",
    "\n",
    "for number in range(10):\n",
    "    print(number)\n",
    "    if number == 7:\n",
    "        break"
   ],
   "execution_count":null,
   "outputs":[
    
   ],
   "metadata":{
    "datalore":{
     "node_id":"AuQ3EW5jp06Ch0PR8fHT6f",
     "type":"CODE",
     "hide_input_from_viewers":false,
     "hide_output_from_viewers":false
    }
   }
  },
  {
   "cell_type":"code",
   "source":[
    "password = 'data'\n",
    "\n",
    "for i in range(1, 6):\n",
    "    \n",
    "    if i == 5:\n",
    "        print('last try bastard!')\n",
    "        \n",
    "    entered_pass = input(prompt = 'Enter your stupid password: ')\n",
    "    \n",
    "    if entered_pass == password:\n",
    "        print('Entry granted, your dumbness!')\n",
    "        break\n",
    "    elif (entered_pass != password) and i==5:\n",
    "        print('Wrong! You are out!')\n",
    "    else:\n",
    "        print('Wrong!')"
   ],
   "execution_count":null,
   "outputs":[
    
   ],
   "metadata":{
    "datalore":{
     "node_id":"IhtVzlZ89tZ3QI87bIIQQv",
     "type":"CODE",
     "hide_input_from_viewers":false,
     "hide_output_from_viewers":false
    }
   }
  },
  {
   "cell_type":"code",
   "source":[
    "for i in range(10):\n",
    "    \n",
    "    if i == 6:\n",
    "        continue\n",
    "    \n",
    "    print('Number: ' + str(i))\n",
    "    \n",
    "print('out of loop')"
   ],
   "execution_count":null,
   "outputs":[
    
   ],
   "metadata":{
    "datalore":{
     "node_id":"BboXdE4nNAWdPzRsIakk4C",
     "type":"CODE",
     "hide_input_from_viewers":false,
     "hide_output_from_viewers":false
    }
   }
  },
  {
   "cell_type":"markdown",
   "source":[
    "#### OTP program, 4th try should say 'last try', when correct OTP entered it should ask for further details"
   ],
   "attachments":{
    
   },
   "metadata":{
    "datalore":{
     "node_id":"Do4TkAwgwNXQ85ObgUAS4b",
     "type":"MD",
     "hide_input_from_viewers":false,
     "hide_output_from_viewers":false
    }
   }
  },
  {
   "cell_type":"code",
   "source":[
    "# format 1\n",
    "\n",
    "OTP = 1232\n",
    "\n",
    "for chance in range(5):\n",
    "    \n",
    "    usr_otp = int(input('Enter OTP: '))\n",
    "    \n",
    "    if usr_otp == OTP:\n",
    "        print('Correct Password!')\n",
    "        usr_name = input('Enter your name: ')\n",
    "        usr_city = input('Enter your city: ')\n",
    "        print(f'{usr_name.title()} from {usr_city.title()}. You are in!')\n",
    "        break\n",
    "    \n",
    "    elif (usr_otp != OTP) and chance == 3:\n",
    "        print('Last Chance!')\n",
    "    \n",
    "    elif (usr_otp != OTP) and chance == 4:\n",
    "        print('You are out!')\n",
    "    \n",
    "    else:\n",
    "        continue"
   ],
   "execution_count":null,
   "outputs":[
    
   ],
   "metadata":{
    "datalore":{
     "node_id":"Xk97dFZLrh3lSWKCdkOMxp",
     "type":"CODE",
     "hide_input_from_viewers":false,
     "hide_output_from_viewers":false
    }
   }
  },
  {
   "cell_type":"code",
   "source":[
    "# format 2\n",
    "\n",
    "OTP = 1232\n",
    "\n",
    "for i in range(5):\n",
    "    \n",
    "    if i == 4:\n",
    "        print('last try!')\n",
    "    \n",
    "    usr_pass = input('Enter OTP: ')\n",
    "    \n",
    "    if  usr_pass == str(OTP):\n",
    "        input('Enter name: ')\n",
    "        input('Enter city: ')\n",
    "        break\n",
    "    \n",
    "    else:\n",
    "        print('OTP Wrong!')"
   ],
   "execution_count":null,
   "outputs":[
    
   ],
   "metadata":{
    "datalore":{
     "node_id":"KAVvS5GvTEoeXHULLaDQYh",
     "type":"CODE",
     "hide_input_from_viewers":false,
     "hide_output_from_viewers":false
    }
   }
  },
  {
   "cell_type":"code",
   "source":[
    "# format 3\n",
    "\n",
    "OTP = 1232\n",
    "\n",
    "for i in range(5):\n",
    "    \n",
    "    if i == 4:\n",
    "        print('last try!')\n",
    "    \n",
    "    usr_pass = input('Enter OTP: ')\n",
    "    \n",
    "    if usr_pass != str(OTP):\n",
    "        print('OTP Wrong!')\n",
    "        continue\n",
    "    else:\n",
    "        input('Enter name: ')\n",
    "        input('Enter city: ')\n",
    "        break"
   ],
   "execution_count":null,
   "outputs":[
    
   ],
   "metadata":{
    "datalore":{
     "node_id":"wGrK3JS721BDyeOvjWGzXJ",
     "type":"CODE",
     "hide_input_from_viewers":false,
     "hide_output_from_viewers":false
    }
   }
  },
  {
   "cell_type":"markdown",
   "source":[
    "#### JUMP STATEMENTS\n",
    "\n",
    "* pass - used as a placeholder, does not and lets the loop go on\n",
    "* continue - skips that iteration of the loop\n",
    "* break - breaks loop"
   ],
   "attachments":{
    
   },
   "metadata":{
    "datalore":{
     "node_id":"8qzPe2hkd1OTClb9IsOOOJ",
     "type":"MD",
     "hide_input_from_viewers":false,
     "hide_output_from_viewers":false
    }
   }
  },
  {
   "cell_type":"markdown",
   "source":[
    "### Lists"
   ],
   "attachments":{
    
   },
   "metadata":{
    "datalore":{
     "node_id":"iB7RkQe3zanwtsbJFOnyAW",
     "type":"MD",
     "hide_input_from_viewers":false,
     "hide_output_from_viewers":false
    }
   }
  },
  {
   "cell_type":"code",
   "source":[
    "my_list = [1,2,3,4,5,6,7,8,9,0]\n",
    "\n",
    "my_list[::]"
   ],
   "execution_count":null,
   "outputs":[
    
   ],
   "metadata":{
    "datalore":{
     "node_id":"sF2pYjDa5JtajbC14Wt9jY",
     "type":"CODE",
     "hide_input_from_viewers":false,
     "hide_output_from_viewers":false
    }
   }
  },
  {
   "cell_type":"code",
   "source":[
    "my_list[::-1] # reverse list using index"
   ],
   "execution_count":null,
   "outputs":[
    
   ],
   "metadata":{
    "datalore":{
     "node_id":"vZSMkKjbQF4xaeiSWbtTiX",
     "type":"CODE",
     "hide_input_from_viewers":false,
     "hide_output_from_viewers":false
    }
   }
  },
  {
   "cell_type":"markdown",
   "source":[
    "##### List operations\n",
    "* Adding elements to a list > extend, append, insert\n",
    "* Membership operators > in ... in can be used with the not operator to check membership"
   ],
   "attachments":{
    
   },
   "metadata":{
    "datalore":{
     "node_id":"lt6XcJOb8bIuqTsmzOcmf1",
     "type":"MD",
     "hide_input_from_viewers":false,
     "hide_output_from_viewers":false
    }
   }
  },
  {
   "cell_type":"code",
   "source":[
    "8 in my_list"
   ],
   "execution_count":null,
   "outputs":[
    
   ],
   "metadata":{
    "datalore":{
     "node_id":"tqafRgMTRhfNvjti3apfjU",
     "type":"CODE",
     "hide_input_from_viewers":false,
     "hide_output_from_viewers":false
    }
   }
  },
  {
   "cell_type":"code",
   "source":[
    "8 not in my_list"
   ],
   "execution_count":null,
   "outputs":[
    
   ],
   "metadata":{
    "datalore":{
     "node_id":"wOxpCKNbmVyGJn5Fjsgb0f",
     "type":"CODE",
     "hide_input_from_viewers":false,
     "hide_output_from_viewers":false
    }
   }
  },
  {
   "cell_type":"code",
   "source":[
    "my_list.extend([4,5])"
   ],
   "execution_count":null,
   "outputs":[
    
   ],
   "metadata":{
    "datalore":{
     "node_id":"uOzpEAvomrPlYvjWwmwTa8",
     "type":"CODE",
     "hide_input_from_viewers":false,
     "hide_output_from_viewers":false
    }
   }
  },
  {
   "cell_type":"code",
   "source":[
    "my_list"
   ],
   "execution_count":null,
   "outputs":[
    
   ],
   "metadata":{
    "datalore":{
     "node_id":"Mv1j6Dgx0XKw9PS5mSbbHl",
     "type":"CODE",
     "hide_input_from_viewers":false,
     "hide_output_from_viewers":false
    }
   }
  },
  {
   "cell_type":"code",
   "source":[
    "my_list.append([4,5])"
   ],
   "execution_count":null,
   "outputs":[
    
   ],
   "metadata":{
    "datalore":{
     "node_id":"GNckY7ZMW2KFGljCy1XqEZ",
     "type":"CODE",
     "hide_input_from_viewers":false,
     "hide_output_from_viewers":false
    }
   }
  },
  {
   "cell_type":"code",
   "source":[
    "my_list"
   ],
   "execution_count":null,
   "outputs":[
    
   ],
   "metadata":{
    "datalore":{
     "node_id":"LM5uMfdrxus3OnraiyWN4B",
     "type":"CODE",
     "hide_input_from_viewers":false,
     "hide_output_from_viewers":false
    }
   }
  },
  {
   "cell_type":"code",
   "source":[
    "my_list.insert(2, 'py')"
   ],
   "execution_count":null,
   "outputs":[
    
   ],
   "metadata":{
    "datalore":{
     "node_id":"5E4P7YiaVuanuzVbO7IiCs",
     "type":"CODE",
     "hide_input_from_viewers":false,
     "hide_output_from_viewers":false
    }
   }
  },
  {
   "cell_type":"code",
   "source":[
    "my_list"
   ],
   "execution_count":null,
   "outputs":[
    
   ],
   "metadata":{
    "datalore":{
     "node_id":"3Xdm9H8bU4Bbo3KujBftJz",
     "type":"CODE",
     "hide_input_from_viewers":false,
     "hide_output_from_viewers":false
    }
   }
  },
  {
   "cell_type":"code",
   "source":[
    "my_list.remove('py') # remove particular element"
   ],
   "execution_count":null,
   "outputs":[
    
   ],
   "metadata":{
    "datalore":{
     "node_id":"1gv9pFBoirWjYXYyhrGJJf",
     "type":"CODE",
     "hide_input_from_viewers":false,
     "hide_output_from_viewers":false
    }
   }
  },
  {
   "cell_type":"code",
   "source":[
    "my_list"
   ],
   "execution_count":null,
   "outputs":[
    
   ],
   "metadata":{
    "datalore":{
     "node_id":"GewZYpmGWffO5QYoQHCy41",
     "type":"CODE",
     "hide_input_from_viewers":false,
     "hide_output_from_viewers":false
    }
   }
  },
  {
   "cell_type":"code",
   "source":[
    "del my_list[0] # remove element basis index"
   ],
   "execution_count":null,
   "outputs":[
    
   ],
   "metadata":{
    "datalore":{
     "node_id":"TNJHZFDtcNt3z8t0EUQyuk",
     "type":"CODE",
     "hide_input_from_viewers":false,
     "hide_output_from_viewers":false
    }
   }
  },
  {
   "cell_type":"code",
   "source":[
    "my_list"
   ],
   "execution_count":null,
   "outputs":[
    
   ],
   "metadata":{
    "datalore":{
     "node_id":"7ID92CB5CjWhf1ZAedgdPt",
     "type":"CODE",
     "hide_input_from_viewers":false,
     "hide_output_from_viewers":false
    }
   }
  },
  {
   "cell_type":"code",
   "source":[
    "lst = [4,1,5,6]"
   ],
   "execution_count":null,
   "outputs":[
    
   ],
   "metadata":{
    "datalore":{
     "node_id":"uYz7qMCmV7F9MYGTKal6EK",
     "type":"CODE",
     "hide_input_from_viewers":false,
     "hide_output_from_viewers":false
    }
   }
  },
  {
   "cell_type":"code",
   "source":[
    "lst.sort() # sorts existing list in place"
   ],
   "execution_count":null,
   "outputs":[
    
   ],
   "metadata":{
    "datalore":{
     "node_id":"H6rNvCZUoHUPYlnLUBlZmV",
     "type":"CODE",
     "hide_input_from_viewers":false,
     "hide_output_from_viewers":false
    }
   }
  },
  {
   "cell_type":"code",
   "source":[
    "lst"
   ],
   "execution_count":null,
   "outputs":[
    
   ],
   "metadata":{
    "datalore":{
     "node_id":"hvWskfIAgnHubR9e5A8wVU",
     "type":"CODE",
     "hide_input_from_viewers":false,
     "hide_output_from_viewers":false
    }
   }
  },
  {
   "cell_type":"code",
   "source":[
    "sorted(lst, reverse=True) # sorting elements in a list, original list stays as is"
   ],
   "execution_count":null,
   "outputs":[
    
   ],
   "metadata":{
    "datalore":{
     "node_id":"I87CbU4i5RG1eyxFtfEzJc",
     "type":"CODE",
     "hide_input_from_viewers":false,
     "hide_output_from_viewers":false
    }
   }
  },
  {
   "cell_type":"code",
   "source":[
    "lst"
   ],
   "execution_count":null,
   "outputs":[
    
   ],
   "metadata":{
    "datalore":{
     "node_id":"IETMkNk4YMICIgt5w51UO6",
     "type":"CODE",
     "hide_input_from_viewers":false,
     "hide_output_from_viewers":false
    }
   }
  },
  {
   "cell_type":"code",
   "source":[
    "len(lst) # length"
   ],
   "execution_count":null,
   "outputs":[
    
   ],
   "metadata":{
    "datalore":{
     "node_id":"utYzAQdSghZFNu9wqercwN",
     "type":"CODE",
     "hide_input_from_viewers":false,
     "hide_output_from_viewers":false
    }
   }
  },
  {
   "cell_type":"markdown",
   "source":[
    "### List Project in Python"
   ],
   "attachments":{
    
   },
   "metadata":{
    "datalore":{
     "node_id":"wtjrO0pvFKyVHo6s4ABxpV",
     "type":"MD",
     "hide_input_from_viewers":false,
     "hide_output_from_viewers":false
    }
   }
  },
  {
   "cell_type":"code",
   "source":[
    "student_marks = [['Name',  ['A','B','C','D','E']],\n",
    "                 ['Ankit',  [41, 34, 45, 55, 63]],\n",
    "                 ['Aravind',[42, 23, 34, 44, 53]],\n",
    "                 ['Lakshay',[32, 23, 13, 54, 67]],\n",
    "                 ['Gyan',   [23, 82, 23, 63, 34]],\n",
    "                 ['Pranav', [21, 23, 25, 56, 56]]\n",
    "                ]"
   ],
   "execution_count":null,
   "outputs":[
    
   ],
   "metadata":{
    "datalore":{
     "node_id":"5HHuQmHoaZCpdJiBWhRZlZ",
     "type":"CODE",
     "hide_input_from_viewers":false,
     "hide_output_from_viewers":false
    }
   }
  },
  {
   "cell_type":"code",
   "source":[
    "x = []\n",
    "y = []\n",
    "\n",
    "for lst in student_marks:\n",
    "    x.append(lst[1][1])\n",
    "    y.append(lst[0])\n",
    "\n",
    "x = x[1:]\n",
    "y = y[1:]\n",
    "\n",
    "y[x.index(max(x))]"
   ],
   "execution_count":null,
   "outputs":[
    
   ],
   "metadata":{
    "datalore":{
     "node_id":"qus6HsrRXQ6r2wFGhvM5iK",
     "type":"CODE",
     "hide_input_from_viewers":false,
     "hide_output_from_viewers":false
    }
   }
  }
 ],
 "metadata":{
  "kernelspec":{
   "display_name":"Python",
   "language":"python",
   "name":"python"
  },
  "datalore":{
   "version":1,
   "computation_mode":"JUPYTER",
   "packages":[
    
   ]
  }
 },
 "nbformat":4,
 "nbformat_minor":4
}