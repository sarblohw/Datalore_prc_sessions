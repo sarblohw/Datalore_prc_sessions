{
 "cells":[
  {
   "cell_type":"markdown",
   "source":[
    "YT Charming Data -- Excel Dashboard with Python"
   ],
   "attachments":{
    
   },
   "metadata":{
    "datalore":{
     "node_id":"ZtDF0Cnv1yBvMeQ4jMHPW0",
     "type":"MD",
     "hide_input_from_viewers":false,
     "hide_output_from_viewers":false
    }
   }
  },
  {
   "cell_type":"code",
   "source":[
    "import pandas as pd\n",
    "import plotly.express as px"
   ],
   "execution_count":1,
   "outputs":[
    
   ],
   "metadata":{
    "datalore":{
     "node_id":"79X5LdbuiGB6gmU5dY716X",
     "type":"CODE",
     "hide_input_from_viewers":false,
     "hide_output_from_viewers":false
    }
   }
  },
  {
   "cell_type":"code",
   "source":[
    "df = pd.read_csv('vgsales.csv')"
   ],
   "execution_count":2,
   "outputs":[
    
   ],
   "metadata":{
    "datalore":{
     "node_id":"KNK6LLHh1yClw1vVeyejnM",
     "type":"CODE",
     "hide_input_from_viewers":false,
     "hide_output_from_viewers":false
    }
   }
  },
  {
   "cell_type":"code",
   "source":[
    "df"
   ],
   "execution_count":3,
   "outputs":[
    {
     "data":{
      "text\/html":[
       "<div>\n",
       "<style scoped>\n",
       "    .dataframe tbody tr th:only-of-type {\n",
       "        vertical-align: middle;\n",
       "    }\n",
       "\n",
       "    .dataframe tbody tr th {\n",
       "        vertical-align: top;\n",
       "    }\n",
       "\n",
       "    .dataframe thead th {\n",
       "        text-align: right;\n",
       "    }\n",
       "<\/style>\n",
       "<table border=\"1\" class=\"dataframe\">\n",
       "  <thead>\n",
       "    <tr style=\"text-align: right;\">\n",
       "      <th><\/th>\n",
       "      <th>Rank<\/th>\n",
       "      <th>Name<\/th>\n",
       "      <th>Platform<\/th>\n",
       "      <th>Year<\/th>\n",
       "      <th>Genre<\/th>\n",
       "      <th>Publisher<\/th>\n",
       "      <th>NA_Sales<\/th>\n",
       "      <th>EU_Sales<\/th>\n",
       "      <th>JP_Sales<\/th>\n",
       "      <th>Other_Sales<\/th>\n",
       "      <th>Global_Sales<\/th>\n",
       "    <\/tr>\n",
       "  <\/thead>\n",
       "  <tbody>\n",
       "    <tr>\n",
       "      <th>0<\/th>\n",
       "      <td>1<\/td>\n",
       "      <td>Wii Sports<\/td>\n",
       "      <td>Wii<\/td>\n",
       "      <td>2006.0<\/td>\n",
       "      <td>Sports<\/td>\n",
       "      <td>Nintendo<\/td>\n",
       "      <td>41.49<\/td>\n",
       "      <td>29.02<\/td>\n",
       "      <td>3.77<\/td>\n",
       "      <td>8.46<\/td>\n",
       "      <td>82.74<\/td>\n",
       "    <\/tr>\n",
       "    <tr>\n",
       "      <th>1<\/th>\n",
       "      <td>2<\/td>\n",
       "      <td>Super Mario Bros.<\/td>\n",
       "      <td>NES<\/td>\n",
       "      <td>1985.0<\/td>\n",
       "      <td>Platform<\/td>\n",
       "      <td>Nintendo<\/td>\n",
       "      <td>29.08<\/td>\n",
       "      <td>3.58<\/td>\n",
       "      <td>6.81<\/td>\n",
       "      <td>0.77<\/td>\n",
       "      <td>40.24<\/td>\n",
       "    <\/tr>\n",
       "    <tr>\n",
       "      <th>2<\/th>\n",
       "      <td>3<\/td>\n",
       "      <td>Mario Kart Wii<\/td>\n",
       "      <td>Wii<\/td>\n",
       "      <td>2008.0<\/td>\n",
       "      <td>Racing<\/td>\n",
       "      <td>Nintendo<\/td>\n",
       "      <td>15.85<\/td>\n",
       "      <td>12.88<\/td>\n",
       "      <td>3.79<\/td>\n",
       "      <td>3.31<\/td>\n",
       "      <td>35.82<\/td>\n",
       "    <\/tr>\n",
       "    <tr>\n",
       "      <th>3<\/th>\n",
       "      <td>4<\/td>\n",
       "      <td>Wii Sports Resort<\/td>\n",
       "      <td>Wii<\/td>\n",
       "      <td>2009.0<\/td>\n",
       "      <td>Sports<\/td>\n",
       "      <td>Nintendo<\/td>\n",
       "      <td>15.75<\/td>\n",
       "      <td>11.01<\/td>\n",
       "      <td>3.28<\/td>\n",
       "      <td>2.96<\/td>\n",
       "      <td>33.00<\/td>\n",
       "    <\/tr>\n",
       "    <tr>\n",
       "      <th>4<\/th>\n",
       "      <td>5<\/td>\n",
       "      <td>Pokemon Red\/Pokemon Blue<\/td>\n",
       "      <td>GB<\/td>\n",
       "      <td>1996.0<\/td>\n",
       "      <td>Role-Playing<\/td>\n",
       "      <td>Nintendo<\/td>\n",
       "      <td>11.27<\/td>\n",
       "      <td>8.89<\/td>\n",
       "      <td>10.22<\/td>\n",
       "      <td>1.00<\/td>\n",
       "      <td>31.37<\/td>\n",
       "    <\/tr>\n",
       "    <tr>\n",
       "      <th>...<\/th>\n",
       "      <td>...<\/td>\n",
       "      <td>...<\/td>\n",
       "      <td>...<\/td>\n",
       "      <td>...<\/td>\n",
       "      <td>...<\/td>\n",
       "      <td>...<\/td>\n",
       "      <td>...<\/td>\n",
       "      <td>...<\/td>\n",
       "      <td>...<\/td>\n",
       "      <td>...<\/td>\n",
       "      <td>...<\/td>\n",
       "    <\/tr>\n",
       "    <tr>\n",
       "      <th>16593<\/th>\n",
       "      <td>16596<\/td>\n",
       "      <td>Woody Woodpecker in Crazy Castle 5<\/td>\n",
       "      <td>GBA<\/td>\n",
       "      <td>2002.0<\/td>\n",
       "      <td>Platform<\/td>\n",
       "      <td>Kemco<\/td>\n",
       "      <td>0.01<\/td>\n",
       "      <td>0.00<\/td>\n",
       "      <td>0.00<\/td>\n",
       "      <td>0.00<\/td>\n",
       "      <td>0.01<\/td>\n",
       "    <\/tr>\n",
       "    <tr>\n",
       "      <th>16594<\/th>\n",
       "      <td>16597<\/td>\n",
       "      <td>Men in Black II: Alien Escape<\/td>\n",
       "      <td>GC<\/td>\n",
       "      <td>2003.0<\/td>\n",
       "      <td>Shooter<\/td>\n",
       "      <td>Infogrames<\/td>\n",
       "      <td>0.01<\/td>\n",
       "      <td>0.00<\/td>\n",
       "      <td>0.00<\/td>\n",
       "      <td>0.00<\/td>\n",
       "      <td>0.01<\/td>\n",
       "    <\/tr>\n",
       "    <tr>\n",
       "      <th>16595<\/th>\n",
       "      <td>16598<\/td>\n",
       "      <td>SCORE International Baja 1000: The Official Game<\/td>\n",
       "      <td>PS2<\/td>\n",
       "      <td>2008.0<\/td>\n",
       "      <td>Racing<\/td>\n",
       "      <td>Activision<\/td>\n",
       "      <td>0.00<\/td>\n",
       "      <td>0.00<\/td>\n",
       "      <td>0.00<\/td>\n",
       "      <td>0.00<\/td>\n",
       "      <td>0.01<\/td>\n",
       "    <\/tr>\n",
       "    <tr>\n",
       "      <th>16596<\/th>\n",
       "      <td>16599<\/td>\n",
       "      <td>Know How 2<\/td>\n",
       "      <td>DS<\/td>\n",
       "      <td>2010.0<\/td>\n",
       "      <td>Puzzle<\/td>\n",
       "      <td>7G\/\/AMES<\/td>\n",
       "      <td>0.00<\/td>\n",
       "      <td>0.01<\/td>\n",
       "      <td>0.00<\/td>\n",
       "      <td>0.00<\/td>\n",
       "      <td>0.01<\/td>\n",
       "    <\/tr>\n",
       "    <tr>\n",
       "      <th>16597<\/th>\n",
       "      <td>16600<\/td>\n",
       "      <td>Spirits &amp; Spells<\/td>\n",
       "      <td>GBA<\/td>\n",
       "      <td>2003.0<\/td>\n",
       "      <td>Platform<\/td>\n",
       "      <td>Wanadoo<\/td>\n",
       "      <td>0.01<\/td>\n",
       "      <td>0.00<\/td>\n",
       "      <td>0.00<\/td>\n",
       "      <td>0.00<\/td>\n",
       "      <td>0.01<\/td>\n",
       "    <\/tr>\n",
       "  <\/tbody>\n",
       "<\/table>\n",
       "<p>16598 rows × 11 columns<\/p>\n",
       "<\/div>"
      ]
     },
     "metadata":{
      
     },
     "output_type":"display_data"
    }
   ],
   "metadata":{
    "datalore":{
     "node_id":"pblPO3yyMpkXEepfSi6Vbo",
     "type":"CODE",
     "hide_input_from_viewers":false,
     "hide_output_from_viewers":false
    }
   }
  },
  {
   "cell_type":"code",
   "source":[
    "# jp sales by publisher"
   ],
   "execution_count":4,
   "outputs":[
    
   ],
   "metadata":{
    "datalore":{
     "node_id":"A77bUDLdMZbjWSgrJrxVYG",
     "type":"CODE",
     "hide_input_from_viewers":false,
     "hide_output_from_viewers":false
    }
   }
  },
  {
   "cell_type":"code",
   "source":[
    "Japan = df.loc[:, ('Publisher', 'JP_Sales')]"
   ],
   "execution_count":7,
   "outputs":[
    
   ],
   "metadata":{
    "datalore":{
     "node_id":"UL3E3FKmXaXcqrkQPwdAPN",
     "type":"CODE",
     "hide_input_from_viewers":false,
     "hide_output_from_viewers":false
    }
   }
  },
  {
   "cell_type":"code",
   "source":[
    "Japan"
   ],
   "execution_count":8,
   "outputs":[
    {
     "data":{
      "text\/html":[
       "<div>\n",
       "<style scoped>\n",
       "    .dataframe tbody tr th:only-of-type {\n",
       "        vertical-align: middle;\n",
       "    }\n",
       "\n",
       "    .dataframe tbody tr th {\n",
       "        vertical-align: top;\n",
       "    }\n",
       "\n",
       "    .dataframe thead th {\n",
       "        text-align: right;\n",
       "    }\n",
       "<\/style>\n",
       "<table border=\"1\" class=\"dataframe\">\n",
       "  <thead>\n",
       "    <tr style=\"text-align: right;\">\n",
       "      <th><\/th>\n",
       "      <th>Publisher<\/th>\n",
       "      <th>JP_Sales<\/th>\n",
       "    <\/tr>\n",
       "  <\/thead>\n",
       "  <tbody>\n",
       "    <tr>\n",
       "      <th>0<\/th>\n",
       "      <td>Nintendo<\/td>\n",
       "      <td>3.77<\/td>\n",
       "    <\/tr>\n",
       "    <tr>\n",
       "      <th>1<\/th>\n",
       "      <td>Nintendo<\/td>\n",
       "      <td>6.81<\/td>\n",
       "    <\/tr>\n",
       "    <tr>\n",
       "      <th>2<\/th>\n",
       "      <td>Nintendo<\/td>\n",
       "      <td>3.79<\/td>\n",
       "    <\/tr>\n",
       "    <tr>\n",
       "      <th>3<\/th>\n",
       "      <td>Nintendo<\/td>\n",
       "      <td>3.28<\/td>\n",
       "    <\/tr>\n",
       "    <tr>\n",
       "      <th>4<\/th>\n",
       "      <td>Nintendo<\/td>\n",
       "      <td>10.22<\/td>\n",
       "    <\/tr>\n",
       "    <tr>\n",
       "      <th>...<\/th>\n",
       "      <td>...<\/td>\n",
       "      <td>...<\/td>\n",
       "    <\/tr>\n",
       "    <tr>\n",
       "      <th>16593<\/th>\n",
       "      <td>Kemco<\/td>\n",
       "      <td>0.00<\/td>\n",
       "    <\/tr>\n",
       "    <tr>\n",
       "      <th>16594<\/th>\n",
       "      <td>Infogrames<\/td>\n",
       "      <td>0.00<\/td>\n",
       "    <\/tr>\n",
       "    <tr>\n",
       "      <th>16595<\/th>\n",
       "      <td>Activision<\/td>\n",
       "      <td>0.00<\/td>\n",
       "    <\/tr>\n",
       "    <tr>\n",
       "      <th>16596<\/th>\n",
       "      <td>7G\/\/AMES<\/td>\n",
       "      <td>0.00<\/td>\n",
       "    <\/tr>\n",
       "    <tr>\n",
       "      <th>16597<\/th>\n",
       "      <td>Wanadoo<\/td>\n",
       "      <td>0.00<\/td>\n",
       "    <\/tr>\n",
       "  <\/tbody>\n",
       "<\/table>\n",
       "<p>16598 rows × 2 columns<\/p>\n",
       "<\/div>"
      ]
     },
     "metadata":{
      
     },
     "output_type":"display_data"
    }
   ],
   "metadata":{
    "datalore":{
     "node_id":"7OmksHzjdfks1MpIuk333X",
     "type":"CODE",
     "hide_input_from_viewers":false,
     "hide_output_from_viewers":false
    }
   }
  },
  {
   "cell_type":"code",
   "source":[
    "x = Japan.groupby('Publisher').agg('sum').sort_values(by=['JP_Sales'], ascending=False)"
   ],
   "execution_count":17,
   "outputs":[
    
   ],
   "metadata":{
    "datalore":{
     "node_id":"AyjuP2HWiX2nhGF2Dx7OFK",
     "type":"CODE",
     "hide_input_from_viewers":false,
     "hide_output_from_viewers":false
    }
   }
  },
  {
   "cell_type":"code",
   "source":[
    "x"
   ],
   "execution_count":23,
   "outputs":[
    {
     "data":{
      "text\/html":[
       "<div>\n",
       "<style scoped>\n",
       "    .dataframe tbody tr th:only-of-type {\n",
       "        vertical-align: middle;\n",
       "    }\n",
       "\n",
       "    .dataframe tbody tr th {\n",
       "        vertical-align: top;\n",
       "    }\n",
       "\n",
       "    .dataframe thead th {\n",
       "        text-align: right;\n",
       "    }\n",
       "<\/style>\n",
       "<table border=\"1\" class=\"dataframe\">\n",
       "  <thead>\n",
       "    <tr style=\"text-align: right;\">\n",
       "      <th><\/th>\n",
       "      <th>JP_Sales<\/th>\n",
       "    <\/tr>\n",
       "    <tr>\n",
       "      <th>Publisher<\/th>\n",
       "      <th><\/th>\n",
       "    <\/tr>\n",
       "  <\/thead>\n",
       "  <tbody>\n",
       "    <tr>\n",
       "      <th>Nintendo<\/th>\n",
       "      <td>455.42<\/td>\n",
       "    <\/tr>\n",
       "    <tr>\n",
       "      <th>Namco Bandai Games<\/th>\n",
       "      <td>127.07<\/td>\n",
       "    <\/tr>\n",
       "    <tr>\n",
       "      <th>Konami Digital Entertainment<\/th>\n",
       "      <td>91.30<\/td>\n",
       "    <\/tr>\n",
       "    <tr>\n",
       "      <th>Sony Computer Entertainment<\/th>\n",
       "      <td>74.10<\/td>\n",
       "    <\/tr>\n",
       "    <tr>\n",
       "      <th>Capcom<\/th>\n",
       "      <td>68.08<\/td>\n",
       "    <\/tr>\n",
       "    <tr>\n",
       "      <th>...<\/th>\n",
       "      <td>...<\/td>\n",
       "    <\/tr>\n",
       "    <tr>\n",
       "      <th>Jester Interactive<\/th>\n",
       "      <td>0.00<\/td>\n",
       "    <\/tr>\n",
       "    <tr>\n",
       "      <th>Jack of All Games<\/th>\n",
       "      <td>0.00<\/td>\n",
       "    <\/tr>\n",
       "    <tr>\n",
       "      <th>Ivolgamus<\/th>\n",
       "      <td>0.00<\/td>\n",
       "    <\/tr>\n",
       "    <tr>\n",
       "      <th>Introversion Software<\/th>\n",
       "      <td>0.00<\/td>\n",
       "    <\/tr>\n",
       "    <tr>\n",
       "      <th>responDESIGN<\/th>\n",
       "      <td>0.00<\/td>\n",
       "    <\/tr>\n",
       "  <\/tbody>\n",
       "<\/table>\n",
       "<p>578 rows × 1 columns<\/p>\n",
       "<\/div>"
      ]
     },
     "metadata":{
      
     },
     "output_type":"display_data"
    }
   ],
   "metadata":{
    "datalore":{
     "node_id":"bNJjulK4WTiC0twpySir7q",
     "type":"CODE",
     "hide_input_from_viewers":false,
     "hide_output_from_viewers":false
    }
   }
  },
  {
   "cell_type":"code",
   "source":[
    "type(x.JP_Sales.round(decimals=1))"
   ],
   "execution_count":25,
   "outputs":[
    {
     "data":{
      "text\/plain":[
       "pandas.core.series.Series"
      ]
     },
     "metadata":{
      
     },
     "output_type":"display_data"
    }
   ],
   "metadata":{
    "datalore":{
     "node_id":"CNWjDcTD67lrouaiha7Arz",
     "type":"CODE",
     "hide_input_from_viewers":false,
     "hide_output_from_viewers":false
    }
   }
  },
  {
   "cell_type":"code",
   "source":[
    "x = x.round(decimals=1)"
   ],
   "execution_count":27,
   "outputs":[
    
   ],
   "metadata":{
    "datalore":{
     "node_id":"0zxRxiOn3JHvgLVXOOD9RV",
     "type":"CODE",
     "hide_input_from_viewers":false,
     "hide_output_from_viewers":false
    }
   }
  },
  {
   "cell_type":"code",
   "source":[
    "x"
   ],
   "execution_count":28,
   "outputs":[
    {
     "data":{
      "text\/html":[
       "<div>\n",
       "<style scoped>\n",
       "    .dataframe tbody tr th:only-of-type {\n",
       "        vertical-align: middle;\n",
       "    }\n",
       "\n",
       "    .dataframe tbody tr th {\n",
       "        vertical-align: top;\n",
       "    }\n",
       "\n",
       "    .dataframe thead th {\n",
       "        text-align: right;\n",
       "    }\n",
       "<\/style>\n",
       "<table border=\"1\" class=\"dataframe\">\n",
       "  <thead>\n",
       "    <tr style=\"text-align: right;\">\n",
       "      <th><\/th>\n",
       "      <th>JP_Sales<\/th>\n",
       "    <\/tr>\n",
       "    <tr>\n",
       "      <th>Publisher<\/th>\n",
       "      <th><\/th>\n",
       "    <\/tr>\n",
       "  <\/thead>\n",
       "  <tbody>\n",
       "    <tr>\n",
       "      <th>Nintendo<\/th>\n",
       "      <td>455.4<\/td>\n",
       "    <\/tr>\n",
       "    <tr>\n",
       "      <th>Namco Bandai Games<\/th>\n",
       "      <td>127.1<\/td>\n",
       "    <\/tr>\n",
       "    <tr>\n",
       "      <th>Konami Digital Entertainment<\/th>\n",
       "      <td>91.3<\/td>\n",
       "    <\/tr>\n",
       "    <tr>\n",
       "      <th>Sony Computer Entertainment<\/th>\n",
       "      <td>74.1<\/td>\n",
       "    <\/tr>\n",
       "    <tr>\n",
       "      <th>Capcom<\/th>\n",
       "      <td>68.1<\/td>\n",
       "    <\/tr>\n",
       "    <tr>\n",
       "      <th>...<\/th>\n",
       "      <td>...<\/td>\n",
       "    <\/tr>\n",
       "    <tr>\n",
       "      <th>Jester Interactive<\/th>\n",
       "      <td>0.0<\/td>\n",
       "    <\/tr>\n",
       "    <tr>\n",
       "      <th>Jack of All Games<\/th>\n",
       "      <td>0.0<\/td>\n",
       "    <\/tr>\n",
       "    <tr>\n",
       "      <th>Ivolgamus<\/th>\n",
       "      <td>0.0<\/td>\n",
       "    <\/tr>\n",
       "    <tr>\n",
       "      <th>Introversion Software<\/th>\n",
       "      <td>0.0<\/td>\n",
       "    <\/tr>\n",
       "    <tr>\n",
       "      <th>responDESIGN<\/th>\n",
       "      <td>0.0<\/td>\n",
       "    <\/tr>\n",
       "  <\/tbody>\n",
       "<\/table>\n",
       "<p>578 rows × 1 columns<\/p>\n",
       "<\/div>"
      ]
     },
     "metadata":{
      
     },
     "output_type":"display_data"
    }
   ],
   "metadata":{
    "datalore":{
     "node_id":"ArF7ShJCWI1dXQWDhouBOo",
     "type":"CODE",
     "hide_input_from_viewers":false,
     "hide_output_from_viewers":false
    }
   }
  },
  {
   "cell_type":"code",
   "source":[
    "dft = pd.DataFrame({\"A\": [\"foo\", \"foo\", \"foo\", \"foo\", \"foo\",\n",
    "                         \"bar\", \"bar\", \"bar\", \"bar\"],\n",
    "                   \"B\": [\"one\", \"one\", \"one\", \"two\", \"two\",\n",
    "                         \"one\", \"one\", \"two\", \"two\"],\n",
    "                   \"C\": [\"small\", \"large\", \"large\", \"small\",\n",
    "                         \"small\", \"large\", \"small\", \"small\",\n",
    "                         \"large\"],\n",
    "                   \"D\": [1, 2, 2, 3, 3, 4, 5, 6, 7],\n",
    "                   \"E\": [2, 4, 5, 5, 6, 6, 8, 9, 9]})"
   ],
   "execution_count":36,
   "outputs":[
    
   ],
   "metadata":{
    "datalore":{
     "node_id":"nJ7oD9iosEeKrLbfgvmHB2",
     "type":"CODE",
     "hide_input_from_viewers":false,
     "hide_output_from_viewers":false
    }
   }
  },
  {
   "cell_type":"code",
   "source":[
    "dft"
   ],
   "execution_count":37,
   "outputs":[
    {
     "data":{
      "text\/html":[
       "<div>\n",
       "<style scoped>\n",
       "    .dataframe tbody tr th:only-of-type {\n",
       "        vertical-align: middle;\n",
       "    }\n",
       "\n",
       "    .dataframe tbody tr th {\n",
       "        vertical-align: top;\n",
       "    }\n",
       "\n",
       "    .dataframe thead th {\n",
       "        text-align: right;\n",
       "    }\n",
       "<\/style>\n",
       "<table border=\"1\" class=\"dataframe\">\n",
       "  <thead>\n",
       "    <tr style=\"text-align: right;\">\n",
       "      <th><\/th>\n",
       "      <th>A<\/th>\n",
       "      <th>B<\/th>\n",
       "      <th>C<\/th>\n",
       "      <th>D<\/th>\n",
       "      <th>E<\/th>\n",
       "    <\/tr>\n",
       "  <\/thead>\n",
       "  <tbody>\n",
       "    <tr>\n",
       "      <th>0<\/th>\n",
       "      <td>foo<\/td>\n",
       "      <td>one<\/td>\n",
       "      <td>small<\/td>\n",
       "      <td>1<\/td>\n",
       "      <td>2<\/td>\n",
       "    <\/tr>\n",
       "    <tr>\n",
       "      <th>1<\/th>\n",
       "      <td>foo<\/td>\n",
       "      <td>one<\/td>\n",
       "      <td>large<\/td>\n",
       "      <td>2<\/td>\n",
       "      <td>4<\/td>\n",
       "    <\/tr>\n",
       "    <tr>\n",
       "      <th>2<\/th>\n",
       "      <td>foo<\/td>\n",
       "      <td>one<\/td>\n",
       "      <td>large<\/td>\n",
       "      <td>2<\/td>\n",
       "      <td>5<\/td>\n",
       "    <\/tr>\n",
       "    <tr>\n",
       "      <th>3<\/th>\n",
       "      <td>foo<\/td>\n",
       "      <td>two<\/td>\n",
       "      <td>small<\/td>\n",
       "      <td>3<\/td>\n",
       "      <td>5<\/td>\n",
       "    <\/tr>\n",
       "    <tr>\n",
       "      <th>4<\/th>\n",
       "      <td>foo<\/td>\n",
       "      <td>two<\/td>\n",
       "      <td>small<\/td>\n",
       "      <td>3<\/td>\n",
       "      <td>6<\/td>\n",
       "    <\/tr>\n",
       "    <tr>\n",
       "      <th>5<\/th>\n",
       "      <td>bar<\/td>\n",
       "      <td>one<\/td>\n",
       "      <td>large<\/td>\n",
       "      <td>4<\/td>\n",
       "      <td>6<\/td>\n",
       "    <\/tr>\n",
       "    <tr>\n",
       "      <th>6<\/th>\n",
       "      <td>bar<\/td>\n",
       "      <td>one<\/td>\n",
       "      <td>small<\/td>\n",
       "      <td>5<\/td>\n",
       "      <td>8<\/td>\n",
       "    <\/tr>\n",
       "    <tr>\n",
       "      <th>7<\/th>\n",
       "      <td>bar<\/td>\n",
       "      <td>two<\/td>\n",
       "      <td>small<\/td>\n",
       "      <td>6<\/td>\n",
       "      <td>9<\/td>\n",
       "    <\/tr>\n",
       "    <tr>\n",
       "      <th>8<\/th>\n",
       "      <td>bar<\/td>\n",
       "      <td>two<\/td>\n",
       "      <td>large<\/td>\n",
       "      <td>7<\/td>\n",
       "      <td>9<\/td>\n",
       "    <\/tr>\n",
       "  <\/tbody>\n",
       "<\/table>\n",
       "<\/div>"
      ]
     },
     "metadata":{
      
     },
     "output_type":"display_data"
    }
   ],
   "metadata":{
    "datalore":{
     "node_id":"B8CxrMcwfExyeOyjkGV07f",
     "type":"CODE",
     "hide_input_from_viewers":false,
     "hide_output_from_viewers":false
    }
   }
  },
  {
   "cell_type":"code",
   "source":[
    "dft.pivot_table(values=['B','C'], index=['A'], columns=['D'], aggfunc = 'sum')"
   ],
   "execution_count":39,
   "outputs":[
    {
     "data":{
      "text\/html":[
       "<div>\n",
       "<style scoped>\n",
       "    .dataframe tbody tr th:only-of-type {\n",
       "        vertical-align: middle;\n",
       "    }\n",
       "\n",
       "    .dataframe tbody tr th {\n",
       "        vertical-align: top;\n",
       "    }\n",
       "\n",
       "    .dataframe thead tr th {\n",
       "        text-align: left;\n",
       "    }\n",
       "\n",
       "    .dataframe thead tr:last-of-type th {\n",
       "        text-align: right;\n",
       "    }\n",
       "<\/style>\n",
       "<table border=\"1\" class=\"dataframe\">\n",
       "  <thead>\n",
       "    <tr>\n",
       "      <th><\/th>\n",
       "      <th colspan=\"7\" halign=\"left\">B<\/th>\n",
       "      <th colspan=\"7\" halign=\"left\">C<\/th>\n",
       "    <\/tr>\n",
       "    <tr>\n",
       "      <th>D<\/th>\n",
       "      <th>1<\/th>\n",
       "      <th>2<\/th>\n",
       "      <th>3<\/th>\n",
       "      <th>4<\/th>\n",
       "      <th>5<\/th>\n",
       "      <th>6<\/th>\n",
       "      <th>7<\/th>\n",
       "      <th>1<\/th>\n",
       "      <th>2<\/th>\n",
       "      <th>3<\/th>\n",
       "      <th>4<\/th>\n",
       "      <th>5<\/th>\n",
       "      <th>6<\/th>\n",
       "      <th>7<\/th>\n",
       "    <\/tr>\n",
       "    <tr>\n",
       "      <th>A<\/th>\n",
       "      <th><\/th>\n",
       "      <th><\/th>\n",
       "      <th><\/th>\n",
       "      <th><\/th>\n",
       "      <th><\/th>\n",
       "      <th><\/th>\n",
       "      <th><\/th>\n",
       "      <th><\/th>\n",
       "      <th><\/th>\n",
       "      <th><\/th>\n",
       "      <th><\/th>\n",
       "      <th><\/th>\n",
       "      <th><\/th>\n",
       "      <th><\/th>\n",
       "    <\/tr>\n",
       "  <\/thead>\n",
       "  <tbody>\n",
       "    <tr>\n",
       "      <th>bar<\/th>\n",
       "      <td>NaN<\/td>\n",
       "      <td>NaN<\/td>\n",
       "      <td>NaN<\/td>\n",
       "      <td>one<\/td>\n",
       "      <td>one<\/td>\n",
       "      <td>two<\/td>\n",
       "      <td>two<\/td>\n",
       "      <td>NaN<\/td>\n",
       "      <td>NaN<\/td>\n",
       "      <td>NaN<\/td>\n",
       "      <td>large<\/td>\n",
       "      <td>small<\/td>\n",
       "      <td>small<\/td>\n",
       "      <td>large<\/td>\n",
       "    <\/tr>\n",
       "    <tr>\n",
       "      <th>foo<\/th>\n",
       "      <td>one<\/td>\n",
       "      <td>oneone<\/td>\n",
       "      <td>twotwo<\/td>\n",
       "      <td>NaN<\/td>\n",
       "      <td>NaN<\/td>\n",
       "      <td>NaN<\/td>\n",
       "      <td>NaN<\/td>\n",
       "      <td>small<\/td>\n",
       "      <td>largelarge<\/td>\n",
       "      <td>smallsmall<\/td>\n",
       "      <td>NaN<\/td>\n",
       "      <td>NaN<\/td>\n",
       "      <td>NaN<\/td>\n",
       "      <td>NaN<\/td>\n",
       "    <\/tr>\n",
       "  <\/tbody>\n",
       "<\/table>\n",
       "<\/div>"
      ]
     },
     "metadata":{
      
     },
     "output_type":"display_data"
    }
   ],
   "metadata":{
    "datalore":{
     "node_id":"OtIGR9pcfjCrOZlqigTbw3",
     "type":"CODE",
     "hide_input_from_viewers":false,
     "hide_output_from_viewers":false
    }
   }
  },
  {
   "cell_type":"code",
   "source":[
    
   ],
   "execution_count":null,
   "outputs":[
    
   ],
   "metadata":{
    "datalore":{
     "node_id":"7uM5zSpTuJ8pJPJQFnnWid",
     "type":"CODE",
     "hide_input_from_viewers":false,
     "hide_output_from_viewers":false
    }
   }
  }
 ],
 "metadata":{
  "kernelspec":{
   "display_name":"Python",
   "language":"python",
   "name":"python"
  },
  "datalore":{
   "version":1,
   "computation_mode":"JUPYTER",
   "packages":[
    
   ]
  }
 },
 "nbformat":4,
 "nbformat_minor":4
}