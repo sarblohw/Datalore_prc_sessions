{
 "cells":[
  {
   "cell_type":"markdown",
   "source":[
    "## Time Series Analysis\n",
    "#### Edureka - YT - Follow Along"
   ],
   "attachments":{
    
   },
   "metadata":{
    "datalore":{
     "node_id":"lJ4UtZm9QZAbTGh0tcIc7X",
     "type":"MD",
     "hide_input_from_viewers":false,
     "hide_output_from_viewers":false
    }
   }
  },
  {
   "cell_type":"code",
   "source":[
    "import pandas as pd\n",
    "import numpy as np\n",
    "import matplotlib.pylab as plt\n",
    "%matplotlib inline\n",
    "from matplotlib.pylab import rcParams\n",
    "rcParams['figure.figsize'] = 10, 6"
   ],
   "execution_count":9,
   "outputs":[
    
   ],
   "metadata":{
    "datalore":{
     "node_id":"C6GNsrR5e8cBd4PoiySFWE",
     "type":"CODE",
     "hide_input_from_viewers":false,
     "hide_output_from_viewers":false
    }
   }
  },
  {
   "cell_type":"code",
   "source":[
    "dataset = pd.read_csv('AirPassengers.csv')"
   ],
   "execution_count":5,
   "outputs":[
    
   ],
   "metadata":{
    "datalore":{
     "node_id":"5sFBrD2jLg2SgFb1C2krl2",
     "type":"CODE",
     "hide_input_from_viewers":false,
     "hide_output_from_viewers":false
    }
   }
  },
  {
   "cell_type":"code",
   "source":[
    "dataset.head(3)"
   ],
   "execution_count":7,
   "outputs":[
    {
     "data":{
      "text\/html":[
       "<div>\n",
       "<style scoped>\n",
       "    .dataframe tbody tr th:only-of-type {\n",
       "        vertical-align: middle;\n",
       "    }\n",
       "\n",
       "    .dataframe tbody tr th {\n",
       "        vertical-align: top;\n",
       "    }\n",
       "\n",
       "    .dataframe thead th {\n",
       "        text-align: right;\n",
       "    }\n",
       "<\/style>\n",
       "<table border=\"1\" class=\"dataframe\">\n",
       "  <thead>\n",
       "    <tr style=\"text-align: right;\">\n",
       "      <th><\/th>\n",
       "      <th>Month<\/th>\n",
       "      <th>#Passengers<\/th>\n",
       "    <\/tr>\n",
       "  <\/thead>\n",
       "  <tbody>\n",
       "    <tr>\n",
       "      <th>0<\/th>\n",
       "      <td>1949-01<\/td>\n",
       "      <td>112<\/td>\n",
       "    <\/tr>\n",
       "    <tr>\n",
       "      <th>1<\/th>\n",
       "      <td>1949-02<\/td>\n",
       "      <td>118<\/td>\n",
       "    <\/tr>\n",
       "    <tr>\n",
       "      <th>2<\/th>\n",
       "      <td>1949-03<\/td>\n",
       "      <td>132<\/td>\n",
       "    <\/tr>\n",
       "  <\/tbody>\n",
       "<\/table>\n",
       "<\/div>"
      ]
     },
     "metadata":{
      
     },
     "output_type":"display_data"
    }
   ],
   "metadata":{
    "datalore":{
     "node_id":"oSZW6U1vRiBR6KCpMqmU2H",
     "type":"CODE",
     "hide_input_from_viewers":false,
     "hide_output_from_viewers":false
    }
   }
  },
  {
   "cell_type":"code",
   "source":[
    "dataset.shape"
   ],
   "execution_count":8,
   "outputs":[
    {
     "data":{
      "text\/plain":[
       "(144, 2)"
      ]
     },
     "metadata":{
      
     },
     "output_type":"display_data"
    }
   ],
   "metadata":{
    "datalore":{
     "node_id":"5IaeSJbjXJGT99L4DTbzDW",
     "type":"CODE",
     "hide_input_from_viewers":false,
     "hide_output_from_viewers":false
    }
   }
  },
  {
   "cell_type":"code",
   "source":[
    "dataset.Month = pd.to_datetime(dataset['Month'], infer_datetime_format=True)"
   ],
   "execution_count":12,
   "outputs":[
    
   ],
   "metadata":{
    "datalore":{
     "node_id":"7oWNkDWQ7QtSfg2fWfygGW",
     "type":"CODE",
     "hide_input_from_viewers":false,
     "hide_output_from_viewers":false
    }
   }
  },
  {
   "cell_type":"code",
   "source":[
    "indexedDataset = dataset.set_index(['Month'])"
   ],
   "execution_count":13,
   "outputs":[
    
   ],
   "metadata":{
    "datalore":{
     "node_id":"WKvrpWh0qo96m9F36Ojz3w",
     "type":"CODE",
     "hide_input_from_viewers":false,
     "hide_output_from_viewers":false
    }
   }
  },
  {
   "cell_type":"code",
   "source":[
    "from datetime import datetime"
   ],
   "execution_count":14,
   "outputs":[
    
   ],
   "metadata":{
    "datalore":{
     "node_id":"BeyQZFRM7ZP3dCWNMOJvqr",
     "type":"CODE",
     "hide_input_from_viewers":false,
     "hide_output_from_viewers":false
    }
   }
  },
  {
   "cell_type":"code",
   "source":[
    "indexedDataset.head(3)"
   ],
   "execution_count":15,
   "outputs":[
    {
     "data":{
      "text\/html":[
       "<div>\n",
       "<style scoped>\n",
       "    .dataframe tbody tr th:only-of-type {\n",
       "        vertical-align: middle;\n",
       "    }\n",
       "\n",
       "    .dataframe tbody tr th {\n",
       "        vertical-align: top;\n",
       "    }\n",
       "\n",
       "    .dataframe thead th {\n",
       "        text-align: right;\n",
       "    }\n",
       "<\/style>\n",
       "<table border=\"1\" class=\"dataframe\">\n",
       "  <thead>\n",
       "    <tr style=\"text-align: right;\">\n",
       "      <th><\/th>\n",
       "      <th>#Passengers<\/th>\n",
       "    <\/tr>\n",
       "    <tr>\n",
       "      <th>Month<\/th>\n",
       "      <th><\/th>\n",
       "    <\/tr>\n",
       "  <\/thead>\n",
       "  <tbody>\n",
       "    <tr>\n",
       "      <th>1949-01-01<\/th>\n",
       "      <td>112<\/td>\n",
       "    <\/tr>\n",
       "    <tr>\n",
       "      <th>1949-02-01<\/th>\n",
       "      <td>118<\/td>\n",
       "    <\/tr>\n",
       "    <tr>\n",
       "      <th>1949-03-01<\/th>\n",
       "      <td>132<\/td>\n",
       "    <\/tr>\n",
       "  <\/tbody>\n",
       "<\/table>\n",
       "<\/div>"
      ]
     },
     "metadata":{
      
     },
     "output_type":"display_data"
    }
   ],
   "metadata":{
    "datalore":{
     "node_id":"JC13QExwoOBMHzc0RUZ0yb",
     "type":"CODE",
     "hide_input_from_viewers":false,
     "hide_output_from_viewers":false
    }
   }
  },
  {
   "cell_type":"code",
   "source":[
    "plt.xlabel('Date')\n",
    "plt.ylabel('Number of Air Passengers')\n",
    "plt.plot(indexedDataset)"
   ],
   "execution_count":18,
   "outputs":[
    {
     "data":{
      "text\/plain":[
       "[<matplotlib.lines.Line2D at 0x7f1e6b7d3fa0>]"
      ]
     },
     "metadata":{
      
     },
     "output_type":"display_data"
    },
    {
     "data":{
      
     },
     "metadata":{
      
     },
     "output_type":"display_data"
    }
   ],
   "metadata":{
    "datalore":{
     "node_id":"LeDwsUy9XJB73e35czgIbS",
     "type":"CODE",
     "hide_input_from_viewers":false,
     "hide_output_from_viewers":false
    }
   }
  },
  {
   "cell_type":"code",
   "source":[
    "#test to check stationaroty of data\n",
    "#above data is not stationary as the average of a set window of time does not remain stationary rather changes\n",
    "#rolling window 12 states months\n",
    "\n",
    "rolmean = indexedDataset.rolling(window=12).mean()\n",
    "rolstd = indexedDataset.rolling(window=12).std()\n",
    "print(rolmean, rolstd)"
   ],
   "execution_count":21,
   "outputs":[
    {
     "name":"stdout",
     "text":[
      "            #Passengers\n",
      "Month                  \n",
      "1949-01-01          NaN\n",
      "1949-02-01          NaN\n",
      "1949-03-01          NaN\n",
      "1949-04-01          NaN\n",
      "1949-05-01          NaN\n",
      "...                 ...\n",
      "1960-08-01   463.333333\n",
      "1960-09-01   467.083333\n",
      "1960-10-01   471.583333\n",
      "1960-11-01   473.916667\n",
      "1960-12-01   476.166667\n",
      "\n",
      "[144 rows x 1 columns]             #Passengers\n",
      "Month                  \n",
      "1949-01-01          NaN\n",
      "1949-02-01          NaN\n",
      "1949-03-01          NaN\n",
      "1949-04-01          NaN\n",
      "1949-05-01          NaN\n",
      "...                 ...\n",
      "1960-08-01    83.630500\n",
      "1960-09-01    84.617276\n",
      "1960-10-01    82.541954\n",
      "1960-11-01    79.502382\n",
      "1960-12-01    77.737125\n",
      "\n",
      "[144 rows x 1 columns]\n"
     ],
     "output_type":"stream"
    }
   ],
   "metadata":{
    "datalore":{
     "node_id":"bAra9MyBxXiQ6mXN91QVgP",
     "type":"CODE",
     "hide_input_from_viewers":false,
     "hide_output_from_viewers":false
    }
   }
  },
  {
   "cell_type":"code",
   "source":[
    "original = plt.plot(indexedDataset, color='blue', label='Original')\n",
    "mean = plt.plot(rolmean, color='red', label='Mean')\n",
    "std = plt.plot(rolstd, color='Black', label='Standard Deviation')\n",
    "plt.legend(loc='best')\n",
    "plt.title('Rolling Mean and Standard Deviation')\n",
    "plt.show(block=False)"
   ],
   "execution_count":22,
   "outputs":[
    {
     "data":{
      
     },
     "metadata":{
      
     },
     "output_type":"display_data"
    }
   ],
   "metadata":{
    "datalore":{
     "node_id":"SbBJNuOA7L95s1uvBFROsm",
     "type":"CODE",
     "hide_input_from_viewers":false,
     "hide_output_from_viewers":false
    }
   }
  },
  {
   "cell_type":"code",
   "source":[
    "#here notice that the rolling mean and std are also not stationary hence we can visually confirm data stationarity to be False"
   ],
   "execution_count":23,
   "outputs":[
    
   ],
   "metadata":{
    "datalore":{
     "node_id":"3UV7GUHTM6fhMbXfF3Mm7k",
     "type":"CODE",
     "hide_input_from_viewers":false,
     "hide_output_from_viewers":false
    }
   }
  },
  {
   "cell_type":"code",
   "source":[
    "#performing Dickey-Fuller test to check stationarity of dataset\n",
    "#Null Hypothesis - Stationarity of Data\n",
    "#the hypothesis here is that the data is not stationary\n",
    "\n",
    "from statsmodels.tsa.stattools import adfuller\n",
    "\n",
    "print('Rsults of Dickey-Fuller Test: ')\n",
    "dftest = adfuller(indexedDataset['#Passengers'], autolag='AIC')\n",
    "\n",
    "dfoutput = pd.Series(dftest[0:4], index=['Test Statistic', 'p-Value', '#Lags Used', 'Number of Observations Used'])\n",
    "\n",
    "for key, value in dftest[4].items():\n",
    "    dfoutput['Critical Value (%s) '%key] = value\n",
    "\n",
    "print(dfoutput)"
   ],
   "execution_count":25,
   "outputs":[
    {
     "name":"stdout",
     "text":[
      "Rsults of Dickey-Fuller Test: \n",
      "Test Statistic                   0.815369\n",
      "p-Value                          0.991880\n",
      "#Lags Used                      13.000000\n",
      "Number of Observations Used    130.000000\n",
      "Critical Value (1%)             -3.481682\n",
      "Critical Value (5%)             -2.884042\n",
      "Critical Value (10%)            -2.578770\n",
      "dtype: float64\n"
     ],
     "output_type":"stream"
    }
   ],
   "metadata":{
    "datalore":{
     "node_id":"J9zkPSyCuQ7sNa4fWBNTXh",
     "type":"CODE",
     "hide_input_from_viewers":false,
     "hide_output_from_viewers":false
    }
   }
  },
  {
   "cell_type":"code",
   "source":[
    "# p-value should be less\n",
    "# critical value should be more than the Test Statistic\n",
    "\n",
    "#Since both are false, hence data is not stationary"
   ],
   "execution_count":26,
   "outputs":[
    
   ],
   "metadata":{
    "datalore":{
     "node_id":"tkkoYBnDJc6KZhPNg8ND3M",
     "type":"CODE",
     "hide_input_from_viewers":false,
     "hide_output_from_viewers":false
    }
   }
  },
  {
   "cell_type":"code",
   "source":[
    "indexedDataset_logScale = np.log(indexedDataset)\n",
    "plt.plot(indexedDataset_logScale)"
   ],
   "execution_count":27,
   "outputs":[
    {
     "data":{
      "text\/plain":[
       "[<matplotlib.lines.Line2D at 0x7f1e4eba9c70>]"
      ]
     },
     "metadata":{
      
     },
     "output_type":"display_data"
    },
    {
     "data":{
      
     },
     "metadata":{
      
     },
     "output_type":"display_data"
    }
   ],
   "metadata":{
    "datalore":{
     "node_id":"0zHXtwv4zk4myWbn1U5Q6R",
     "type":"CODE",
     "hide_input_from_viewers":false,
     "hide_output_from_viewers":false
    }
   }
  },
  {
   "cell_type":"code",
   "source":[
    
   ],
   "execution_count":null,
   "outputs":[
    
   ],
   "metadata":{
    "datalore":{
     "node_id":"CSItAelwBxkgZsfZGNONRb",
     "type":"CODE",
     "hide_input_from_viewers":false,
     "hide_output_from_viewers":false
    }
   }
  }
 ],
 "metadata":{
  "kernelspec":{
   "display_name":"Python",
   "language":"python",
   "name":"python"
  },
  "datalore":{
   "version":1,
   "computation_mode":"JUPYTER",
   "package_manager":"pip",
   "base_environment":"default",
   "packages":[
    
   ]
  }
 },
 "nbformat":4,
 "nbformat_minor":4
}