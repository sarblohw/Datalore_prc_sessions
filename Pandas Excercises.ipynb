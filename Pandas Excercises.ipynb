{
 "cells":[
  {
   "cell_type":"code",
   "source":[
    "import pandas as pd"
   ],
   "execution_count":2,
   "outputs":[
    
   ],
   "metadata":{
    "datalore":{
     "node_id":"75vlIRRE7uKRCB8tBKMory",
     "type":"CODE",
     "hide_input_from_viewers":false,
     "hide_output_from_viewers":false
    }
   }
  },
  {
   "cell_type":"markdown",
   "source":[
    "1. Write a Pandas program to create and display a one-dimensional array-like object containing an array of data using Pandas module."
   ],
   "attachments":{
    
   },
   "metadata":{
    "datalore":{
     "node_id":"FaG5rCvYu8xwA3OQ9jjxhe",
     "type":"MD",
     "hide_input_from_viewers":false,
     "hide_output_from_viewers":false
    }
   }
  },
  {
   "cell_type":"code",
   "source":[
    "x = pd.Series([1,2,3,4,5])\n",
    "print(x, type(x))"
   ],
   "execution_count":6,
   "outputs":[
    {
     "name":"stdout",
     "text":[
      "0    1\n",
      "1    2\n",
      "2    3\n",
      "3    4\n",
      "4    5\n",
      "dtype: int64 <class 'pandas.core.series.Series'>\n"
     ],
     "output_type":"stream"
    }
   ],
   "metadata":{
    "datalore":{
     "node_id":"Q9WZB0sRuz0lAvp7swVArs",
     "type":"CODE",
     "hide_input_from_viewers":false,
     "hide_output_from_viewers":false
    }
   }
  },
  {
   "cell_type":"markdown",
   "source":[
    "2. Write a Pandas program to convert a Panda module Series to Python list and it's type."
   ],
   "attachments":{
    
   },
   "metadata":{
    "datalore":{
     "node_id":"nGKhqujgQI25INn1kixXpi",
     "type":"MD",
     "hide_input_from_viewers":false,
     "hide_output_from_viewers":false
    }
   }
  },
  {
   "cell_type":"code",
   "source":[
    "y = x.tolist()\n",
    "print(y, type(y))"
   ],
   "execution_count":9,
   "outputs":[
    {
     "name":"stdout",
     "text":[
      "[1, 2, 3, 4, 5] <class 'list'>\n"
     ],
     "output_type":"stream"
    }
   ],
   "metadata":{
    "datalore":{
     "node_id":"rvNndmrSBKz8tPNBENrN9A",
     "type":"CODE",
     "hide_input_from_viewers":false,
     "hide_output_from_viewers":false
    }
   }
  },
  {
   "cell_type":"markdown",
   "source":[
    "3. Write a Pandas program to add, subtract, multiple and divide two Pandas Series."
   ],
   "attachments":{
    
   },
   "metadata":{
    "datalore":{
     "node_id":"494OQbaGVenOahSVoQAzct",
     "type":"MD",
     "hide_input_from_viewers":false,
     "hide_output_from_viewers":false
    }
   }
  },
  {
   "cell_type":"code",
   "source":[
    "ds1 = pd.Series([2, 4, 1, 8, 10])\n",
    "ds2 = pd.Series([1, 3, 5, 7, 9])\n",
    "ds = ds1 + ds2\n",
    "print(\"Add two Series:\")\n",
    "print(ds)\n",
    "print(\"Subtract two Series:\")\n",
    "ds = ds1 - ds2\n",
    "print(ds)\n",
    "print(\"Multiply two Series:\")\n",
    "ds = ds1 * ds2\n",
    "print(ds)\n",
    "print(\"Divide Series1 by Series2:\")\n",
    "ds = ds1 \/ ds2\n",
    "print(ds)"
   ],
   "execution_count":16,
   "outputs":[
    {
     "name":"stdout",
     "text":[
      "Add two Series:\n",
      "0     3\n",
      "1     7\n",
      "2     6\n",
      "3    15\n",
      "4    19\n",
      "dtype: int64\n",
      "Subtract two Series:\n",
      "0    1\n",
      "1    1\n",
      "2   -4\n",
      "3    1\n",
      "4    1\n",
      "dtype: int64\n",
      "Multiply two Series:\n",
      "0     2\n",
      "1    12\n",
      "2     5\n",
      "3    56\n",
      "4    90\n",
      "dtype: int64\n",
      "Divide Series1 by Series2:\n",
      "0    2.000000\n",
      "1    1.333333\n",
      "2    0.200000\n",
      "3    1.142857\n",
      "4    1.111111\n",
      "dtype: float64\n"
     ],
     "output_type":"stream"
    }
   ],
   "metadata":{
    "datalore":{
     "node_id":"muJLwTTPDKFE6Fqk0HV1MK",
     "type":"CODE",
     "hide_input_from_viewers":false,
     "hide_output_from_viewers":false
    }
   }
  },
  {
   "cell_type":"markdown",
   "source":[
    "4. Write a Pandas program to compare the elements of the two Pandas Series."
   ],
   "attachments":{
    
   },
   "metadata":{
    "datalore":{
     "node_id":"epA14R1sOk69kwvWxvqSud",
     "type":"MD",
     "hide_input_from_viewers":false,
     "hide_output_from_viewers":false
    }
   }
  },
  {
   "cell_type":"code",
   "source":[
    "print(\"Compare the elements of the said Series:\")\n",
    "print(\"Equals:\")\n",
    "print(ds1 == ds2)\n",
    "print(\"Greater than:\")\n",
    "print(ds1 > ds2)\n",
    "print(\"Less than:\")\n",
    "print(ds1 < ds2)"
   ],
   "execution_count":17,
   "outputs":[
    {
     "name":"stdout",
     "text":[
      "Compare the elements of the said Series:\n",
      "Equals:\n",
      "0    False\n",
      "1    False\n",
      "2    False\n",
      "3    False\n",
      "4    False\n",
      "dtype: bool\n",
      "Greater than:\n",
      "0     True\n",
      "1     True\n",
      "2    False\n",
      "3     True\n",
      "4     True\n",
      "dtype: bool\n",
      "Less than:\n",
      "0    False\n",
      "1    False\n",
      "2     True\n",
      "3    False\n",
      "4    False\n",
      "dtype: bool\n"
     ],
     "output_type":"stream"
    }
   ],
   "metadata":{
    "datalore":{
     "node_id":"7urltxWmmdP4d2aId0nNTJ",
     "type":"CODE",
     "hide_input_from_viewers":false,
     "hide_output_from_viewers":false
    }
   }
  },
  {
   "cell_type":"markdown",
   "source":[
    "5. Write a Pandas program to convert a dictionary to a Pandas series."
   ],
   "attachments":{
    
   },
   "metadata":{
    "datalore":{
     "node_id":"dSaN98ybjpZe7teA14YCn3",
     "type":"MD",
     "hide_input_from_viewers":false,
     "hide_output_from_viewers":false
    }
   }
  },
  {
   "cell_type":"code",
   "source":[
    "d1 = {'a': 100, 'b': 200, 'c':300, 'd':400, 'e':800}\n",
    "print(\"Original dictionary:\")\n",
    "print(d1)\n",
    "new_series = pd.Series(d1)\n",
    "print(\"Converted series:\")\n",
    "print(new_series)"
   ],
   "execution_count":18,
   "outputs":[
    {
     "name":"stdout",
     "text":[
      "Original dictionary:\n",
      "{'a': 100, 'b': 200, 'c': 300, 'd': 400, 'e': 800}\n",
      "Converted series:\n",
      "a    100\n",
      "b    200\n",
      "c    300\n",
      "d    400\n",
      "e    800\n",
      "dtype: int64\n"
     ],
     "output_type":"stream"
    }
   ],
   "metadata":{
    "datalore":{
     "node_id":"tbS2NPkkkFelANCIaftl1X",
     "type":"CODE",
     "hide_input_from_viewers":false,
     "hide_output_from_viewers":false
    }
   }
  },
  {
   "cell_type":"markdown",
   "source":[
    "6. Write a Pandas program to convert a NumPy array to a Pandas series."
   ],
   "attachments":{
    
   },
   "metadata":{
    "datalore":{
     "node_id":"FcLKEVsHilS2KhCSIvOEQu",
     "type":"MD",
     "hide_input_from_viewers":false,
     "hide_output_from_viewers":false
    }
   }
  },
  {
   "cell_type":"code",
   "source":[
    "import numpy as np\n",
    "\n",
    "lst = [3,55,4,1,56,90]\n",
    "\n",
    "arr = np.array(lst)"
   ],
   "execution_count":19,
   "outputs":[
    
   ],
   "metadata":{
    "datalore":{
     "node_id":"U56AiGblfAMQjcKvLR4Bt4",
     "type":"CODE",
     "hide_input_from_viewers":false,
     "hide_output_from_viewers":false
    }
   }
  },
  {
   "cell_type":"code",
   "source":[
    "arr"
   ],
   "execution_count":20,
   "outputs":[
    {
     "data":{
      "text\/plain":[
       "array([ 3, 55,  4,  1, 56, 90])"
      ]
     },
     "metadata":{
      
     },
     "output_type":"display_data"
    }
   ],
   "metadata":{
    "datalore":{
     "node_id":"fhbYBWSFb8KGhjWYJuJukZ",
     "type":"CODE",
     "hide_input_from_viewers":false,
     "hide_output_from_viewers":false
    }
   }
  },
  {
   "cell_type":"code",
   "source":[
    "pd.Series(arr)"
   ],
   "execution_count":21,
   "outputs":[
    {
     "data":{
      "text\/plain":[
       "0     3\n",
       "1    55\n",
       "2     4\n",
       "3     1\n",
       "4    56\n",
       "5    90\n",
       "dtype: int64"
      ]
     },
     "metadata":{
      
     },
     "output_type":"display_data"
    }
   ],
   "metadata":{
    "datalore":{
     "node_id":"cJhaeABzwsyALS3nrXhPMM",
     "type":"CODE",
     "hide_input_from_viewers":false,
     "hide_output_from_viewers":false
    }
   }
  },
  {
   "cell_type":"markdown",
   "source":[
    "7. Write a Pandas program to change the data type of given a column or a Series."
   ],
   "attachments":{
    
   },
   "metadata":{
    "datalore":{
     "node_id":"ooyAdQ39rDrrtczab76NvO",
     "type":"MD",
     "hide_input_from_viewers":false,
     "hide_output_from_viewers":false
    }
   }
  },
  {
   "cell_type":"code",
   "source":[
    "srs = pd.Series([2,3,4,1,5,'Num',3])\n",
    "pd.to_numeric(srs, errors='coerce')"
   ],
   "execution_count":24,
   "outputs":[
    {
     "data":{
      "text\/plain":[
       "0    2.0\n",
       "1    3.0\n",
       "2    4.0\n",
       "3    1.0\n",
       "4    5.0\n",
       "5    NaN\n",
       "6    3.0\n",
       "dtype: float64"
      ]
     },
     "metadata":{
      
     },
     "output_type":"display_data"
    }
   ],
   "metadata":{
    "datalore":{
     "node_id":"VES8egpt7lCq8R9Mqv8b2x",
     "type":"CODE",
     "hide_input_from_viewers":false,
     "hide_output_from_viewers":false
    }
   }
  },
  {
   "cell_type":"code",
   "source":[
    
   ],
   "execution_count":null,
   "outputs":[
    
   ],
   "metadata":{
    "datalore":{
     "node_id":"hvvqRoNOVL1DWYW2jLNQ0S",
     "type":"CODE",
     "hide_input_from_viewers":false,
     "hide_output_from_viewers":false
    }
   }
  }
 ],
 "metadata":{
  "kernelspec":{
   "display_name":"Python",
   "language":"python",
   "name":"python"
  },
  "datalore":{
   "version":1,
   "computation_mode":"JUPYTER",
   "package_manager":"pip",
   "base_environment":"default",
   "packages":[
    
   ]
  }
 },
 "nbformat":4,
 "nbformat_minor":4
}