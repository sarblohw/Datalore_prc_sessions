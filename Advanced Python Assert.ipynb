{
 "cells":[
  {
   "cell_type":"markdown",
   "source":[
    "### Python Assert\n",
    "Python provides the assert statement to check if a given logical expression is true or false. Program execution proceeds only if the expression is true and raises the AssertionError when it is false. The following code shows the usage of the assert statement."
   ],
   "attachments":{
    
   },
   "metadata":{
    "datalore":{
     "node_id":"ODV8YxXLiltN3wpToTgvXf",
     "type":"MD",
     "hide_input_from_viewers":false,
     "hide_output_from_viewers":false
    }
   }
  },
  {
   "cell_type":"code",
   "source":[
    "num=10\n",
    "assert num>10"
   ],
   "execution_count":null,
   "outputs":[
    
   ],
   "metadata":{
    "datalore":{
     "node_id":"XxzpqugNF9eNTrWPtr13gQ",
     "type":"CODE",
     "hide_input_from_viewers":false,
     "hide_output_from_viewers":false
    }
   }
  },
  {
   "cell_type":"code",
   "source":[
    "try:\n",
    "    num=int(input(\"Enter the even number\"))\n",
    "    assert num%2==0\n",
    "    print(\"The number is even\")\n",
    "except AssertionError:\n",
    "    print(\"Please enter even number\")"
   ],
   "execution_count":null,
   "outputs":[
    
   ],
   "metadata":{
    "datalore":{
     "node_id":"VTDU4BSdV1z9tgOIZdJiWR",
     "type":"CODE",
     "hide_input_from_viewers":false,
     "hide_output_from_viewers":false
    }
   }
  },
  {
   "cell_type":"code",
   "source":[
    
   ],
   "execution_count":null,
   "outputs":[
    
   ],
   "metadata":{
    "datalore":{
     "node_id":"MbgpCT98DGvA4TE5fOgmxN",
     "type":"CODE",
     "hide_input_from_viewers":false,
     "hide_output_from_viewers":false
    }
   }
  }
 ],
 "metadata":{
  "kernelspec":{
   "display_name":"Python",
   "language":"python",
   "name":"python"
  },
  "datalore":{
   "version":1,
   "computation_mode":"JUPYTER",
   "packages":[
    
   ]
  }
 },
 "nbformat":4,
 "nbformat_minor":4
}