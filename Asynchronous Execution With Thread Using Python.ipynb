{
 "cells":[
  {
   "cell_type":"code",
   "source":[
    "import time\n",
    "from concurrent.futures import ThreadPoolExecutor\n",
    "def returnnumber(a):\n",
    "    time.sleep(1)\n",
    "    return a\n"
   ],
   "execution_count":null,
   "outputs":[
    
   ],
   "metadata":{
    "datalore":{
     "node_id":"LrQXcrB24wDLIkI8GxCEff",
     "type":"CODE",
     "hide_input_from_viewers":false,
     "hide_output_from_viewers":false
    }
   }
  },
  {
   "cell_type":"code",
   "source":[
    "returnnumber(12)"
   ],
   "execution_count":null,
   "outputs":[
    
   ],
   "metadata":{
    "datalore":{
     "node_id":"nxHrqUL2RiTyQ1qRfy3X2F",
     "type":"CODE",
     "hide_input_from_viewers":false,
     "hide_output_from_viewers":false
    }
   }
  },
  {
   "cell_type":"code",
   "source":[
    "start=time.time()\n",
    "with ThreadPoolExecutor(max_workers=3) as executor:\n",
    "    for result in executor.map(returnnumber,range(100)):\n",
    "        print(\"Count: {0}\".format(result))\n",
    "print(\"The total time is :{0}\".format(time.time()-start))"
   ],
   "execution_count":null,
   "outputs":[
    
   ],
   "metadata":{
    "datalore":{
     "node_id":"HOlYjOkA3p6QJXoth7JADw",
     "type":"CODE",
     "hide_input_from_viewers":false,
     "hide_output_from_viewers":false
    }
   }
  },
  {
   "cell_type":"code",
   "source":[
    
   ],
   "execution_count":null,
   "outputs":[
    
   ],
   "metadata":{
    "datalore":{
     "node_id":"0tt6iQkI7mCSbEj2uCO58u",
     "type":"CODE",
     "hide_input_from_viewers":false,
     "hide_output_from_viewers":false
    }
   }
  }
 ],
 "metadata":{
  "kernelspec":{
   "display_name":"Python",
   "language":"python",
   "name":"python"
  },
  "datalore":{
   "version":1,
   "computation_mode":"JUPYTER",
   "packages":[
    
   ]
  }
 },
 "nbformat":4,
 "nbformat_minor":4
}