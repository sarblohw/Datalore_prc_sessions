{
 "cells":[
  {
   "cell_type":"markdown",
   "source":[
    "### NUMPY"
   ],
   "attachments":{
    
   },
   "metadata":{
    "datalore":{
     "node_id":"BU5vEvQGXelvo2UKEGBcVh",
     "type":"MD",
     "hide_input_from_viewers":false,
     "hide_output_from_viewers":false
    }
   }
  },
  {
   "cell_type":"code",
   "source":[
    "import numpy as np"
   ],
   "execution_count":1,
   "outputs":[
    
   ],
   "metadata":{
    "datalore":{
     "node_id":"WgcHLPz3PPpL0BCR1xB5Z2",
     "type":"CODE",
     "hide_input_from_viewers":false,
     "hide_output_from_viewers":false
    }
   }
  },
  {
   "cell_type":"code",
   "source":[
    "np.__version__"
   ],
   "execution_count":3,
   "outputs":[
    {
     "data":{
      "text\/plain":[
       "'1.19.5'"
      ]
     },
     "metadata":{
      
     },
     "output_type":"display_data"
    }
   ],
   "metadata":{
    "datalore":{
     "node_id":"3Sjuf1iK1GcpmqkqZVhVqm",
     "type":"CODE",
     "hide_input_from_viewers":false,
     "hide_output_from_viewers":false
    }
   }
  },
  {
   "cell_type":"code",
   "source":[
    "np.array([1,2,3,4,5])"
   ],
   "execution_count":4,
   "outputs":[
    {
     "data":{
      "text\/plain":[
       "array([1, 2, 3, 4, 5])"
      ]
     },
     "metadata":{
      
     },
     "output_type":"display_data"
    }
   ],
   "metadata":{
    "datalore":{
     "node_id":"8O4OToe8ZS9yCT5Q2hUG6d",
     "type":"CODE",
     "hide_input_from_viewers":false,
     "hide_output_from_viewers":false
    }
   }
  },
  {
   "cell_type":"code",
   "source":[
    "# array as opposed to list will only contain a single data type\n",
    "# in the below error, it will typecast all elements as string\n",
    "\n",
    "np.array([1,2,3,False,True,'abcd','sumi'])"
   ],
   "execution_count":5,
   "outputs":[
    {
     "data":{
      "text\/plain":[
       "array(['1', '2', '3', 'False', 'True', 'abcd', 'sumi'], dtype='<U21')"
      ]
     },
     "metadata":{
      
     },
     "output_type":"display_data"
    }
   ],
   "metadata":{
    "datalore":{
     "node_id":"8C7jrUZIg5NiOd6hN38HBH",
     "type":"CODE",
     "hide_input_from_viewers":false,
     "hide_output_from_viewers":false
    }
   }
  },
  {
   "cell_type":"code",
   "source":[
    "# applying basic math operations to list vs array\n",
    "\n",
    "sample_list = [1,2,3,4]\n",
    "sample_list * 2"
   ],
   "execution_count":6,
   "outputs":[
    {
     "data":{
      "text\/plain":[
       "[1, 2, 3, 4, 1, 2, 3, 4]"
      ]
     },
     "metadata":{
      
     },
     "output_type":"display_data"
    }
   ],
   "metadata":{
    "datalore":{
     "node_id":"YMDYthDLClGybKWZ3t5cRC",
     "type":"CODE",
     "hide_input_from_viewers":false,
     "hide_output_from_viewers":false
    }
   }
  },
  {
   "cell_type":"code",
   "source":[
    "np.array(sample_list) * 2"
   ],
   "execution_count":8,
   "outputs":[
    {
     "data":{
      "text\/plain":[
       "array([2, 4, 6, 8])"
      ]
     },
     "metadata":{
      
     },
     "output_type":"display_data"
    }
   ],
   "metadata":{
    "datalore":{
     "node_id":"u6Kil2snW1dTc5SwaowDpq",
     "type":"CODE",
     "hide_input_from_viewers":false,
     "hide_output_from_viewers":false
    }
   }
  },
  {
   "cell_type":"markdown",
   "source":[
    "#### Matrix\n",
    "* numpy helps with linear algebra\n",
    "* matrix is a basic structure for linear algebra"
   ],
   "attachments":{
    
   },
   "metadata":{
    "datalore":{
     "node_id":"rwD8Ns0Ty23pMai7urMjNj",
     "type":"MD",
     "hide_input_from_viewers":false,
     "hide_output_from_viewers":false
    }
   }
  },
  {
   "cell_type":"code",
   "source":[
    "a = [[1,2,3], [4,5,6], [7,8,9]] # nested list\n",
    "mtrx = np.array(a)\n",
    "mtrx"
   ],
   "execution_count":9,
   "outputs":[
    {
     "data":{
      "text\/plain":[
       "array([[1, 2, 3],\n",
       "       [4, 5, 6],\n",
       "       [7, 8, 9]])"
      ]
     },
     "metadata":{
      
     },
     "output_type":"display_data"
    }
   ],
   "metadata":{
    "datalore":{
     "node_id":"gJHc2KAsnUNmHozrHtMSGo",
     "type":"CODE",
     "hide_input_from_viewers":false,
     "hide_output_from_viewers":false
    }
   }
  },
  {
   "cell_type":"code",
   "source":[
    "mtrx[2]"
   ],
   "execution_count":11,
   "outputs":[
    {
     "data":{
      "text\/plain":[
       "array([7, 8, 9])"
      ]
     },
     "metadata":{
      
     },
     "output_type":"display_data"
    }
   ],
   "metadata":{
    "datalore":{
     "node_id":"pOM7LPFCEhMys8CDxol4Af",
     "type":"CODE",
     "hide_input_from_viewers":false,
     "hide_output_from_viewers":false
    }
   }
  },
  {
   "cell_type":"code",
   "source":[
    "mtrx[2][1] # indexing is row number first then column number"
   ],
   "execution_count":14,
   "outputs":[
    {
     "data":{
      "text\/plain":[
       "8"
      ]
     },
     "metadata":{
      
     },
     "output_type":"display_data"
    }
   ],
   "metadata":{
    "datalore":{
     "node_id":"uEj5fO2f6uHaka4PJ7qLNe",
     "type":"CODE",
     "hide_input_from_viewers":false,
     "hide_output_from_viewers":false
    }
   }
  },
  {
   "cell_type":"code",
   "source":[
    "mtrx[0:2] # using colon indexing results in a sub array"
   ],
   "execution_count":32,
   "outputs":[
    {
     "data":{
      "text\/plain":[
       "array([[1, 2, 3],\n",
       "       [4, 5, 6]])"
      ]
     },
     "metadata":{
      
     },
     "output_type":"display_data"
    }
   ],
   "metadata":{
    "datalore":{
     "node_id":"glSrWHO0RzMVlXx1mg225c",
     "type":"CODE",
     "hide_input_from_viewers":false,
     "hide_output_from_viewers":false
    }
   }
  },
  {
   "cell_type":"code",
   "source":[
    "mtrx[0:]"
   ],
   "execution_count":38,
   "outputs":[
    {
     "data":{
      "text\/plain":[
       "array([[1, 2, 3],\n",
       "       [4, 5, 6],\n",
       "       [7, 8, 9]])"
      ]
     },
     "metadata":{
      
     },
     "output_type":"display_data"
    }
   ],
   "metadata":{
    "datalore":{
     "node_id":"E1e3aFtGta5pEUaDiE0nrP",
     "type":"CODE",
     "hide_input_from_viewers":false,
     "hide_output_from_viewers":false
    }
   }
  },
  {
   "cell_type":"code",
   "source":[
    "# number of initial square brackets shows the n dimensionality of the array"
   ],
   "execution_count":39,
   "outputs":[
    
   ],
   "metadata":{
    "datalore":{
     "node_id":"P4nBYuTgEmDBeQvEIbNmwh",
     "type":"CODE",
     "hide_input_from_viewers":false,
     "hide_output_from_viewers":false
    }
   }
  },
  {
   "cell_type":"code",
   "source":[
    "# shape declared as a tuple - (rows, columns)"
   ],
   "execution_count":null,
   "outputs":[
    
   ],
   "metadata":{
    "datalore":{
     "node_id":"xgPptej5Dl6bN040JZkFER",
     "type":"CODE",
     "hide_input_from_viewers":false,
     "hide_output_from_viewers":false
    }
   }
  },
  {
   "cell_type":"code",
   "source":[
    "np.random.randint(0, 10, (3, 3))"
   ],
   "execution_count":40,
   "outputs":[
    {
     "data":{
      "text\/plain":[
       "array([[3, 5, 8],\n",
       "       [5, 1, 9],\n",
       "       [6, 5, 9]])"
      ]
     },
     "metadata":{
      
     },
     "output_type":"display_data"
    }
   ],
   "metadata":{
    "datalore":{
     "node_id":"RLLiIrbfhwlWsgcULH9xHu",
     "type":"CODE",
     "hide_input_from_viewers":false,
     "hide_output_from_viewers":false
    }
   }
  },
  {
   "cell_type":"code",
   "source":[
    "np.random.randn(3,4) # random numbers in the dimension, with a normal distribution"
   ],
   "execution_count":42,
   "outputs":[
    {
     "data":{
      "text\/plain":[
       "array([[-0.02695553, -0.81308511,  0.56763498, -0.83236591],\n",
       "       [ 1.09784252,  1.0683096 ,  0.22937012, -0.23205363],\n",
       "       [ 1.09657761,  1.87898148,  0.79519493, -1.00757275]])"
      ]
     },
     "metadata":{
      
     },
     "output_type":"display_data"
    }
   ],
   "metadata":{
    "datalore":{
     "node_id":"wGaHhHpR2FYETTCzXNYZaQ",
     "type":"CODE",
     "hide_input_from_viewers":false,
     "hide_output_from_viewers":false
    }
   }
  },
  {
   "cell_type":"code",
   "source":[
    "np.ones([5, 12])"
   ],
   "execution_count":44,
   "outputs":[
    {
     "data":{
      "text\/plain":[
       "array([[1., 1., 1., 1., 1., 1., 1., 1., 1., 1., 1., 1.],\n",
       "       [1., 1., 1., 1., 1., 1., 1., 1., 1., 1., 1., 1.],\n",
       "       [1., 1., 1., 1., 1., 1., 1., 1., 1., 1., 1., 1.],\n",
       "       [1., 1., 1., 1., 1., 1., 1., 1., 1., 1., 1., 1.],\n",
       "       [1., 1., 1., 1., 1., 1., 1., 1., 1., 1., 1., 1.]])"
      ]
     },
     "metadata":{
      
     },
     "output_type":"display_data"
    }
   ],
   "metadata":{
    "datalore":{
     "node_id":"64skpFzaChvXTYUoxe5C6D",
     "type":"CODE",
     "hide_input_from_viewers":false,
     "hide_output_from_viewers":false
    }
   }
  },
  {
   "cell_type":"code",
   "source":[
    "# fixing random behavior to generate same random numbers\n",
    "# here because the seed is set, this cell will generate the same random numbers\n",
    "\n",
    "np.random.seed(2)\n",
    "np.random.randint(2,23, (5, 6))"
   ],
   "execution_count":47,
   "outputs":[
    {
     "data":{
      "text\/plain":[
       "array([[10, 17, 15, 10, 13, 20],\n",
       "       [13, 10,  9,  4, 19, 13],\n",
       "       [17, 22, 22,  7,  9,  5],\n",
       "       [ 8,  6, 12, 13, 21,  9],\n",
       "       [ 8, 12,  3,  5,  7,  6]])"
      ]
     },
     "metadata":{
      
     },
     "output_type":"display_data"
    }
   ],
   "metadata":{
    "datalore":{
     "node_id":"3JNILKKuqG63VcCclzlGus",
     "type":"CODE",
     "hide_input_from_viewers":false,
     "hide_output_from_viewers":false
    }
   }
  },
  {
   "cell_type":"code",
   "source":[
    "np.zeros((3,4), dtype = int)"
   ],
   "execution_count":48,
   "outputs":[
    {
     "data":{
      "text\/plain":[
       "array([[0, 0, 0, 0],\n",
       "       [0, 0, 0, 0],\n",
       "       [0, 0, 0, 0]])"
      ]
     },
     "metadata":{
      
     },
     "output_type":"display_data"
    }
   ],
   "metadata":{
    "datalore":{
     "node_id":"zTGPHlt4XSsDIbUhJHc5sC",
     "type":"CODE",
     "hide_input_from_viewers":false,
     "hide_output_from_viewers":false
    }
   }
  },
  {
   "cell_type":"code",
   "source":[
    "# creating an identity matrix\n",
    "# identity matrices are square matrices hence a single arguement in the function\n",
    "\n",
    "np.identity(5)"
   ],
   "execution_count":49,
   "outputs":[
    {
     "data":{
      "text\/plain":[
       "array([[1., 0., 0., 0., 0.],\n",
       "       [0., 1., 0., 0., 0.],\n",
       "       [0., 0., 1., 0., 0.],\n",
       "       [0., 0., 0., 1., 0.],\n",
       "       [0., 0., 0., 0., 1.]])"
      ]
     },
     "metadata":{
      
     },
     "output_type":"display_data"
    }
   ],
   "metadata":{
    "datalore":{
     "node_id":"kk3z5aw8hpKw6aa0Zl3RHc",
     "type":"CODE",
     "hide_input_from_viewers":false,
     "hide_output_from_viewers":false
    }
   }
  },
  {
   "cell_type":"code",
   "source":[
    "np.identity(10, dtype = int)"
   ],
   "execution_count":52,
   "outputs":[
    {
     "data":{
      "text\/plain":[
       "array([[1, 0, 0, 0, 0, 0, 0, 0, 0, 0],\n",
       "       [0, 1, 0, 0, 0, 0, 0, 0, 0, 0],\n",
       "       [0, 0, 1, 0, 0, 0, 0, 0, 0, 0],\n",
       "       [0, 0, 0, 1, 0, 0, 0, 0, 0, 0],\n",
       "       [0, 0, 0, 0, 1, 0, 0, 0, 0, 0],\n",
       "       [0, 0, 0, 0, 0, 1, 0, 0, 0, 0],\n",
       "       [0, 0, 0, 0, 0, 0, 1, 0, 0, 0],\n",
       "       [0, 0, 0, 0, 0, 0, 0, 1, 0, 0],\n",
       "       [0, 0, 0, 0, 0, 0, 0, 0, 1, 0],\n",
       "       [0, 0, 0, 0, 0, 0, 0, 0, 0, 1]])"
      ]
     },
     "metadata":{
      
     },
     "output_type":"display_data"
    }
   ],
   "metadata":{
    "datalore":{
     "node_id":"InvntSs7TTyKpNIW0XjZPU",
     "type":"CODE",
     "hide_input_from_viewers":false,
     "hide_output_from_viewers":false
    }
   }
  },
  {
   "cell_type":"code",
   "source":[
    "np.full((3, 5), 3.14)"
   ],
   "execution_count":53,
   "outputs":[
    {
     "data":{
      "text\/plain":[
       "array([[3.14, 3.14, 3.14, 3.14, 3.14],\n",
       "       [3.14, 3.14, 3.14, 3.14, 3.14],\n",
       "       [3.14, 3.14, 3.14, 3.14, 3.14]])"
      ]
     },
     "metadata":{
      
     },
     "output_type":"display_data"
    }
   ],
   "metadata":{
    "datalore":{
     "node_id":"sS5oWMN7wGJA666fWDwApu",
     "type":"CODE",
     "hide_input_from_viewers":false,
     "hide_output_from_viewers":false
    }
   }
  },
  {
   "cell_type":"code",
   "source":[
    "# axis = 0 <- rows... axis = 1 <- columns"
   ],
   "execution_count":54,
   "outputs":[
    
   ],
   "metadata":{
    "datalore":{
     "node_id":"NO2ojulJEudNeHHwV0A5QH",
     "type":"CODE",
     "hide_input_from_viewers":false,
     "hide_output_from_viewers":false
    }
   }
  },
  {
   "cell_type":"code",
   "source":[
    "zero_m = np.zeros((3,5), dtype=int)\n",
    "one_m = np.ones((3,5), dtype=int)"
   ],
   "execution_count":60,
   "outputs":[
    
   ],
   "metadata":{
    "datalore":{
     "node_id":"YxOmumbFcNdkgEBrYH32wI",
     "type":"CODE",
     "hide_input_from_viewers":false,
     "hide_output_from_viewers":false
    }
   }
  },
  {
   "cell_type":"code",
   "source":[
    "combined_m = np.concatenate([zero_m, one_m], axis=0)"
   ],
   "execution_count":61,
   "outputs":[
    
   ],
   "metadata":{
    "datalore":{
     "node_id":"UqTYLBc9i5W19amSMJK9sI",
     "type":"CODE",
     "hide_input_from_viewers":false,
     "hide_output_from_viewers":false
    }
   }
  },
  {
   "cell_type":"code",
   "source":[
    "combined_m"
   ],
   "execution_count":62,
   "outputs":[
    {
     "data":{
      "text\/plain":[
       "array([[0, 0, 0, 0, 0],\n",
       "       [0, 0, 0, 0, 0],\n",
       "       [0, 0, 0, 0, 0],\n",
       "       [1, 1, 1, 1, 1],\n",
       "       [1, 1, 1, 1, 1],\n",
       "       [1, 1, 1, 1, 1]])"
      ]
     },
     "metadata":{
      
     },
     "output_type":"display_data"
    }
   ],
   "metadata":{
    "datalore":{
     "node_id":"gEVijGjI00xq0n3mALw9PP",
     "type":"CODE",
     "hide_input_from_viewers":false,
     "hide_output_from_viewers":false
    }
   }
  },
  {
   "cell_type":"code",
   "source":[
    "combined_m_2 = np.concatenate([zero_m, one_m], axis=1)"
   ],
   "execution_count":63,
   "outputs":[
    
   ],
   "metadata":{
    "datalore":{
     "node_id":"1yDWRTtdTHiOIgnTvXD0Pl",
     "type":"CODE",
     "hide_input_from_viewers":false,
     "hide_output_from_viewers":false
    }
   }
  },
  {
   "cell_type":"code",
   "source":[
    "combined_m_2"
   ],
   "execution_count":64,
   "outputs":[
    {
     "data":{
      "text\/plain":[
       "array([[0, 0, 0, 0, 0, 1, 1, 1, 1, 1],\n",
       "       [0, 0, 0, 0, 0, 1, 1, 1, 1, 1],\n",
       "       [0, 0, 0, 0, 0, 1, 1, 1, 1, 1]])"
      ]
     },
     "metadata":{
      
     },
     "output_type":"display_data"
    }
   ],
   "metadata":{
    "datalore":{
     "node_id":"gnJNaW0J8azjPs4OjomR1z",
     "type":"CODE",
     "hide_input_from_viewers":false,
     "hide_output_from_viewers":false
    }
   }
  },
  {
   "cell_type":"code",
   "source":[
    "np.zeros_like(combined_m)"
   ],
   "execution_count":65,
   "outputs":[
    {
     "data":{
      "text\/plain":[
       "array([[0, 0, 0, 0, 0],\n",
       "       [0, 0, 0, 0, 0],\n",
       "       [0, 0, 0, 0, 0],\n",
       "       [0, 0, 0, 0, 0],\n",
       "       [0, 0, 0, 0, 0],\n",
       "       [0, 0, 0, 0, 0]])"
      ]
     },
     "metadata":{
      
     },
     "output_type":"display_data"
    }
   ],
   "metadata":{
    "datalore":{
     "node_id":"W696VTBAtFWY9zdJCJDPPz",
     "type":"CODE",
     "hide_input_from_viewers":false,
     "hide_output_from_viewers":false
    }
   }
  },
  {
   "cell_type":"markdown",
   "source":[
    "### SCIPY"
   ],
   "attachments":{
    
   },
   "metadata":{
    "datalore":{
     "node_id":"AXaPdlkREObwGtBUIhDZEq",
     "type":"MD",
     "hide_input_from_viewers":false,
     "hide_output_from_viewers":false
    }
   }
  },
  {
   "cell_type":"code",
   "source":[
    "import scipy"
   ],
   "execution_count":1,
   "outputs":[
    
   ],
   "metadata":{
    "datalore":{
     "node_id":"gEne8RncI2LO3Gt2NkBPd0",
     "type":"CODE",
     "hide_input_from_viewers":false,
     "hide_output_from_viewers":false
    }
   }
  },
  {
   "cell_type":"code",
   "source":[
    "scipy.__version__"
   ],
   "execution_count":2,
   "outputs":[
    {
     "data":{
      "text\/plain":[
       "'1.6.1'"
      ]
     },
     "metadata":{
      
     },
     "output_type":"display_data"
    }
   ],
   "metadata":{
    "datalore":{
     "node_id":"JdWX3ehcBPDL513dQ8pSWV",
     "type":"CODE",
     "hide_input_from_viewers":false,
     "hide_output_from_viewers":false
    }
   }
  },
  {
   "cell_type":"code",
   "source":[
    "# !pip install scipy = 1.4.1"
   ],
   "execution_count":3,
   "outputs":[
    
   ],
   "metadata":{
    "datalore":{
     "node_id":"SGnbTIx8BBxU5sqVkCvBk5",
     "type":"CODE",
     "hide_input_from_viewers":false,
     "hide_output_from_viewers":false
    }
   }
  },
  {
   "cell_type":"code",
   "source":[
    "from scipy.misc import derivative"
   ],
   "execution_count":4,
   "outputs":[
    
   ],
   "metadata":{
    "datalore":{
     "node_id":"lSzQX0NZNMPSAOOndPWJk1",
     "type":"CODE",
     "hide_input_from_viewers":false,
     "hide_output_from_viewers":false
    }
   }
  },
  {
   "cell_type":"code",
   "source":[
    "def my_function(x):\n",
    "    return x**2 + x + 1\n",
    "\n",
    "derivative(my_function, x0=2)"
   ],
   "execution_count":5,
   "outputs":[
    {
     "data":{
      "text\/plain":[
       "5.0"
      ]
     },
     "metadata":{
      
     },
     "output_type":"display_data"
    }
   ],
   "metadata":{
    "datalore":{
     "node_id":"PVjoBy4Enz57SJAervLwCE",
     "type":"CODE",
     "hide_input_from_viewers":false,
     "hide_output_from_viewers":false
    }
   }
  },
  {
   "cell_type":"code",
   "source":[
    "# comb - combination, perm - permutation"
   ],
   "execution_count":6,
   "outputs":[
    
   ],
   "metadata":{
    "datalore":{
     "node_id":"shpmcmQwfNs9ULjVNlAvC6",
     "type":"CODE",
     "hide_input_from_viewers":false,
     "hide_output_from_viewers":false
    }
   }
  },
  {
   "cell_type":"code",
   "source":[
    "from scipy import linalg"
   ],
   "execution_count":7,
   "outputs":[
    
   ],
   "metadata":{
    "datalore":{
     "node_id":"1pmW4D7KPEWWDDN1poplyn",
     "type":"CODE",
     "hide_input_from_viewers":false,
     "hide_output_from_viewers":false
    }
   }
  },
  {
   "cell_type":"code",
   "source":[
    "import numpy as np"
   ],
   "execution_count":9,
   "outputs":[
    
   ],
   "metadata":{
    "datalore":{
     "node_id":"lqiD420CJJPPNajkzcakqF",
     "type":"CODE",
     "hide_input_from_viewers":false,
     "hide_output_from_viewers":false
    }
   }
  },
  {
   "cell_type":"code",
   "source":[
    "np.arange(2,19,2)"
   ],
   "execution_count":10,
   "outputs":[
    {
     "data":{
      "text\/plain":[
       "array([ 2,  4,  6,  8, 10, 12, 14, 16, 18])"
      ]
     },
     "metadata":{
      
     },
     "output_type":"display_data"
    }
   ],
   "metadata":{
    "datalore":{
     "node_id":"nWh6gQd4l5hL4kcKicPH1r",
     "type":"CODE",
     "hide_input_from_viewers":false,
     "hide_output_from_viewers":false
    }
   }
  },
  {
   "cell_type":"code",
   "source":[
    "mat = np.random.randint(2, 19, (4,4))"
   ],
   "execution_count":16,
   "outputs":[
    
   ],
   "metadata":{
    "datalore":{
     "node_id":"CCENJebrN65Fnl9DjVRXbW",
     "type":"CODE",
     "hide_input_from_viewers":false,
     "hide_output_from_viewers":false
    }
   }
  },
  {
   "cell_type":"code",
   "source":[
    "# determinant of the matrix\n",
    "\n",
    "linalg.det(mat)"
   ],
   "execution_count":17,
   "outputs":[
    {
     "data":{
      "text\/plain":[
       "3087.9999999999986"
      ]
     },
     "metadata":{
      
     },
     "output_type":"display_data"
    }
   ],
   "metadata":{
    "datalore":{
     "node_id":"YJP2vPhfwca3IASkp3GjiY",
     "type":"CODE",
     "hide_input_from_viewers":false,
     "hide_output_from_viewers":false
    }
   }
  },
  {
   "cell_type":"code",
   "source":[
    "linalg.inv(mat)"
   ],
   "execution_count":18,
   "outputs":[
    {
     "data":{
      "text\/plain":[
       "array([[-0.01262953, -0.2244171 ,  0.38115285, -0.13180052],\n",
       "       [ 0.13795337,  0.06670984, -0.24028497,  0.05505181],\n",
       "       [-0.02072539,  0.09326425, -0.01554404, -0.0880829 ],\n",
       "       [-0.00680052,  0.18685233, -0.33322539,  0.2367228 ]])"
      ]
     },
     "metadata":{
      
     },
     "output_type":"display_data"
    }
   ],
   "metadata":{
    "datalore":{
     "node_id":"QGT7UCI4oNK45mn7r8cWlg",
     "type":"CODE",
     "hide_input_from_viewers":false,
     "hide_output_from_viewers":false
    }
   }
  },
  {
   "cell_type":"markdown",
   "source":[
    "### OS"
   ],
   "attachments":{
    
   },
   "metadata":{
    "datalore":{
     "node_id":"JyIAwD2LJHjslh2cUsnLkK",
     "type":"MD",
     "hide_input_from_viewers":false,
     "hide_output_from_viewers":false
    }
   }
  },
  {
   "cell_type":"code",
   "source":[
    "import os"
   ],
   "execution_count":19,
   "outputs":[
    
   ],
   "metadata":{
    "datalore":{
     "node_id":"d0AmUlDIztYNUfoIetqj37",
     "type":"CODE",
     "hide_input_from_viewers":false,
     "hide_output_from_viewers":false
    }
   }
  },
  {
   "cell_type":"code",
   "source":[
    "new_txt_file = open('new_txt_file.txt', 'w+')"
   ],
   "execution_count":21,
   "outputs":[
    
   ],
   "metadata":{
    "datalore":{
     "node_id":"CsEEpOvFXSrIYFv0JQt9E1",
     "type":"CODE",
     "hide_input_from_viewers":false,
     "hide_output_from_viewers":false
    }
   }
  },
  {
   "cell_type":"code",
   "source":[
    "l1 = 'Noor is the prettiest thing in the world!'\n",
    "l2 = 'God bless Everyone'\n",
    "l3 = 'Waherguru'\n",
    "\n",
    "\n",
    "new_txt_file.writelines([l1, l2, l3])"
   ],
   "execution_count":23,
   "outputs":[
    
   ],
   "metadata":{
    "datalore":{
     "node_id":"LlQEcZto83uNGwvgXBImjJ",
     "type":"CODE",
     "hide_input_from_viewers":false,
     "hide_output_from_viewers":false
    }
   }
  },
  {
   "cell_type":"code",
   "source":[
    "new_txt_file.seek(0)\n",
    "print(new_txt_file.read())"
   ],
   "execution_count":24,
   "outputs":[
    {
     "name":"stdout",
     "text":[
      "Noor is the prettiest thing in the world!God bless EveryoneWaherguru\n"
     ],
     "output_type":"stream"
    }
   ],
   "metadata":{
    "datalore":{
     "node_id":"8VgUzdUgaW2N5IoIWxv2uW",
     "type":"CODE",
     "hide_input_from_viewers":false,
     "hide_output_from_viewers":false
    }
   }
  },
  {
   "cell_type":"code",
   "source":[
    "new_txt_file.close()"
   ],
   "execution_count":25,
   "outputs":[
    
   ],
   "metadata":{
    "datalore":{
     "node_id":"cVCHEgQ2346Q4ILCEB9U0l",
     "type":"CODE",
     "hide_input_from_viewers":false,
     "hide_output_from_viewers":false
    }
   }
  },
  {
   "cell_type":"code",
   "source":[
    "with open('new_txt_file.txt', 'r') as f:\n",
    "    print(f.read())"
   ],
   "execution_count":34,
   "outputs":[
    {
     "name":"stdout",
     "text":[
      "Noor is the prettiest thing in the world!God bless EveryoneWaherguru\n"
     ],
     "output_type":"stream"
    }
   ],
   "metadata":{
    "datalore":{
     "node_id":"PgfMPgb9EWiHydwBLYIF6S",
     "type":"CODE",
     "hide_input_from_viewers":false,
     "hide_output_from_viewers":false
    }
   }
  },
  {
   "cell_type":"code",
   "source":[
    "from scipy.misc import derivative"
   ],
   "execution_count":35,
   "outputs":[
    
   ],
   "metadata":{
    "datalore":{
     "node_id":"GMqZaDvI5b2vYdw4D6GaYm",
     "type":"CODE",
     "hide_input_from_viewers":false,
     "hide_output_from_viewers":false
    }
   }
  },
  {
   "cell_type":"code",
   "source":[
    "def my_func(x):\n",
    "    return x**2 + 5\n",
    "\n",
    "derivative(my_func, x0=2)"
   ],
   "execution_count":36,
   "outputs":[
    {
     "data":{
      "text\/plain":[
       "4.0"
      ]
     },
     "metadata":{
      
     },
     "output_type":"display_data"
    }
   ],
   "metadata":{
    "datalore":{
     "node_id":"O0U1kb1PdpCyCh7c8qvd0x",
     "type":"CODE",
     "hide_input_from_viewers":false,
     "hide_output_from_viewers":false
    }
   }
  },
  {
   "cell_type":"markdown",
   "source":[
    "### PANDAS"
   ],
   "attachments":{
    
   },
   "metadata":{
    "datalore":{
     "node_id":"C1PmgNQD0pz93LUIQGFTxe",
     "type":"MD",
     "hide_input_from_viewers":false,
     "hide_output_from_viewers":false
    }
   }
  },
  {
   "cell_type":"code",
   "source":[
    "import pandas as pd\n",
    "pd.options.display.max_columns = 100\n",
    "pd.options.display.float_format = '{:,.2f}'.format"
   ],
   "execution_count":14,
   "outputs":[
    
   ],
   "metadata":{
    "datalore":{
     "node_id":"Xh6nHPplzSdZdXEcjTuAyH",
     "type":"CODE",
     "hide_input_from_viewers":false,
     "hide_output_from_viewers":false
    }
   }
  },
  {
   "cell_type":"code",
   "source":[
    "pd.__version__"
   ],
   "execution_count":15,
   "outputs":[
    {
     "data":{
      "text\/plain":[
       "'1.2.3'"
      ]
     },
     "metadata":{
      
     },
     "output_type":"display_data"
    }
   ],
   "metadata":{
    "datalore":{
     "node_id":"sio2XdNxqjJIhxyGd4Zm6v",
     "type":"CODE",
     "hide_input_from_viewers":false,
     "hide_output_from_viewers":false
    }
   }
  },
  {
   "cell_type":"code",
   "source":[
    "df = pd.read_csv('big_mart_sales.csv')"
   ],
   "execution_count":16,
   "outputs":[
    
   ],
   "metadata":{
    "datalore":{
     "node_id":"ysUOWBhh63osZtREt0L5nD",
     "type":"CODE",
     "hide_input_from_viewers":false,
     "hide_output_from_viewers":false
    }
   }
  },
  {
   "cell_type":"code",
   "source":[
    "df.head(20)"
   ],
   "execution_count":17,
   "outputs":[
    {
     "data":{
      "text\/html":[
       "<div>\n",
       "<style scoped>\n",
       "    .dataframe tbody tr th:only-of-type {\n",
       "        vertical-align: middle;\n",
       "    }\n",
       "\n",
       "    .dataframe tbody tr th {\n",
       "        vertical-align: top;\n",
       "    }\n",
       "\n",
       "    .dataframe thead th {\n",
       "        text-align: right;\n",
       "    }\n",
       "<\/style>\n",
       "<table border=\"1\" class=\"dataframe\">\n",
       "  <thead>\n",
       "    <tr style=\"text-align: right;\">\n",
       "      <th><\/th>\n",
       "      <th>Item_Identifier<\/th>\n",
       "      <th>Item_Weight<\/th>\n",
       "      <th>Item_Fat_Content<\/th>\n",
       "      <th>Item_Visibility<\/th>\n",
       "      <th>Item_Type<\/th>\n",
       "      <th>Item_MRP<\/th>\n",
       "      <th>Outlet_Identifier<\/th>\n",
       "      <th>Outlet_Establishment_Year<\/th>\n",
       "      <th>Outlet_Size<\/th>\n",
       "      <th>Outlet_Location_Type<\/th>\n",
       "      <th>Outlet_Type<\/th>\n",
       "      <th>Item_Outlet_Sales<\/th>\n",
       "    <\/tr>\n",
       "  <\/thead>\n",
       "  <tbody>\n",
       "    <tr>\n",
       "      <th>0<\/th>\n",
       "      <td>FDA15<\/td>\n",
       "      <td>9.30<\/td>\n",
       "      <td>Low Fat<\/td>\n",
       "      <td>0.02<\/td>\n",
       "      <td>Dairy<\/td>\n",
       "      <td>249.81<\/td>\n",
       "      <td>OUT049<\/td>\n",
       "      <td>1999<\/td>\n",
       "      <td>Medium<\/td>\n",
       "      <td>Tier 1<\/td>\n",
       "      <td>Supermarket Type1<\/td>\n",
       "      <td>3,735.14<\/td>\n",
       "    <\/tr>\n",
       "    <tr>\n",
       "      <th>1<\/th>\n",
       "      <td>DRC01<\/td>\n",
       "      <td>5.92<\/td>\n",
       "      <td>Regular<\/td>\n",
       "      <td>0.02<\/td>\n",
       "      <td>Soft Drinks<\/td>\n",
       "      <td>48.27<\/td>\n",
       "      <td>OUT018<\/td>\n",
       "      <td>2009<\/td>\n",
       "      <td>Medium<\/td>\n",
       "      <td>Tier 3<\/td>\n",
       "      <td>Supermarket Type2<\/td>\n",
       "      <td>443.42<\/td>\n",
       "    <\/tr>\n",
       "    <tr>\n",
       "      <th>2<\/th>\n",
       "      <td>FDN15<\/td>\n",
       "      <td>17.50<\/td>\n",
       "      <td>Low Fat<\/td>\n",
       "      <td>0.02<\/td>\n",
       "      <td>Meat<\/td>\n",
       "      <td>141.62<\/td>\n",
       "      <td>OUT049<\/td>\n",
       "      <td>1999<\/td>\n",
       "      <td>Medium<\/td>\n",
       "      <td>Tier 1<\/td>\n",
       "      <td>Supermarket Type1<\/td>\n",
       "      <td>2,097.27<\/td>\n",
       "    <\/tr>\n",
       "    <tr>\n",
       "      <th>3<\/th>\n",
       "      <td>FDX07<\/td>\n",
       "      <td>19.20<\/td>\n",
       "      <td>Regular<\/td>\n",
       "      <td>0.00<\/td>\n",
       "      <td>Fruits and Vegetables<\/td>\n",
       "      <td>182.09<\/td>\n",
       "      <td>OUT010<\/td>\n",
       "      <td>1998<\/td>\n",
       "      <td>NaN<\/td>\n",
       "      <td>Tier 3<\/td>\n",
       "      <td>Grocery Store<\/td>\n",
       "      <td>732.38<\/td>\n",
       "    <\/tr>\n",
       "    <tr>\n",
       "      <th>4<\/th>\n",
       "      <td>NCD19<\/td>\n",
       "      <td>8.93<\/td>\n",
       "      <td>Low Fat<\/td>\n",
       "      <td>0.00<\/td>\n",
       "      <td>Household<\/td>\n",
       "      <td>53.86<\/td>\n",
       "      <td>OUT013<\/td>\n",
       "      <td>1987<\/td>\n",
       "      <td>High<\/td>\n",
       "      <td>Tier 3<\/td>\n",
       "      <td>Supermarket Type1<\/td>\n",
       "      <td>994.71<\/td>\n",
       "    <\/tr>\n",
       "    <tr>\n",
       "      <th>5<\/th>\n",
       "      <td>FDP36<\/td>\n",
       "      <td>10.39<\/td>\n",
       "      <td>Regular<\/td>\n",
       "      <td>0.00<\/td>\n",
       "      <td>Baking Goods<\/td>\n",
       "      <td>51.40<\/td>\n",
       "      <td>OUT018<\/td>\n",
       "      <td>2009<\/td>\n",
       "      <td>Medium<\/td>\n",
       "      <td>Tier 3<\/td>\n",
       "      <td>Supermarket Type2<\/td>\n",
       "      <td>556.61<\/td>\n",
       "    <\/tr>\n",
       "    <tr>\n",
       "      <th>6<\/th>\n",
       "      <td>FDO10<\/td>\n",
       "      <td>13.65<\/td>\n",
       "      <td>Regular<\/td>\n",
       "      <td>0.01<\/td>\n",
       "      <td>Snack Foods<\/td>\n",
       "      <td>57.66<\/td>\n",
       "      <td>OUT013<\/td>\n",
       "      <td>1987<\/td>\n",
       "      <td>High<\/td>\n",
       "      <td>Tier 3<\/td>\n",
       "      <td>Supermarket Type1<\/td>\n",
       "      <td>343.55<\/td>\n",
       "    <\/tr>\n",
       "    <tr>\n",
       "      <th>7<\/th>\n",
       "      <td>FDP10<\/td>\n",
       "      <td>NaN<\/td>\n",
       "      <td>Low Fat<\/td>\n",
       "      <td>0.13<\/td>\n",
       "      <td>Snack Foods<\/td>\n",
       "      <td>107.76<\/td>\n",
       "      <td>OUT027<\/td>\n",
       "      <td>1985<\/td>\n",
       "      <td>Medium<\/td>\n",
       "      <td>Tier 3<\/td>\n",
       "      <td>Supermarket Type3<\/td>\n",
       "      <td>4,022.76<\/td>\n",
       "    <\/tr>\n",
       "    <tr>\n",
       "      <th>8<\/th>\n",
       "      <td>FDH17<\/td>\n",
       "      <td>16.20<\/td>\n",
       "      <td>Regular<\/td>\n",
       "      <td>0.02<\/td>\n",
       "      <td>Frozen Foods<\/td>\n",
       "      <td>96.97<\/td>\n",
       "      <td>OUT045<\/td>\n",
       "      <td>2002<\/td>\n",
       "      <td>NaN<\/td>\n",
       "      <td>Tier 2<\/td>\n",
       "      <td>Supermarket Type1<\/td>\n",
       "      <td>1,076.60<\/td>\n",
       "    <\/tr>\n",
       "    <tr>\n",
       "      <th>9<\/th>\n",
       "      <td>FDU28<\/td>\n",
       "      <td>19.20<\/td>\n",
       "      <td>Regular<\/td>\n",
       "      <td>0.09<\/td>\n",
       "      <td>Frozen Foods<\/td>\n",
       "      <td>187.82<\/td>\n",
       "      <td>OUT017<\/td>\n",
       "      <td>2007<\/td>\n",
       "      <td>NaN<\/td>\n",
       "      <td>Tier 2<\/td>\n",
       "      <td>Supermarket Type1<\/td>\n",
       "      <td>4,710.53<\/td>\n",
       "    <\/tr>\n",
       "    <tr>\n",
       "      <th>10<\/th>\n",
       "      <td>FDY07<\/td>\n",
       "      <td>11.80<\/td>\n",
       "      <td>Low Fat<\/td>\n",
       "      <td>0.00<\/td>\n",
       "      <td>Fruits and Vegetables<\/td>\n",
       "      <td>45.54<\/td>\n",
       "      <td>OUT049<\/td>\n",
       "      <td>1999<\/td>\n",
       "      <td>Medium<\/td>\n",
       "      <td>Tier 1<\/td>\n",
       "      <td>Supermarket Type1<\/td>\n",
       "      <td>1,516.03<\/td>\n",
       "    <\/tr>\n",
       "    <tr>\n",
       "      <th>11<\/th>\n",
       "      <td>FDA03<\/td>\n",
       "      <td>18.50<\/td>\n",
       "      <td>Regular<\/td>\n",
       "      <td>0.05<\/td>\n",
       "      <td>Dairy<\/td>\n",
       "      <td>144.11<\/td>\n",
       "      <td>OUT046<\/td>\n",
       "      <td>1997<\/td>\n",
       "      <td>Small<\/td>\n",
       "      <td>Tier 1<\/td>\n",
       "      <td>Supermarket Type1<\/td>\n",
       "      <td>2,187.15<\/td>\n",
       "    <\/tr>\n",
       "    <tr>\n",
       "      <th>12<\/th>\n",
       "      <td>FDX32<\/td>\n",
       "      <td>15.10<\/td>\n",
       "      <td>Regular<\/td>\n",
       "      <td>0.10<\/td>\n",
       "      <td>Fruits and Vegetables<\/td>\n",
       "      <td>145.48<\/td>\n",
       "      <td>OUT049<\/td>\n",
       "      <td>1999<\/td>\n",
       "      <td>Medium<\/td>\n",
       "      <td>Tier 1<\/td>\n",
       "      <td>Supermarket Type1<\/td>\n",
       "      <td>1,589.26<\/td>\n",
       "    <\/tr>\n",
       "    <tr>\n",
       "      <th>13<\/th>\n",
       "      <td>FDS46<\/td>\n",
       "      <td>17.60<\/td>\n",
       "      <td>Regular<\/td>\n",
       "      <td>0.05<\/td>\n",
       "      <td>Snack Foods<\/td>\n",
       "      <td>119.68<\/td>\n",
       "      <td>OUT046<\/td>\n",
       "      <td>1997<\/td>\n",
       "      <td>Small<\/td>\n",
       "      <td>Tier 1<\/td>\n",
       "      <td>Supermarket Type1<\/td>\n",
       "      <td>2,145.21<\/td>\n",
       "    <\/tr>\n",
       "    <tr>\n",
       "      <th>14<\/th>\n",
       "      <td>FDF32<\/td>\n",
       "      <td>16.35<\/td>\n",
       "      <td>Low Fat<\/td>\n",
       "      <td>0.07<\/td>\n",
       "      <td>Fruits and Vegetables<\/td>\n",
       "      <td>196.44<\/td>\n",
       "      <td>OUT013<\/td>\n",
       "      <td>1987<\/td>\n",
       "      <td>High<\/td>\n",
       "      <td>Tier 3<\/td>\n",
       "      <td>Supermarket Type1<\/td>\n",
       "      <td>1,977.43<\/td>\n",
       "    <\/tr>\n",
       "    <tr>\n",
       "      <th>15<\/th>\n",
       "      <td>FDP49<\/td>\n",
       "      <td>9.00<\/td>\n",
       "      <td>Regular<\/td>\n",
       "      <td>0.07<\/td>\n",
       "      <td>Breakfast<\/td>\n",
       "      <td>56.36<\/td>\n",
       "      <td>OUT046<\/td>\n",
       "      <td>1997<\/td>\n",
       "      <td>Small<\/td>\n",
       "      <td>Tier 1<\/td>\n",
       "      <td>Supermarket Type1<\/td>\n",
       "      <td>1,547.32<\/td>\n",
       "    <\/tr>\n",
       "    <tr>\n",
       "      <th>16<\/th>\n",
       "      <td>NCB42<\/td>\n",
       "      <td>11.80<\/td>\n",
       "      <td>Low Fat<\/td>\n",
       "      <td>0.01<\/td>\n",
       "      <td>Health and Hygiene<\/td>\n",
       "      <td>115.35<\/td>\n",
       "      <td>OUT018<\/td>\n",
       "      <td>2009<\/td>\n",
       "      <td>Medium<\/td>\n",
       "      <td>Tier 3<\/td>\n",
       "      <td>Supermarket Type2<\/td>\n",
       "      <td>1,621.89<\/td>\n",
       "    <\/tr>\n",
       "    <tr>\n",
       "      <th>17<\/th>\n",
       "      <td>FDP49<\/td>\n",
       "      <td>9.00<\/td>\n",
       "      <td>Regular<\/td>\n",
       "      <td>0.07<\/td>\n",
       "      <td>Breakfast<\/td>\n",
       "      <td>54.36<\/td>\n",
       "      <td>OUT049<\/td>\n",
       "      <td>1999<\/td>\n",
       "      <td>Medium<\/td>\n",
       "      <td>Tier 1<\/td>\n",
       "      <td>Supermarket Type1<\/td>\n",
       "      <td>718.40<\/td>\n",
       "    <\/tr>\n",
       "    <tr>\n",
       "      <th>18<\/th>\n",
       "      <td>DRI11<\/td>\n",
       "      <td>NaN<\/td>\n",
       "      <td>Low Fat<\/td>\n",
       "      <td>0.03<\/td>\n",
       "      <td>Hard Drinks<\/td>\n",
       "      <td>113.28<\/td>\n",
       "      <td>OUT027<\/td>\n",
       "      <td>1985<\/td>\n",
       "      <td>Medium<\/td>\n",
       "      <td>Tier 3<\/td>\n",
       "      <td>Supermarket Type3<\/td>\n",
       "      <td>2,303.67<\/td>\n",
       "    <\/tr>\n",
       "    <tr>\n",
       "      <th>19<\/th>\n",
       "      <td>FDU02<\/td>\n",
       "      <td>13.35<\/td>\n",
       "      <td>Low Fat<\/td>\n",
       "      <td>0.10<\/td>\n",
       "      <td>Dairy<\/td>\n",
       "      <td>230.54<\/td>\n",
       "      <td>OUT035<\/td>\n",
       "      <td>2004<\/td>\n",
       "      <td>Small<\/td>\n",
       "      <td>Tier 2<\/td>\n",
       "      <td>Supermarket Type1<\/td>\n",
       "      <td>2,748.42<\/td>\n",
       "    <\/tr>\n",
       "  <\/tbody>\n",
       "<\/table>\n",
       "<\/div>"
      ]
     },
     "metadata":{
      
     },
     "output_type":"display_data"
    }
   ],
   "metadata":{
    "datalore":{
     "node_id":"aZ8V7UTxqS6tCzewXbqhGB",
     "type":"CODE",
     "hide_input_from_viewers":false,
     "hide_output_from_viewers":false
    }
   }
  },
  {
   "cell_type":"code",
   "source":[
    "df.shape"
   ],
   "execution_count":18,
   "outputs":[
    {
     "data":{
      "text\/plain":[
       "(8523, 12)"
      ]
     },
     "metadata":{
      
     },
     "output_type":"display_data"
    }
   ],
   "metadata":{
    "datalore":{
     "node_id":"QeyikiRA4EnQrzSPsssen3",
     "type":"CODE",
     "hide_input_from_viewers":false,
     "hide_output_from_viewers":false
    }
   }
  },
  {
   "cell_type":"code",
   "source":[
    "df.columns"
   ],
   "execution_count":19,
   "outputs":[
    {
     "data":{
      "text\/plain":[
       "Index(['Item_Identifier', 'Item_Weight', 'Item_Fat_Content', 'Item_Visibility',\n",
       "       'Item_Type', 'Item_MRP', 'Outlet_Identifier',\n",
       "       'Outlet_Establishment_Year', 'Outlet_Size', 'Outlet_Location_Type',\n",
       "       'Outlet_Type', 'Item_Outlet_Sales'],\n",
       "      dtype='object')"
      ]
     },
     "metadata":{
      
     },
     "output_type":"display_data"
    }
   ],
   "metadata":{
    "datalore":{
     "node_id":"M4zabfeiJlUdUIDVWVOK45",
     "type":"CODE",
     "hide_input_from_viewers":false,
     "hide_output_from_viewers":false
    }
   }
  },
  {
   "cell_type":"code",
   "source":[
    "df.dtypes"
   ],
   "execution_count":20,
   "outputs":[
    {
     "data":{
      "text\/plain":[
       "Item_Identifier               object\n",
       "Item_Weight                  float64\n",
       "Item_Fat_Content              object\n",
       "Item_Visibility              float64\n",
       "Item_Type                     object\n",
       "Item_MRP                     float64\n",
       "Outlet_Identifier             object\n",
       "Outlet_Establishment_Year      int64\n",
       "Outlet_Size                   object\n",
       "Outlet_Location_Type          object\n",
       "Outlet_Type                   object\n",
       "Item_Outlet_Sales            float64\n",
       "dtype: object"
      ]
     },
     "metadata":{
      
     },
     "output_type":"display_data"
    }
   ],
   "metadata":{
    "datalore":{
     "node_id":"OhZ3FJ17twhi0yzEaILgVv",
     "type":"CODE",
     "hide_input_from_viewers":false,
     "hide_output_from_viewers":false
    }
   }
  },
  {
   "cell_type":"code",
   "source":[
    "df.isnull().sum()"
   ],
   "execution_count":21,
   "outputs":[
    {
     "data":{
      "text\/plain":[
       "Item_Identifier                 0\n",
       "Item_Weight                  1463\n",
       "Item_Fat_Content                0\n",
       "Item_Visibility                 0\n",
       "Item_Type                       0\n",
       "Item_MRP                        0\n",
       "Outlet_Identifier               0\n",
       "Outlet_Establishment_Year       0\n",
       "Outlet_Size                  2410\n",
       "Outlet_Location_Type            0\n",
       "Outlet_Type                     0\n",
       "Item_Outlet_Sales               0\n",
       "dtype: int64"
      ]
     },
     "metadata":{
      
     },
     "output_type":"display_data"
    }
   ],
   "metadata":{
    "datalore":{
     "node_id":"r4rD3QR7Bn5GwlmdO3g7JG",
     "type":"CODE",
     "hide_input_from_viewers":false,
     "hide_output_from_viewers":false
    }
   }
  },
  {
   "cell_type":"code",
   "source":[
    "df.describe()"
   ],
   "execution_count":22,
   "outputs":[
    {
     "data":{
      "text\/html":[
       "<div>\n",
       "<style scoped>\n",
       "    .dataframe tbody tr th:only-of-type {\n",
       "        vertical-align: middle;\n",
       "    }\n",
       "\n",
       "    .dataframe tbody tr th {\n",
       "        vertical-align: top;\n",
       "    }\n",
       "\n",
       "    .dataframe thead th {\n",
       "        text-align: right;\n",
       "    }\n",
       "<\/style>\n",
       "<table border=\"1\" class=\"dataframe\">\n",
       "  <thead>\n",
       "    <tr style=\"text-align: right;\">\n",
       "      <th><\/th>\n",
       "      <th>Item_Weight<\/th>\n",
       "      <th>Item_Visibility<\/th>\n",
       "      <th>Item_MRP<\/th>\n",
       "      <th>Outlet_Establishment_Year<\/th>\n",
       "      <th>Item_Outlet_Sales<\/th>\n",
       "    <\/tr>\n",
       "  <\/thead>\n",
       "  <tbody>\n",
       "    <tr>\n",
       "      <th>count<\/th>\n",
       "      <td>7,060.00<\/td>\n",
       "      <td>8,523.00<\/td>\n",
       "      <td>8,523.00<\/td>\n",
       "      <td>8,523.00<\/td>\n",
       "      <td>8,523.00<\/td>\n",
       "    <\/tr>\n",
       "    <tr>\n",
       "      <th>mean<\/th>\n",
       "      <td>12.86<\/td>\n",
       "      <td>0.07<\/td>\n",
       "      <td>140.99<\/td>\n",
       "      <td>1,997.83<\/td>\n",
       "      <td>2,181.29<\/td>\n",
       "    <\/tr>\n",
       "    <tr>\n",
       "      <th>std<\/th>\n",
       "      <td>4.64<\/td>\n",
       "      <td>0.05<\/td>\n",
       "      <td>62.28<\/td>\n",
       "      <td>8.37<\/td>\n",
       "      <td>1,706.50<\/td>\n",
       "    <\/tr>\n",
       "    <tr>\n",
       "      <th>min<\/th>\n",
       "      <td>4.55<\/td>\n",
       "      <td>0.00<\/td>\n",
       "      <td>31.29<\/td>\n",
       "      <td>1,985.00<\/td>\n",
       "      <td>33.29<\/td>\n",
       "    <\/tr>\n",
       "    <tr>\n",
       "      <th>25%<\/th>\n",
       "      <td>8.77<\/td>\n",
       "      <td>0.03<\/td>\n",
       "      <td>93.83<\/td>\n",
       "      <td>1,987.00<\/td>\n",
       "      <td>834.25<\/td>\n",
       "    <\/tr>\n",
       "    <tr>\n",
       "      <th>50%<\/th>\n",
       "      <td>12.60<\/td>\n",
       "      <td>0.05<\/td>\n",
       "      <td>143.01<\/td>\n",
       "      <td>1,999.00<\/td>\n",
       "      <td>1,794.33<\/td>\n",
       "    <\/tr>\n",
       "    <tr>\n",
       "      <th>75%<\/th>\n",
       "      <td>16.85<\/td>\n",
       "      <td>0.09<\/td>\n",
       "      <td>185.64<\/td>\n",
       "      <td>2,004.00<\/td>\n",
       "      <td>3,101.30<\/td>\n",
       "    <\/tr>\n",
       "    <tr>\n",
       "      <th>max<\/th>\n",
       "      <td>21.35<\/td>\n",
       "      <td>0.33<\/td>\n",
       "      <td>266.89<\/td>\n",
       "      <td>2,009.00<\/td>\n",
       "      <td>13,086.96<\/td>\n",
       "    <\/tr>\n",
       "  <\/tbody>\n",
       "<\/table>\n",
       "<\/div>"
      ]
     },
     "metadata":{
      
     },
     "output_type":"display_data"
    }
   ],
   "metadata":{
    "datalore":{
     "node_id":"kBSi3Mzaddq9UVzeSZGFsu",
     "type":"CODE",
     "hide_input_from_viewers":false,
     "hide_output_from_viewers":false
    }
   }
  },
  {
   "cell_type":"code",
   "source":[
    "df.describe(include = 'all')"
   ],
   "execution_count":23,
   "outputs":[
    {
     "data":{
      "text\/html":[
       "<div>\n",
       "<style scoped>\n",
       "    .dataframe tbody tr th:only-of-type {\n",
       "        vertical-align: middle;\n",
       "    }\n",
       "\n",
       "    .dataframe tbody tr th {\n",
       "        vertical-align: top;\n",
       "    }\n",
       "\n",
       "    .dataframe thead th {\n",
       "        text-align: right;\n",
       "    }\n",
       "<\/style>\n",
       "<table border=\"1\" class=\"dataframe\">\n",
       "  <thead>\n",
       "    <tr style=\"text-align: right;\">\n",
       "      <th><\/th>\n",
       "      <th>Item_Identifier<\/th>\n",
       "      <th>Item_Weight<\/th>\n",
       "      <th>Item_Fat_Content<\/th>\n",
       "      <th>Item_Visibility<\/th>\n",
       "      <th>Item_Type<\/th>\n",
       "      <th>Item_MRP<\/th>\n",
       "      <th>Outlet_Identifier<\/th>\n",
       "      <th>Outlet_Establishment_Year<\/th>\n",
       "      <th>Outlet_Size<\/th>\n",
       "      <th>Outlet_Location_Type<\/th>\n",
       "      <th>Outlet_Type<\/th>\n",
       "      <th>Item_Outlet_Sales<\/th>\n",
       "    <\/tr>\n",
       "  <\/thead>\n",
       "  <tbody>\n",
       "    <tr>\n",
       "      <th>count<\/th>\n",
       "      <td>8523<\/td>\n",
       "      <td>7,060.00<\/td>\n",
       "      <td>8523<\/td>\n",
       "      <td>8,523.00<\/td>\n",
       "      <td>8523<\/td>\n",
       "      <td>8,523.00<\/td>\n",
       "      <td>8523<\/td>\n",
       "      <td>8,523.00<\/td>\n",
       "      <td>6113<\/td>\n",
       "      <td>8523<\/td>\n",
       "      <td>8523<\/td>\n",
       "      <td>8,523.00<\/td>\n",
       "    <\/tr>\n",
       "    <tr>\n",
       "      <th>unique<\/th>\n",
       "      <td>1559<\/td>\n",
       "      <td>NaN<\/td>\n",
       "      <td>5<\/td>\n",
       "      <td>NaN<\/td>\n",
       "      <td>16<\/td>\n",
       "      <td>NaN<\/td>\n",
       "      <td>10<\/td>\n",
       "      <td>NaN<\/td>\n",
       "      <td>3<\/td>\n",
       "      <td>3<\/td>\n",
       "      <td>4<\/td>\n",
       "      <td>NaN<\/td>\n",
       "    <\/tr>\n",
       "    <tr>\n",
       "      <th>top<\/th>\n",
       "      <td>FDW13<\/td>\n",
       "      <td>NaN<\/td>\n",
       "      <td>Low Fat<\/td>\n",
       "      <td>NaN<\/td>\n",
       "      <td>Fruits and Vegetables<\/td>\n",
       "      <td>NaN<\/td>\n",
       "      <td>OUT027<\/td>\n",
       "      <td>NaN<\/td>\n",
       "      <td>Medium<\/td>\n",
       "      <td>Tier 3<\/td>\n",
       "      <td>Supermarket Type1<\/td>\n",
       "      <td>NaN<\/td>\n",
       "    <\/tr>\n",
       "    <tr>\n",
       "      <th>freq<\/th>\n",
       "      <td>10<\/td>\n",
       "      <td>NaN<\/td>\n",
       "      <td>5089<\/td>\n",
       "      <td>NaN<\/td>\n",
       "      <td>1232<\/td>\n",
       "      <td>NaN<\/td>\n",
       "      <td>935<\/td>\n",
       "      <td>NaN<\/td>\n",
       "      <td>2793<\/td>\n",
       "      <td>3350<\/td>\n",
       "      <td>5577<\/td>\n",
       "      <td>NaN<\/td>\n",
       "    <\/tr>\n",
       "    <tr>\n",
       "      <th>mean<\/th>\n",
       "      <td>NaN<\/td>\n",
       "      <td>12.86<\/td>\n",
       "      <td>NaN<\/td>\n",
       "      <td>0.07<\/td>\n",
       "      <td>NaN<\/td>\n",
       "      <td>140.99<\/td>\n",
       "      <td>NaN<\/td>\n",
       "      <td>1,997.83<\/td>\n",
       "      <td>NaN<\/td>\n",
       "      <td>NaN<\/td>\n",
       "      <td>NaN<\/td>\n",
       "      <td>2,181.29<\/td>\n",
       "    <\/tr>\n",
       "    <tr>\n",
       "      <th>std<\/th>\n",
       "      <td>NaN<\/td>\n",
       "      <td>4.64<\/td>\n",
       "      <td>NaN<\/td>\n",
       "      <td>0.05<\/td>\n",
       "      <td>NaN<\/td>\n",
       "      <td>62.28<\/td>\n",
       "      <td>NaN<\/td>\n",
       "      <td>8.37<\/td>\n",
       "      <td>NaN<\/td>\n",
       "      <td>NaN<\/td>\n",
       "      <td>NaN<\/td>\n",
       "      <td>1,706.50<\/td>\n",
       "    <\/tr>\n",
       "    <tr>\n",
       "      <th>min<\/th>\n",
       "      <td>NaN<\/td>\n",
       "      <td>4.55<\/td>\n",
       "      <td>NaN<\/td>\n",
       "      <td>0.00<\/td>\n",
       "      <td>NaN<\/td>\n",
       "      <td>31.29<\/td>\n",
       "      <td>NaN<\/td>\n",
       "      <td>1,985.00<\/td>\n",
       "      <td>NaN<\/td>\n",
       "      <td>NaN<\/td>\n",
       "      <td>NaN<\/td>\n",
       "      <td>33.29<\/td>\n",
       "    <\/tr>\n",
       "    <tr>\n",
       "      <th>25%<\/th>\n",
       "      <td>NaN<\/td>\n",
       "      <td>8.77<\/td>\n",
       "      <td>NaN<\/td>\n",
       "      <td>0.03<\/td>\n",
       "      <td>NaN<\/td>\n",
       "      <td>93.83<\/td>\n",
       "      <td>NaN<\/td>\n",
       "      <td>1,987.00<\/td>\n",
       "      <td>NaN<\/td>\n",
       "      <td>NaN<\/td>\n",
       "      <td>NaN<\/td>\n",
       "      <td>834.25<\/td>\n",
       "    <\/tr>\n",
       "    <tr>\n",
       "      <th>50%<\/th>\n",
       "      <td>NaN<\/td>\n",
       "      <td>12.60<\/td>\n",
       "      <td>NaN<\/td>\n",
       "      <td>0.05<\/td>\n",
       "      <td>NaN<\/td>\n",
       "      <td>143.01<\/td>\n",
       "      <td>NaN<\/td>\n",
       "      <td>1,999.00<\/td>\n",
       "      <td>NaN<\/td>\n",
       "      <td>NaN<\/td>\n",
       "      <td>NaN<\/td>\n",
       "      <td>1,794.33<\/td>\n",
       "    <\/tr>\n",
       "    <tr>\n",
       "      <th>75%<\/th>\n",
       "      <td>NaN<\/td>\n",
       "      <td>16.85<\/td>\n",
       "      <td>NaN<\/td>\n",
       "      <td>0.09<\/td>\n",
       "      <td>NaN<\/td>\n",
       "      <td>185.64<\/td>\n",
       "      <td>NaN<\/td>\n",
       "      <td>2,004.00<\/td>\n",
       "      <td>NaN<\/td>\n",
       "      <td>NaN<\/td>\n",
       "      <td>NaN<\/td>\n",
       "      <td>3,101.30<\/td>\n",
       "    <\/tr>\n",
       "    <tr>\n",
       "      <th>max<\/th>\n",
       "      <td>NaN<\/td>\n",
       "      <td>21.35<\/td>\n",
       "      <td>NaN<\/td>\n",
       "      <td>0.33<\/td>\n",
       "      <td>NaN<\/td>\n",
       "      <td>266.89<\/td>\n",
       "      <td>NaN<\/td>\n",
       "      <td>2,009.00<\/td>\n",
       "      <td>NaN<\/td>\n",
       "      <td>NaN<\/td>\n",
       "      <td>NaN<\/td>\n",
       "      <td>13,086.96<\/td>\n",
       "    <\/tr>\n",
       "  <\/tbody>\n",
       "<\/table>\n",
       "<\/div>"
      ]
     },
     "metadata":{
      
     },
     "output_type":"display_data"
    }
   ],
   "metadata":{
    "datalore":{
     "node_id":"IMBOAvMaqW00KRY0DoN6p2",
     "type":"CODE",
     "hide_input_from_viewers":false,
     "hide_output_from_viewers":false
    }
   }
  },
  {
   "cell_type":"code",
   "source":[
    "df.info()"
   ],
   "execution_count":24,
   "outputs":[
    {
     "name":"stdout",
     "text":[
      "<class 'pandas.core.frame.DataFrame'>\n",
      "RangeIndex: 8523 entries, 0 to 8522\n",
      "Data columns (total 12 columns):\n",
      " #   Column                     Non-Null Count  Dtype  \n",
      "---  ------                     --------------  -----  \n",
      " 0   Item_Identifier            8523 non-null   object \n",
      " 1   Item_Weight                7060 non-null   float64\n",
      " 2   Item_Fat_Content           8523 non-null   object \n",
      " 3   Item_Visibility            8523 non-null   float64\n",
      " 4   Item_Type                  8523 non-null   object \n",
      " 5   Item_MRP                   8523 non-null   float64\n",
      " 6   Outlet_Identifier          8523 non-null   object \n",
      " 7   Outlet_Establishment_Year  8523 non-null   int64  \n",
      " 8   Outlet_Size                6113 non-null   object \n",
      " 9   Outlet_Location_Type       8523 non-null   object \n",
      " 10  Outlet_Type                8523 non-null   object \n",
      " 11  Item_Outlet_Sales          8523 non-null   float64\n",
      "dtypes: float64(4), int64(1), object(7)\n",
      "memory usage: 799.2+ KB\n"
     ],
     "output_type":"stream"
    }
   ],
   "metadata":{
    "datalore":{
     "node_id":"rUNaOifxNAQM9wcoPqV3YY",
     "type":"CODE",
     "hide_input_from_viewers":false,
     "hide_output_from_viewers":false
    }
   }
  },
  {
   "cell_type":"markdown",
   "source":[
    "### MATPLOTLIB"
   ],
   "attachments":{
    
   },
   "metadata":{
    "datalore":{
     "node_id":"vOo4sc98XXuQA3EAZx0yyn",
     "type":"MD",
     "hide_input_from_viewers":false,
     "hide_output_from_viewers":false
    }
   }
  },
  {
   "cell_type":"code",
   "source":[
    "import matplotlib"
   ],
   "execution_count":25,
   "outputs":[
    
   ],
   "metadata":{
    "datalore":{
     "node_id":"XUaun5VZxkVzhY32u5HC33",
     "type":"CODE",
     "hide_input_from_viewers":false,
     "hide_output_from_viewers":false
    }
   }
  },
  {
   "cell_type":"code",
   "source":[
    "matplotlib.__version__"
   ],
   "execution_count":26,
   "outputs":[
    {
     "data":{
      "text\/plain":[
       "'3.3.4'"
      ]
     },
     "metadata":{
      
     },
     "output_type":"display_data"
    }
   ],
   "metadata":{
    "datalore":{
     "node_id":"hHSR1JQ0ODlMViJzyLMruB",
     "type":"CODE",
     "hide_input_from_viewers":false,
     "hide_output_from_viewers":false
    }
   }
  },
  {
   "cell_type":"code",
   "source":[
    "import matplotlib.pyplot as plt\n",
    "import numpy as np\n",
    "import pandas as pd\n",
    "%matplotlib inline"
   ],
   "execution_count":27,
   "outputs":[
    
   ],
   "metadata":{
    "datalore":{
     "node_id":"ab7WOBl05KwxN6PdP9WY5b",
     "type":"CODE",
     "hide_input_from_viewers":false,
     "hide_output_from_viewers":false
    }
   }
  },
  {
   "cell_type":"code",
   "source":[
    "#line plot\n",
    "x = np.linspace(0,10,1000)\n",
    "\n",
    "plt.plot(x, np.cos(x), label='cosine')"
   ],
   "execution_count":30,
   "outputs":[
    {
     "data":{
      "text\/plain":[
       "[<matplotlib.lines.Line2D at 0x7f5f674c8730>]"
      ]
     },
     "metadata":{
      
     },
     "output_type":"display_data"
    },
    {
     "data":{
      
     },
     "metadata":{
      
     },
     "output_type":"display_data"
    }
   ],
   "metadata":{
    "datalore":{
     "node_id":"VhnByO98g47Nf95srpQLFG",
     "type":"CODE",
     "hide_input_from_viewers":false,
     "hide_output_from_viewers":false
    }
   }
  },
  {
   "cell_type":"code",
   "source":[
    "data = pd.DataFrame(\n",
    "                    [[1,2,3],\n",
    "                    [4,5,6],\n",
    "                    [7,8,9]]\n",
    ")"
   ],
   "execution_count":37,
   "outputs":[
    
   ],
   "metadata":{
    "datalore":{
     "node_id":"gCuodQ2LoRVsG8B1dtdMfl",
     "type":"CODE",
     "hide_input_from_viewers":false,
     "hide_output_from_viewers":false
    }
   }
  },
  {
   "cell_type":"code",
   "source":[
    "data"
   ],
   "execution_count":38,
   "outputs":[
    {
     "data":{
      "text\/html":[
       "<div>\n",
       "<style scoped>\n",
       "    .dataframe tbody tr th:only-of-type {\n",
       "        vertical-align: middle;\n",
       "    }\n",
       "\n",
       "    .dataframe tbody tr th {\n",
       "        vertical-align: top;\n",
       "    }\n",
       "\n",
       "    .dataframe thead th {\n",
       "        text-align: right;\n",
       "    }\n",
       "<\/style>\n",
       "<table border=\"1\" class=\"dataframe\">\n",
       "  <thead>\n",
       "    <tr style=\"text-align: right;\">\n",
       "      <th><\/th>\n",
       "      <th>0<\/th>\n",
       "      <th>1<\/th>\n",
       "      <th>2<\/th>\n",
       "    <\/tr>\n",
       "  <\/thead>\n",
       "  <tbody>\n",
       "    <tr>\n",
       "      <th>0<\/th>\n",
       "      <td>1<\/td>\n",
       "      <td>2<\/td>\n",
       "      <td>3<\/td>\n",
       "    <\/tr>\n",
       "    <tr>\n",
       "      <th>1<\/th>\n",
       "      <td>4<\/td>\n",
       "      <td>5<\/td>\n",
       "      <td>6<\/td>\n",
       "    <\/tr>\n",
       "    <tr>\n",
       "      <th>2<\/th>\n",
       "      <td>7<\/td>\n",
       "      <td>8<\/td>\n",
       "      <td>9<\/td>\n",
       "    <\/tr>\n",
       "  <\/tbody>\n",
       "<\/table>\n",
       "<\/div>"
      ]
     },
     "metadata":{
      
     },
     "output_type":"display_data"
    }
   ],
   "metadata":{
    "datalore":{
     "node_id":"14RjzxA4FcxKqIVPo6tM3g",
     "type":"CODE",
     "hide_input_from_viewers":false,
     "hide_output_from_viewers":false
    }
   }
  },
  {
   "cell_type":"code",
   "source":[
    "data.plot(kind = 'bar', stacked = True)"
   ],
   "execution_count":39,
   "outputs":[
    {
     "data":{
      "text\/plain":[
       "<AxesSubplot:>"
      ]
     },
     "metadata":{
      
     },
     "output_type":"display_data"
    },
    {
     "data":{
      
     },
     "metadata":{
      
     },
     "output_type":"display_data"
    }
   ],
   "metadata":{
    "datalore":{
     "node_id":"ztPAHObTSx6toQjfihiWlm",
     "type":"CODE",
     "hide_input_from_viewers":false,
     "hide_output_from_viewers":false
    }
   }
  },
  {
   "cell_type":"code",
   "source":[
    
   ],
   "execution_count":null,
   "outputs":[
    
   ],
   "metadata":{
    "datalore":{
     "node_id":"RjI5MYlASRrBvY2o6gbN6r",
     "type":"CODE",
     "hide_input_from_viewers":false,
     "hide_output_from_viewers":false
    }
   }
  }
 ],
 "metadata":{
  "kernelspec":{
   "display_name":"Python",
   "language":"python",
   "name":"python"
  },
  "datalore":{
   "version":1,
   "computation_mode":"JUPYTER",
   "packages":[
    
   ]
  }
 },
 "nbformat":4,
 "nbformat_minor":4
}