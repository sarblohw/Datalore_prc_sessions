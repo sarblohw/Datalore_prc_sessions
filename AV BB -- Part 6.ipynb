{
 "cells":[
  {
   "cell_type":"code",
   "source":[
    "# using lambda with the filter function\n",
    "# sort, filter, reduce, map"
   ],
   "execution_count":2,
   "outputs":[
    
   ],
   "metadata":{
    "datalore":{
     "node_id":"qqXy5SZQ6JPbQ5L4pQlP22",
     "type":"CODE",
     "hide_input_from_viewers":false,
     "hide_output_from_viewers":false
    }
   }
  },
  {
   "cell_type":"code",
   "source":[
    "original_list = [5,12,34,18,17]\n",
    "list(filter(lambda x: x%2 != 0, original_list))"
   ],
   "execution_count":3,
   "outputs":[
    {
     "data":{
      "text\/plain":[
       "[5, 17]"
      ]
     },
     "metadata":{
      
     },
     "output_type":"display_data"
    }
   ],
   "metadata":{
    "datalore":{
     "node_id":"n0Fr5k37zaHJArWfMAGT1A",
     "type":"CODE",
     "hide_input_from_viewers":false,
     "hide_output_from_viewers":false
    }
   }
  },
  {
   "cell_type":"code",
   "source":[
    "list(filter(lambda s: s%5 == 0, original_list))"
   ],
   "execution_count":4,
   "outputs":[
    {
     "data":{
      "text\/plain":[
       "[5]"
      ]
     },
     "metadata":{
      
     },
     "output_type":"display_data"
    }
   ],
   "metadata":{
    "datalore":{
     "node_id":"W9xuXgEpiP80ETb0edoJbf",
     "type":"CODE",
     "hide_input_from_viewers":false,
     "hide_output_from_viewers":false
    }
   }
  },
  {
   "cell_type":"code",
   "source":[
    "tst = ['Suminder Singh', 'Manju Singh', 'Ujjwal Seth', 'Tahera Fatima', 'Saheb Bedi', 'Soon Juk Thao']"
   ],
   "execution_count":7,
   "outputs":[
    
   ],
   "metadata":{
    "datalore":{
     "node_id":"eKIgH3gtZfNPaZhty8pW2e",
     "type":"CODE",
     "hide_input_from_viewers":false,
     "hide_output_from_viewers":false
    }
   }
  },
  {
   "cell_type":"code",
   "source":[
    "lt = list(filter(lambda x: x[0].lower() == 's', tst))"
   ],
   "execution_count":15,
   "outputs":[
    
   ],
   "metadata":{
    "datalore":{
     "node_id":"HjbC3VF34H6l0QD30a4GMu",
     "type":"CODE",
     "hide_input_from_viewers":false,
     "hide_output_from_viewers":false
    }
   }
  },
  {
   "cell_type":"code",
   "source":[
    "# used lambda function with filter to pass a filtered list of people with name starting with 's', then used another lambda to sort by first letter of the last name\n",
    "sorted(filter(lambda x: x[0].lower() == 's', tst), key = lambda s: s.split(' ')[-1][0].lower(), reverse = False)"
   ],
   "execution_count":29,
   "outputs":[
    {
     "data":{
      "text\/plain":[
       "['Saheb Bedi', 'Suminder Singh', 'Soon Juk Thao']"
      ]
     },
     "metadata":{
      
     },
     "output_type":"display_data"
    }
   ],
   "metadata":{
    "datalore":{
     "node_id":"aFrFM2Gq13kATrWHgQBIoU",
     "type":"CODE",
     "hide_input_from_viewers":false,
     "hide_output_from_viewers":false
    }
   }
  },
  {
   "cell_type":"markdown",
   "source":[
    "#### Map"
   ],
   "attachments":{
    
   },
   "metadata":{
    "datalore":{
     "node_id":"yoscWPPDDPcAI7RJdhrNQc",
     "type":"MD",
     "hide_input_from_viewers":false,
     "hide_output_from_viewers":false
    }
   }
  },
  {
   "cell_type":"code",
   "source":[
    "list(map(lambda c: c**2, original_list))"
   ],
   "execution_count":30,
   "outputs":[
    {
     "data":{
      "text\/plain":[
       "[25, 144, 1156, 324, 289]"
      ]
     },
     "metadata":{
      
     },
     "output_type":"display_data"
    }
   ],
   "metadata":{
    "datalore":{
     "node_id":"CRQvk1Ejux9DVfhng2NXAz",
     "type":"CODE",
     "hide_input_from_viewers":false,
     "hide_output_from_viewers":false
    }
   }
  },
  {
   "cell_type":"code",
   "source":[
    "# using the map function using lambda to pass squares of a list and then another lambda to define key for sorting which is last digit of each number in the list\n",
    "sorted(map(lambda f: f**2, original_list), key = lambda x: str(x)[-1], reverse = False)"
   ],
   "execution_count":31,
   "outputs":[
    {
     "data":{
      "text\/plain":[
       "[144, 324, 25, 1156, 289]"
      ]
     },
     "metadata":{
      
     },
     "output_type":"display_data"
    }
   ],
   "metadata":{
    "datalore":{
     "node_id":"QSfFYE5t2y8DaKe1pKa6Jq",
     "type":"CODE",
     "hide_input_from_viewers":false,
     "hide_output_from_viewers":false
    }
   }
  },
  {
   "cell_type":"code",
   "source":[
    "# pass names starting with 's' and then make all names lower case and then sort reverse by last name\n",
    "sorted(map(lambda x: x.lower(), filter(lambda y: y[0].lower() == 's', tst)), key = lambda f: f.split(' ')[-1][0].lower(), reverse = True)"
   ],
   "execution_count":32,
   "outputs":[
    {
     "data":{
      "text\/plain":[
       "['soon juk thao', 'suminder singh', 'saheb bedi']"
      ]
     },
     "metadata":{
      
     },
     "output_type":"display_data"
    }
   ],
   "metadata":{
    "datalore":{
     "node_id":"8hxdaCByJc9dCKyetr9IDv",
     "type":"CODE",
     "hide_input_from_viewers":false,
     "hide_output_from_viewers":false
    }
   }
  },
  {
   "cell_type":"markdown",
   "source":[
    "#### Reduce\n",
    "* import from functools\n",
    "* takes pairs as arguement, performs the function stated in pairs in sequence\n",
    "* abcde <- func frist performed on a,b... then the result forms a pair with c and so on"
   ],
   "attachments":{
    
   },
   "metadata":{
    "datalore":{
     "node_id":"EJflSWkKLOVAfSMsQXNmZt",
     "type":"MD",
     "hide_input_from_viewers":false,
     "hide_output_from_viewers":false
    }
   }
  },
  {
   "cell_type":"code",
   "source":[
    "from functools import reduce"
   ],
   "execution_count":33,
   "outputs":[
    
   ],
   "metadata":{
    "datalore":{
     "node_id":"7Vb8l6pz6mkDJP66RSuswb",
     "type":"CODE",
     "hide_input_from_viewers":false,
     "hide_output_from_viewers":false
    }
   }
  },
  {
   "cell_type":"code",
   "source":[
    "tst = [1,2,3,4,5,6,7,8,9]"
   ],
   "execution_count":34,
   "outputs":[
    
   ],
   "metadata":{
    "datalore":{
     "node_id":"8XpNqlcmzSDHtj3gAzAErN",
     "type":"CODE",
     "hide_input_from_viewers":false,
     "hide_output_from_viewers":false
    }
   }
  },
  {
   "cell_type":"code",
   "source":[
    "cumulative_sum = reduce(lambda x,y: x+y, tst)"
   ],
   "execution_count":37,
   "outputs":[
    
   ],
   "metadata":{
    "datalore":{
     "node_id":"ARQ45p0f4hE6B9HeRWootS",
     "type":"CODE",
     "hide_input_from_viewers":false,
     "hide_output_from_viewers":false
    }
   }
  },
  {
   "cell_type":"code",
   "source":[
    "cumulative_sum"
   ],
   "execution_count":38,
   "outputs":[
    {
     "data":{
      "text\/plain":[
       "45"
      ]
     },
     "metadata":{
      
     },
     "output_type":"display_data"
    }
   ],
   "metadata":{
    "datalore":{
     "node_id":"YN8Ud7TPmxDg6vMgThh1TO",
     "type":"CODE",
     "hide_input_from_viewers":false,
     "hide_output_from_viewers":false
    }
   }
  },
  {
   "cell_type":"code",
   "source":[
    "max_number = reduce(lambda a,b: a if a>b else b, tst)"
   ],
   "execution_count":39,
   "outputs":[
    
   ],
   "metadata":{
    "datalore":{
     "node_id":"JzPBGKhDxsOdTzfGYmJ7H5",
     "type":"CODE",
     "hide_input_from_viewers":false,
     "hide_output_from_viewers":false
    }
   }
  },
  {
   "cell_type":"code",
   "source":[
    "max_number"
   ],
   "execution_count":40,
   "outputs":[
    {
     "data":{
      "text\/plain":[
       "9"
      ]
     },
     "metadata":{
      
     },
     "output_type":"display_data"
    }
   ],
   "metadata":{
    "datalore":{
     "node_id":"lQJK8GgwsGm1BrYij86LzV",
     "type":"CODE",
     "hide_input_from_viewers":false,
     "hide_output_from_viewers":false
    }
   }
  },
  {
   "cell_type":"code",
   "source":[
    "max(tst)"
   ],
   "execution_count":41,
   "outputs":[
    {
     "data":{
      "text\/plain":[
       "9"
      ]
     },
     "metadata":{
      
     },
     "output_type":"display_data"
    }
   ],
   "metadata":{
    "datalore":{
     "node_id":"QszZPoF6eE8WSpvwrdwo9U",
     "type":"CODE",
     "hide_input_from_viewers":false,
     "hide_output_from_viewers":false
    }
   }
  }
 ],
 "metadata":{
  "kernelspec":{
   "display_name":"Python",
   "language":"python",
   "name":"python"
  },
  "datalore":{
   "version":1,
   "computation_mode":"JUPYTER",
   "packages":[
    
   ]
  }
 },
 "nbformat":4,
 "nbformat_minor":4
}