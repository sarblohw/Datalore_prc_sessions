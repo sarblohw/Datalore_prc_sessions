{
 "cells":[
  {
   "cell_type":"code",
   "source":[
    "import pandas as pd\n",
    "import numpy as np\n",
    "from matplotlib import pyplot as plt"
   ],
   "execution_count":2,
   "outputs":[
    
   ],
   "metadata":{
    "datalore":{
     "node_id":"2HPyHgymwxX3PUlKXj0O9s",
     "type":"CODE",
     "hide_input_from_viewers":false,
     "hide_output_from_viewers":false
    }
   }
  },
  {
   "cell_type":"code",
   "source":[
    "df = pd.read_csv('survey_results_public.csv')\n",
    "df_schema = pd.read_csv('survey_results_schema.csv')"
   ],
   "execution_count":29,
   "outputs":[
    
   ],
   "metadata":{
    "datalore":{
     "node_id":"CGfbp61rzjyV9qW0GAjF0v",
     "type":"CODE",
     "hide_input_from_viewers":false,
     "hide_output_from_viewers":false
    }
   }
  },
  {
   "cell_type":"code",
   "source":[
    "dev_x = [i for i in range(25, 35)]"
   ],
   "execution_count":30,
   "outputs":[
    
   ],
   "metadata":{
    "datalore":{
     "node_id":"Grcqq5UEu0NFWAN8zpynZE",
     "type":"CODE",
     "hide_input_from_viewers":false,
     "hide_output_from_viewers":false
    }
   }
  },
  {
   "cell_type":"code",
   "source":[
    "dev_x"
   ],
   "execution_count":31,
   "outputs":[
    {
     "data":{
      "text\/plain":[
       "[25, 26, 27, 28, 29, 30, 31, 32, 33, 34]"
      ]
     },
     "metadata":{
      
     },
     "output_type":"display_data"
    }
   ],
   "metadata":{
    "datalore":{
     "node_id":"KhBrRYm4G61dl6jf9KZ7No",
     "type":"CODE",
     "hide_input_from_viewers":false,
     "hide_output_from_viewers":false
    }
   }
  },
  {
   "cell_type":"code",
   "source":[
    "dev_y = [int(str(i).replace(str(i)[-2:],'00')) for i in np.random.randint(24000, 78000, 10)]"
   ],
   "execution_count":32,
   "outputs":[
    
   ],
   "metadata":{
    "datalore":{
     "node_id":"rhdaqK6uc07urdujzr2QlM",
     "type":"CODE",
     "hide_input_from_viewers":false,
     "hide_output_from_viewers":false
    }
   }
  },
  {
   "cell_type":"code",
   "source":[
    "dev_y"
   ],
   "execution_count":33,
   "outputs":[
    {
     "data":{
      "text\/plain":[
       "[40200, 75100, 73700, 58700, 50300, 39200, 44900, 65600, 66600, 0]"
      ]
     },
     "metadata":{
      
     },
     "output_type":"display_data"
    }
   ],
   "metadata":{
    "datalore":{
     "node_id":"nEiXVQyD7RToXBnbPXD4Hb",
     "type":"CODE",
     "hide_input_from_viewers":false,
     "hide_output_from_viewers":false
    }
   }
  },
  {
   "cell_type":"code",
   "source":[
    "plt.plot(dev_x, dev_y)\n",
    "plt.title('Median Salary(USD) by Age')\n",
    "plt.xlabel('Age')\n",
    "plt.ylabel('Median Salary')\n",
    "plt.show()"
   ],
   "execution_count":36,
   "outputs":[
    {
     "data":{
      
     },
     "metadata":{
      
     },
     "output_type":"display_data"
    }
   ],
   "metadata":{
    "datalore":{
     "node_id":"z6vfzMO8CoGXLUehJpQBNJ",
     "type":"CODE",
     "hide_input_from_viewers":false,
     "hide_output_from_viewers":false
    }
   }
  },
  {
   "cell_type":"code",
   "source":[
    "dev_y_2 = [int(str(i).replace(str(i)[-2:],'00')) for i in np.random.randint(24000, 78000, 10)]"
   ],
   "execution_count":37,
   "outputs":[
    
   ],
   "metadata":{
    "datalore":{
     "node_id":"Leu0gEl9auiD55ZcKhfPQP",
     "type":"CODE",
     "hide_input_from_viewers":false,
     "hide_output_from_viewers":false
    }
   }
  },
  {
   "cell_type":"code",
   "source":[
    "dev_y_2"
   ],
   "execution_count":38,
   "outputs":[
    {
     "data":{
      "text\/plain":[
       "[69600, 37800, 68500, 41900, 30300, 20000, 66700, 29100, 33500, 55600]"
      ]
     },
     "metadata":{
      
     },
     "output_type":"display_data"
    }
   ],
   "metadata":{
    "datalore":{
     "node_id":"FQ485JmiWqpfLnPkqC0wAK",
     "type":"CODE",
     "hide_input_from_viewers":false,
     "hide_output_from_viewers":false
    }
   }
  },
  {
   "cell_type":"code",
   "source":[
    "plt.plot(dev_x, dev_y, label = \"All Devs\")\n",
    "plt.plot(dev_x, dev_y_2, label= \"PyDevs\")\n",
    "plt.xlabel('Age')\n",
    "plt.ylabel('Median Salary')\n",
    "plt.legend()\n",
    "plt.title('Median Salary vs Age')\n",
    "plt.show()"
   ],
   "execution_count":39,
   "outputs":[
    {
     "data":{
      
     },
     "metadata":{
      
     },
     "output_type":"display_data"
    }
   ],
   "metadata":{
    "datalore":{
     "node_id":"g4MVwjqQYi7YkkSbNGrUa4",
     "type":"CODE",
     "hide_input_from_viewers":false,
     "hide_output_from_viewers":false
    }
   }
  },
  {
   "cell_type":"code",
   "source":[
    "plt.plot(dev_x, dev_y, 'k--', label = \"All Devs\") #arguement sequence for formatting - marker, line, color\n",
    "plt.plot(dev_x, dev_y_2, 'b', label= \"PyDevs\")\n",
    "plt.xlabel('Age')\n",
    "plt.ylabel('Median Salary')\n",
    "plt.legend()\n",
    "plt.title('Median Salary vs Age')\n",
    "plt.show()"
   ],
   "execution_count":42,
   "outputs":[
    {
     "data":{
      
     },
     "metadata":{
      
     },
     "output_type":"display_data"
    }
   ],
   "metadata":{
    "datalore":{
     "node_id":"G0ujX9jhBj61hDin7frGTf",
     "type":"CODE",
     "hide_input_from_viewers":false,
     "hide_output_from_viewers":false
    }
   }
  },
  {
   "cell_type":"code",
   "source":[
    "plt.plot(dev_x, dev_y, '.--c', label = \"All Devs\") #format string sequence - marker, line, color\n",
    "plt.plot(dev_x, dev_y_2, 'x-b', label= \"PyDevs\")\n",
    "plt.xlabel('Age')\n",
    "plt.ylabel('Median Salary')\n",
    "plt.legend()\n",
    "plt.title('Median Salary vs Age')\n",
    "plt.show()"
   ],
   "execution_count":45,
   "outputs":[
    {
     "data":{
      
     },
     "metadata":{
      
     },
     "output_type":"display_data"
    }
   ],
   "metadata":{
    "datalore":{
     "node_id":"yM24y4rx12gyYyIdNVlumc",
     "type":"CODE",
     "hide_input_from_viewers":false,
     "hide_output_from_viewers":false
    }
   }
  },
  {
   "cell_type":"code",
   "source":[
    "plt.plot(dev_x, dev_y, color = 'b', marker = 'x', linestyle = '--', label = \"All Devs\")\n",
    "plt.plot(dev_x, dev_y_2, 'b', label= \"PyDevs\")\n",
    "plt.xlabel('Age')\n",
    "plt.ylabel('Median Salary')\n",
    "plt.legend()\n",
    "plt.title('Median Salary vs Age')\n",
    "plt.show()"
   ],
   "execution_count":49,
   "outputs":[
    {
     "data":{
      
     },
     "metadata":{
      
     },
     "output_type":"display_data"
    }
   ],
   "metadata":{
    "datalore":{
     "node_id":"iTtibv4kSEUddUvoWUTY7Z",
     "type":"CODE",
     "hide_input_from_viewers":false,
     "hide_output_from_viewers":false
    }
   }
  },
  {
   "cell_type":"code",
   "source":[
    "plt.plot(dev_x, dev_y, 'k--', label = \"All Devs\") #arguement sequence for formatting - marker, line, color\n",
    "plt.plot(dev_x, dev_y_2, color = '#444444', label= \"PyDevs\") #hecode for colors\n",
    "plt.xlabel('Age')\n",
    "plt.ylabel('Median Salary')\n",
    "plt.legend()\n",
    "plt.title('Median Salary vs Age')\n",
    "plt.show()"
   ],
   "execution_count":53,
   "outputs":[
    {
     "data":{
      
     },
     "metadata":{
      
     },
     "output_type":"display_data"
    }
   ],
   "metadata":{
    "datalore":{
     "node_id":"iwhWf2xLiJrB6GZLn16VEK",
     "type":"CODE",
     "hide_input_from_viewers":false,
     "hide_output_from_viewers":false
    }
   }
  },
  {
   "cell_type":"code",
   "source":[
    "dev_js = [int(str(i).replace(str(i)[-2:],'00')) for i in np.random.randint(24000, 78000, 10)]\n",
    "\n",
    "plt.plot(dev_x, dev_y, 'k--', label = \"All Devs\")\n",
    "plt.plot(dev_x, dev_y_2, 'b', label= \"PyDevs\")\n",
    "plt.plot(dev_x, dev_js, 'o-.y', label = 'JavascriptDevs')\n",
    "plt.xlabel('Age')\n",
    "plt.ylabel('Median Salary')\n",
    "plt.legend()\n",
    "plt.title('Median Salary vs Age')\n",
    "plt.show()\n",
    "\n",
    "# layers on the plot are made basis order of execution"
   ],
   "execution_count":55,
   "outputs":[
    {
     "data":{
      
     },
     "metadata":{
      
     },
     "output_type":"display_data"
    }
   ],
   "metadata":{
    "datalore":{
     "node_id":"bKiYtCdBChOKoLlH1ToO2H",
     "type":"CODE",
     "hide_input_from_viewers":false,
     "hide_output_from_viewers":false
    }
   }
  },
  {
   "cell_type":"code",
   "source":[
    "plt.plot(dev_x, dev_y, 'k--', label = \"All Devs\")\n",
    "plt.plot(dev_x, dev_y_2, 'b', linewidth = 2.5, label= \"PyDevs\")\n",
    "plt.plot(dev_x, dev_js, 'o-.y', label = 'JavascriptDevs')\n",
    "plt.xlabel('Age')\n",
    "plt.ylabel('Median Salary')\n",
    "plt.legend()\n",
    "plt.title('Median Salary vs Age')\n",
    "plt.grid(True)\n",
    "plt.tight_layout()\n",
    "plt.show()"
   ],
   "execution_count":57,
   "outputs":[
    {
     "data":{
      
     },
     "metadata":{
      
     },
     "output_type":"display_data"
    }
   ],
   "metadata":{
    "datalore":{
     "node_id":"orTxTfqH6ePfZ00BtQCYIj",
     "type":"CODE",
     "hide_input_from_viewers":false,
     "hide_output_from_viewers":false
    }
   }
  },
  {
   "cell_type":"code",
   "source":[
    "plt.style.available"
   ],
   "execution_count":58,
   "outputs":[
    {
     "data":{
      "text\/plain":[
       "['Solarize_Light2',\n",
       " '_classic_test_patch',\n",
       " 'bmh',\n",
       " 'classic',\n",
       " 'dark_background',\n",
       " 'fast',\n",
       " 'fivethirtyeight',\n",
       " 'ggplot',\n",
       " 'grayscale',\n",
       " 'seaborn',\n",
       " 'seaborn-bright',\n",
       " 'seaborn-colorblind',\n",
       " 'seaborn-dark',\n",
       " 'seaborn-dark-palette',\n",
       " 'seaborn-darkgrid',\n",
       " 'seaborn-deep',\n",
       " 'seaborn-muted',\n",
       " 'seaborn-notebook',\n",
       " 'seaborn-paper',\n",
       " 'seaborn-pastel',\n",
       " 'seaborn-poster',\n",
       " 'seaborn-talk',\n",
       " 'seaborn-ticks',\n",
       " 'seaborn-white',\n",
       " 'seaborn-whitegrid',\n",
       " 'tableau-colorblind10']"
      ]
     },
     "metadata":{
      
     },
     "output_type":"display_data"
    }
   ],
   "metadata":{
    "datalore":{
     "node_id":"f5jRFJ3PkkwpLSdAgzab1c",
     "type":"CODE",
     "hide_input_from_viewers":false,
     "hide_output_from_viewers":false
    }
   }
  },
  {
   "cell_type":"code",
   "source":[
    "plt.style.use('fivethirtyeight')\n",
    "\n",
    "plt.plot(dev_x, dev_y, 'k--', label = \"All Devs\")\n",
    "plt.plot(dev_x, dev_y_2, 'b', linewidth = 2.5, label= \"PyDevs\")\n",
    "plt.plot(dev_x, dev_js, 'o-.y', label = 'JavascriptDevs')\n",
    "plt.xlabel('Age')\n",
    "plt.ylabel('Median Salary')\n",
    "plt.legend()\n",
    "plt.title('Median Salary vs Age')\n",
    "plt.grid(True)\n",
    "plt.tight_layout()\n",
    "plt.show()"
   ],
   "execution_count":59,
   "outputs":[
    {
     "data":{
      
     },
     "metadata":{
      
     },
     "output_type":"display_data"
    }
   ],
   "metadata":{
    "datalore":{
     "node_id":"hZddOnsGJAtl2rJXV1FTsU",
     "type":"CODE",
     "hide_input_from_viewers":false,
     "hide_output_from_viewers":false
    }
   }
  },
  {
   "cell_type":"code",
   "source":[
    "plt.plot(dev_x, dev_y, 'k--', label = \"All Devs\")\n",
    "plt.plot(dev_x, dev_y_2, linewidth = 2.5, label= \"PyDevs\")\n",
    "plt.plot(dev_x, dev_js, label = 'JavascriptDevs')\n",
    "plt.xlabel('Age')\n",
    "plt.ylabel('Median Salary')\n",
    "plt.legend()\n",
    "plt.title('Median Salary vs Age')\n",
    "plt.tight_layout()\n",
    "plt.show()\n",
    "\n",
    "#538 style being used from prev cell"
   ],
   "execution_count":60,
   "outputs":[
    {
     "data":{
      
     },
     "metadata":{
      
     },
     "output_type":"display_data"
    }
   ],
   "metadata":{
    "datalore":{
     "node_id":"U7269KZMToH6hA46OLTvhM",
     "type":"CODE",
     "hide_input_from_viewers":false,
     "hide_output_from_viewers":false
    }
   }
  },
  {
   "cell_type":"code",
   "source":[
    "plt.xkcd()\n",
    "plt.plot(dev_x, dev_y, 'k--', label = \"All Devs\")\n",
    "plt.plot(dev_x, dev_y_2, linewidth = 2.5, label= \"PyDevs\")\n",
    "plt.plot(dev_x, dev_js, label = 'JavascriptDevs')\n",
    "plt.xlabel('Age')\n",
    "plt.ylabel('Median Salary')\n",
    "plt.legend()\n",
    "plt.title('Median Salary vs Age')\n",
    "plt.tight_layout()\n",
    "plt.show()\n",
    "plt.savefig('plt.png')"
   ],
   "execution_count":63,
   "outputs":[
    {
     "data":{
      
     },
     "metadata":{
      
     },
     "output_type":"display_data"
    },
    {
     "data":{
      "text\/plain":[
       "<Figure size 432x288 with 0 Axes>"
      ]
     },
     "metadata":{
      
     },
     "output_type":"display_data"
    }
   ],
   "metadata":{
    "datalore":{
     "node_id":"XunkVycPeAJ7OHDVynYLrE",
     "type":"CODE",
     "hide_input_from_viewers":false,
     "hide_output_from_viewers":false
    }
   }
  }
 ],
 "metadata":{
  "kernelspec":{
   "display_name":"Python",
   "language":"python",
   "name":"python"
  },
  "datalore":{
   "version":1,
   "computation_mode":"JUPYTER",
   "package_manager":"pip",
   "base_environment":"default",
   "packages":[
    
   ]
  }
 },
 "nbformat":4,
 "nbformat_minor":4
}